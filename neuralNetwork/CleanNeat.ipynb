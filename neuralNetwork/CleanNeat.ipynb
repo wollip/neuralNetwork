{
 "cells": [
  {
   "cell_type": "code",
   "execution_count": 1,
   "metadata": {
    "collapsed": true
   },
   "outputs": [],
   "source": [
    "import random\n",
    "import numpy as np\n",
    "import matplotlib.pyplot as plt\n",
    "import string\n",
    "import math\n",
    "%matplotlib inline"
   ]
  },
  {
   "cell_type": "code",
   "execution_count": 2,
   "metadata": {
    "collapsed": true
   },
   "outputs": [],
   "source": [
    "#data storage\n",
    "inputs = [[1,0],[0,0],[0,1],[1,1]]\n",
    "outputs = [1,0,1,0]"
   ]
  },
  {
   "cell_type": "code",
   "execution_count": 3,
   "metadata": {
    "collapsed": true
   },
   "outputs": [],
   "source": [
    "# location of different normalizing operations\n",
    "def noChange(n):\n",
    "    return n\n",
    "\n",
    "def sigmoid( x):\n",
    "    return 1/(1+np.exp(-x))\n",
    "\n",
    "def abstanh(x):\n",
    "    return math.fabs(math.tanh(x))\n",
    "\n",
    "def absolute(x):\n",
    "    return math.fabs(x)"
   ]
  },
  {
   "cell_type": "code",
   "execution_count": 4,
   "metadata": {
    "collapsed": true
   },
   "outputs": [],
   "source": [
    "class Individual(object):\n",
    "    def __init__(self, instructions, name):\n",
    "        \n",
    "        self.instructions = instructions\n",
    "        self.name = name\n",
    "    \n",
    "    def predict(self, oneInputSet):\n",
    "        nodeVals = oneInputSet[:] + [0]*(len(nodes)-len(oneInputSet))\n",
    "        changedNodes = [False]*len(nodes)\n",
    "        \n",
    "        for instruction in self.instructions:\n",
    "            \n",
    "            if not changedNodes[instruction[0]]:            \n",
    "                changedNodes[instruction[0]] = True\n",
    "                \n",
    "                #change this for different type of functions\n",
    "                nodeVals[instruction[0]] = absolute(nodeVals[instruction[0]])\n",
    "                \n",
    "            nodeVals[instruction[1]] += nodeVals[instruction[0]] * instruction[2]\n",
    "        \n",
    "        return absolute(nodeVals[outputNode])\n",
    "    \n",
    "    def fitness(self, inputs, output):   \n",
    "        store = 0\n",
    "        for index in range(len(inputs)):\n",
    "            store += (output[index] - self.predict(inputs[index]))**2\n",
    "        self.fitVal = store**0.5\n",
    "        return self.fitVal "
   ]
  },
  {
   "cell_type": "code",
   "execution_count": 145,
   "metadata": {
    "collapsed": false
   },
   "outputs": [],
   "source": [
    "class Breed(object):\n",
    "    \n",
    "    def __init__(self, populationSize, inputs, outputs, mutationLevel, evolvulationLevel, retainPercentage):\n",
    "        self.populationSize = populationSize\n",
    "        self.retainSize = int(populationSize*retainPercentage)\n",
    "        \n",
    "        self.mutationLevel = mutationLevel\n",
    "        self.evolvulationLevel = evolvulationLevel\n",
    "        \n",
    "        self.inputs = inputs\n",
    "        self.outputs = outputs\n",
    "        \n",
    "        self.species = []\n",
    "        self.generationNumber = 0\n",
    "    \n",
    "\n",
    "        self.individuals = []\n",
    "        #this the conenctions can change\n",
    "        \n",
    "    def initializePopulation(self):        \n",
    "        name = list(range(len(nodes)))\n",
    "        for i in range(self.populationSize):\n",
    "            #this has to  match the length of connectionsNames\n",
    "            weights = [random.uniform(-1,1), random.uniform(-1,1)]\n",
    "            instructions = [connections[index] + [weights[index]] for index in range(len(connections))]\n",
    "            self.individuals.append(Individual(instructions, name))\n",
    "    \n",
    "    def evalPopulation(self):\n",
    "        totalFitness = 0\n",
    "        for individual in self.individuals:\n",
    "            totalFitness += individual.fitness(self.inputs, self.outputs)\n",
    "        self.GenerationFitness = totalFitness / self.populationSize\n",
    "        return self.GenerationFitness\n",
    "    \n",
    "    def weedPopulation(self):\n",
    "        self.oldGeneration = []\n",
    "        for individual in self.individuals:\n",
    "            if individual.fitVal < self.GenerationFitness:\n",
    "                self.oldGeneration.append(individual)\n",
    "        \n",
    "        self.oldGeneration = sorted(self.oldGeneration, key = lambda cell: cell.fitVal)\n",
    "        \n",
    "        while len(self.oldGeneration) < self.retainSize:\n",
    "            self.oldGeneration.append(self.individuals[random.randint(0,len(self.individuals)-1)])\n",
    "        \n",
    "        while len(self.oldGeneration)> self.retainSize:\n",
    "            del self.oldGeneration[-1]\n",
    "            del self.oldGeneration[random.randint(0,len(self.oldGeneration)-1)]\n",
    "        \n",
    "        sumed = 0\n",
    "        for individual in self.oldGeneration:\n",
    "            sumed += individual.fitVal\n",
    "        self.oldAVG = sumed / len(self.oldGeneration)\n",
    "    \n",
    "    def breed(self):\n",
    "        \n",
    "        \n",
    "        if random.random() <  self.evolvulationLevel:\n",
    "            print('***************we are evolving******************')\n",
    "            self.evolve()\n",
    "        self.newGeneration = self.oldGeneration[:]\n",
    "        self.addMutants()\n",
    "        self.mate()\n",
    "        self.individuals = self.newGeneration\n",
    "    \n",
    "    def addMutants(self):\n",
    "        for individual in self.oldGeneration:\n",
    "            if random.random() < self.mutationLevel:\n",
    "                newInstructions = [x[:] for x in individual.instructions]\n",
    "                newInstructions[random.randint(0,len(newInstructions)-1)][2] = random.uniform(-1,1)\n",
    "                \n",
    "                self.newGeneration.append(Individual(newInstructions, individual.name))\n",
    "    #### mate needs to make sure the instructions match up\n",
    "    def mate(self):\n",
    "        #print(\"mating starting\")\n",
    "        while len(self.newGeneration) < self.populationSize:\n",
    "            father = self.oldGeneration[random.randint(0, len(self.oldGeneration)-1)]\n",
    "            mother = self.newGeneration[random.randint(0, len(self.newGeneration)-1)]\n",
    "            if father is not mother:\n",
    "                #print(\"father is not mother\")\n",
    "                if father.name == mother.name:\n",
    "                    #print(\"father is same specie as mother\")\n",
    "                    newInstructions = [ x[:] for x in father.instructions]\n",
    "                    for index in range(len(newInstructions)):\n",
    "                        newInstructions[index][2] = 0\n",
    "                        if random.random()>0.5:\n",
    "                            \n",
    "                            for instruction in father.instructions:\n",
    "                                if instruction[:2] == newInstructions[index][:2]:\n",
    "                                    newInstructions[index][2] = instruction[2]\n",
    "                                    break\n",
    "                            \n",
    "                        else:\n",
    "                            for instruction in mother.instructions:\n",
    "                                if instruction[:2] == newInstructions[index][:2]:\n",
    "                                    newInstructions[index][2] = instruction[2]\n",
    "                                    break\n",
    "                           \n",
    "                    self.newGeneration.append(Individual(newInstructions, father.name))\n",
    " \n",
    "    def checkPath(self, valid, exploringNode, path, newConnections, checkedConnections, depth, instructions, depthToInstruction):\n",
    "        print('called to check on', exploringNode)\n",
    "        \n",
    "        if depth >= maxDepth:\n",
    "            print(\"max depth has been reached\")\n",
    "            return False\n",
    "        \n",
    "        #depth +=1\n",
    "        \n",
    "        if not valid:\n",
    "            print(\"somehow passed a not valid function\")\n",
    "            return False\n",
    "                   \n",
    "        for index in range(len(newConnections)):\n",
    "            \n",
    "            if newConnections[index][1] == exploringNode:\n",
    "                print()\n",
    "                print('current depth', depth)\n",
    "                print(exploringNode, \"connects to:\", newConnections[index][0])\n",
    "                \n",
    "                newpath = path[:] + [newConnections[index][0]]\n",
    "                print(\"current path:\", newpath)\n",
    "                \n",
    "                if len(np.unique(newpath)) != len(newpath):\n",
    "                    print('individual is no longer valid')\n",
    "                    valid = False\n",
    "                    return False\n",
    "                \n",
    "                if not checkedConnections[index]:\n",
    "                    instructions.insert(depthToInstruction[depth], newConnections[index])\n",
    "                    print(\"inserting instruction at location\",depthToInstruction[depth])\n",
    "                    for index1 in range(depth, maxDepth):\n",
    "                        depthToInstruction[index1] += 1\n",
    "                    print(depthToInstruction)\n",
    "                    print(instructions)\n",
    "                    checkedConnections[index] = True\n",
    "                \n",
    "                \n",
    "             \n",
    "            \n",
    "                \n",
    "                if nodes[newConnections[index][0]] != 'input':\n",
    "                    print(\"recursively calling on check Path for node\", newConnections[index][0])\n",
    "                    newDepth = depth + 1\n",
    "                    boolean = self.checkPath(valid, newConnections[index][0], newpath, newConnections, checkedConnections, newDepth, instructions, depthToInstruction)\n",
    "                    #if not boolean:\n",
    "                    #    return False\n",
    "        return True\n",
    "    \n",
    "    def evolve(self):\n",
    "        startNode = None\n",
    "        endNode = None\n",
    "        addNode = False\n",
    "        name = self.oldGeneration[0].name[:]\n",
    "        oldInstructions = self.oldGeneration[0].instructions[:]\n",
    "        newConnections = []\n",
    "        mutantConnections = []\n",
    "        mutationLocation = []\n",
    "        newSpecie = []\n",
    "        \n",
    "        print(' starting evolution')\n",
    "        \n",
    "        #finding the start and end Node\n",
    "        while True:\n",
    "            startNode = random.choice(name)\n",
    "            if nodes[startNode] == 'output':\n",
    "                continue\n",
    "            \n",
    "            endNode = random.choice(name)\n",
    "            if nodes[endNode] != 'input' and endNode != startNode:\n",
    "                break\n",
    "            \n",
    "        print(startNode, endNode)\n",
    "        \n",
    "        #checking if we need to add a new node\n",
    "        for connection in oldInstructions:\n",
    "            if [startNode, endNode] == connection[:2]:\n",
    "                addNode = True\n",
    "                break\n",
    "        print(addNode)\n",
    "        \n",
    "        #creating list of conncetions\n",
    "        for instruction in oldInstructions:\n",
    "            newConnections.append(instruction[:2])\n",
    "            \n",
    "        if addNode:\n",
    "            newNode = len(nodes)\n",
    "            nodes.append('hidden')\n",
    "            newConnections.append([startNode, newNode])\n",
    "            mutantConnections.append([startNode, newNode])\n",
    "            newConnections.append([newNode, endNode])\n",
    "            mutantConnections.append([newNode, endNode])\n",
    "            name.append(newNode)\n",
    "        else:\n",
    "            newConnections.append([startNode, endNode])\n",
    "            mutantConnections.append([startNode, endNode])\n",
    "        \n",
    "        print(newConnections)\n",
    "        \n",
    "        #creating new instructions\n",
    "        checkedConnections = [False]*len(newConnections)\n",
    "        valid = True\n",
    "        exploringNode = outputNode\n",
    "        path = []\n",
    "        depth = 0\n",
    "        newInstructions = []\n",
    "        depthToInstruction = [0]*maxDepth\n",
    "        \n",
    "        self.checkPath(valid, exploringNode, path, newConnections, checkedConnections, depth, newInstructions, depthToInstruction)\n",
    "        if valid:\n",
    "            newInstructions.reverse()\n",
    "        else:\n",
    "            self.evolve()\n",
    "            return\n",
    "         \n",
    "        print(newInstructions)\n",
    "        \n",
    "        #finding mutationLocation\n",
    "        for connection in mutantConnections:\n",
    "            mutationLocation.append(newInstructions.index(connection))\n",
    "            oldInstructions.insert( mutationLocation[-1], connection + [0]) \n",
    "        \n",
    "        newInstructions = oldInstructions\n",
    "        print(newInstructions)\n",
    "        \n",
    "        #modifying oldGeneration Instruction to new instructions\n",
    "        \n",
    "        #creating new Specie\n",
    "        for i in range(int(populationSize * retainPercentage)):\n",
    "            for index in mutationLocation:\n",
    "                newInstructions[index][2] = random.uniform(-1,1)\n",
    "            newSpecie.append( Individual(newInstructions, name))\n",
    "        print( 'finished generating new specie' )\n",
    "        \n",
    "        #training new species\n",
    "        mutantEvolution = Breed(len(newSpecie), inputs, outputs, mutationLevel, 0, retainPercentage*2)\n",
    "        mutantEvolution.individuals = newSpecie\n",
    "        for i in range(7):\n",
    "            mutantEvolution.evalPopulation()\n",
    "            mutantEvolution.weedPopulation()\n",
    "            mutantEvolution.breed()\n",
    "        self.oldGeneration.extend(mutantEvolution.individuals)\n",
    "        "
   ]
  },
  {
   "cell_type": "code",
   "execution_count": 146,
   "metadata": {
    "collapsed": true
   },
   "outputs": [],
   "source": [
    "#global variables\n",
    "outputNode = 2\n",
    "maxDepth = 10\n",
    "#nodes\n",
    "nodes = []\n",
    "nodes.append('input')\n",
    "nodes.append('input')\n",
    "nodes.append('output')\n",
    "\n",
    "#connections\n",
    "connections = []\n",
    "connections.append([0,2])\n",
    "connections.append([1,2])"
   ]
  },
  {
   "cell_type": "code",
   "execution_count": 147,
   "metadata": {
    "collapsed": false
   },
   "outputs": [],
   "source": [
    "populationSize = 100\n",
    "mutationLevel = 0.5\n",
    "evolutionLevel = 0.0\n",
    "retainPercentage = 0.2\n",
    "breed = Breed(populationSize, inputs, outputs, mutationLevel, evolutionLevel, retainPercentage)\n",
    "breed.initializePopulation()"
   ]
  },
  {
   "cell_type": "code",
   "execution_count": 160,
   "metadata": {
    "collapsed": true
   },
   "outputs": [],
   "source": [
    "breed.evalPopulation()\n",
    "breed.weedPopulation()\n",
    "breed.breed()"
   ]
  },
  {
   "cell_type": "code",
   "execution_count": 161,
   "metadata": {
    "collapsed": false
   },
   "outputs": [
    {
     "name": "stdout",
     "output_type": "stream",
     "text": [
      " starting evolution\n",
      "0 3\n",
      "False\n",
      "[[3, 4], [1, 3], [4, 2], [3, 2], [0, 2], [1, 2], [0, 3]]\n",
      "called to check on 2\n",
      "\n",
      "current depth 0\n",
      "2 connects to: 4\n",
      "current path: [4]\n",
      "inserting instruction at location 0\n",
      "[1, 1, 1, 1, 1, 1, 1, 1, 1, 1]\n",
      "[[4, 2]]\n",
      "recursively calling on check Path for node 4\n",
      "called to check on 4\n",
      "\n",
      "current depth 1\n",
      "4 connects to: 3\n",
      "current path: [4, 3]\n",
      "inserting instruction at location 1\n",
      "[1, 2, 2, 2, 2, 2, 2, 2, 2, 2]\n",
      "[[4, 2], [3, 4]]\n",
      "recursively calling on check Path for node 3\n",
      "called to check on 3\n",
      "\n",
      "current depth 2\n",
      "3 connects to: 1\n",
      "current path: [4, 3, 1]\n",
      "inserting instruction at location 2\n",
      "[1, 2, 3, 3, 3, 3, 3, 3, 3, 3]\n",
      "[[4, 2], [3, 4], [1, 3]]\n",
      "\n",
      "current depth 2\n",
      "3 connects to: 0\n",
      "current path: [4, 3, 0]\n",
      "inserting instruction at location 3\n",
      "[1, 2, 4, 4, 4, 4, 4, 4, 4, 4]\n",
      "[[4, 2], [3, 4], [1, 3], [0, 3]]\n",
      "\n",
      "current depth 0\n",
      "2 connects to: 3\n",
      "current path: [3]\n",
      "inserting instruction at location 1\n",
      "[2, 3, 5, 5, 5, 5, 5, 5, 5, 5]\n",
      "[[4, 2], [3, 2], [3, 4], [1, 3], [0, 3]]\n",
      "recursively calling on check Path for node 3\n",
      "called to check on 3\n",
      "\n",
      "current depth 1\n",
      "3 connects to: 1\n",
      "current path: [3, 1]\n",
      "\n",
      "current depth 1\n",
      "3 connects to: 0\n",
      "current path: [3, 0]\n",
      "\n",
      "current depth 0\n",
      "2 connects to: 0\n",
      "current path: [0]\n",
      "inserting instruction at location 2\n",
      "[3, 4, 6, 6, 6, 6, 6, 6, 6, 6]\n",
      "[[4, 2], [3, 2], [0, 2], [3, 4], [1, 3], [0, 3]]\n",
      "\n",
      "current depth 0\n",
      "2 connects to: 1\n",
      "current path: [1]\n",
      "inserting instruction at location 3\n",
      "[4, 5, 7, 7, 7, 7, 7, 7, 7, 7]\n",
      "[[4, 2], [3, 2], [0, 2], [1, 2], [3, 4], [1, 3], [0, 3]]\n",
      "[[0, 3], [1, 3], [3, 4], [1, 2], [0, 2], [3, 2], [4, 2]]\n",
      "[[0, 3, 0], [3, 4, -0.7835327621407597], [1, 3, 0.7613566202470161], [4, 2, 0.14063952108747868], [3, 2, 0.1527062456826649], [0, 2, -0.9775642243999767], [1, 2, 0.8595401244166909]]\n",
      "finished generating new specie\n"
     ]
    }
   ],
   "source": [
    "breed.evalPopulation()\n",
    "breed.weedPopulation()\n",
    "breed.evolve()\n",
    "breed.breed()"
   ]
  },
  {
   "cell_type": "code",
   "execution_count": 156,
   "metadata": {
    "collapsed": false
   },
   "outputs": [
    {
     "name": "stdout",
     "output_type": "stream",
     "text": [
      "[0, 1, 2, 3]\n",
      "[0, 1, 2, 3]\n",
      "[0, 1, 2, 3]\n",
      "[0, 1, 2, 3]\n",
      "[0, 1, 2, 3]\n",
      "[0, 1, 2, 3]\n",
      "[0, 1, 2, 3]\n",
      "[0, 1, 2, 3]\n",
      "[0, 1, 2, 3]\n",
      "[0, 1, 2, 3]\n",
      "[0, 1, 2, 3]\n",
      "[0, 1, 2, 3]\n",
      "[0, 1, 2, 3]\n",
      "[0, 1, 2, 3]\n",
      "[0, 1, 2, 3]\n",
      "[0, 1, 2, 3]\n",
      "[0, 1, 2, 3]\n",
      "[0, 1, 2, 3]\n",
      "[0, 1, 2, 3]\n",
      "[0, 1, 2, 3, 4]\n",
      "[0, 1, 2, 3, 4]\n",
      "[0, 1, 2, 3, 4]\n",
      "[0, 1, 2, 3, 4]\n",
      "[0, 1, 2, 3, 4]\n",
      "[0, 1, 2, 3, 4]\n",
      "[0, 1, 2, 3, 4]\n",
      "[0, 1, 2, 3, 4]\n",
      "[0, 1, 2, 3, 4]\n",
      "[0, 1, 2, 3, 4]\n",
      "[0, 1, 2, 3, 4]\n",
      "[0, 1, 2, 3, 4]\n",
      "[0, 1, 2, 3, 4]\n",
      "[0, 1, 2, 3, 4]\n",
      "[0, 1, 2, 3, 4]\n",
      "[0, 1, 2, 3, 4]\n",
      "[0, 1, 2, 3, 4]\n",
      "[0, 1, 2, 3, 4]\n",
      "[0, 1, 2, 3, 4]\n",
      "[0, 1, 2, 3, 4]\n"
     ]
    }
   ],
   "source": [
    "for individual in breed.oldGeneration:\n",
    "    print(individual.name)"
   ]
  },
  {
   "cell_type": "code",
   "execution_count": 157,
   "metadata": {
    "collapsed": false
   },
   "outputs": [
    {
     "name": "stdout",
     "output_type": "stream",
     "text": [
      "[[1, 3, 0.7440384886522728], [3, 2, 0.1527062456826649], [0, 2, -0.9723114431526463], [1, 2, 0.8595401244166909]] 0.0385718872982812\n",
      "[[1, 3, 0.7440384886522728], [3, 2, 0.1527062456826649], [0, 2, -0.9723114431526463], [1, 2, 0.8595401244166909]] 0.0385718872982812\n",
      "[[1, 3, 0.7440384886522728], [3, 2, 0.1527062456826649], [0, 2, -0.9723114431526463], [1, 2, 0.8595401244166909]] 0.0385718872982812\n",
      "[[1, 3, 0.7440384886522728], [3, 2, 0.1527062456826649], [0, 2, -0.9723114431526463], [1, 2, 0.8595401244166909]] 0.0385718872982812\n",
      "[[1, 3, 0.7440384886522728], [3, 2, 0.1527062456826649], [0, 2, -0.9723114431526463], [1, 2, 0.8595401244166909]] 0.0385718872982812\n",
      "[[1, 3, 0.7440384886522728], [3, 2, 0.1527062456826649], [0, 2, -0.9723114431526463], [1, 2, 0.8595401244166909]] 0.0385718872982812\n",
      "[[1, 3, 0.7440384886522728], [3, 2, 0.1527062456826649], [0, 2, -0.9723114431526463], [1, 2, 0.8595401244166909]] 0.0385718872982812\n",
      "[[1, 3, 0.7440384886522728], [3, 2, 0.1527062456826649], [0, 2, -0.9723114431526463], [1, 2, 0.8595401244166909]] 0.0385718872982812\n",
      "[[1, 3, 0.7440384886522728], [3, 2, 0.1527062456826649], [0, 2, -0.9723114431526463], [1, 2, 0.8595401244166909]] 0.0385718872982812\n",
      "[[1, 3, 0.7440384886522728], [3, 2, 0.1527062456826649], [0, 2, -0.9723114431526463], [1, 2, 0.8595401244166909]] 0.0385718872982812\n",
      "[[1, 3, 0.7440384886522728], [3, 2, 0.1527062456826649], [0, 2, -0.9723114431526463], [1, 2, 0.8595401244166909]] 0.0385718872982812\n",
      "[[1, 3, 0.7440384886522728], [3, 2, 0.1527062456826649], [0, 2, -0.9723114431526463], [1, 2, 0.8595401244166909]] 0.0385718872982812\n",
      "[[1, 3, 0.7440384886522728], [3, 2, 0.1527062456826649], [0, 2, -0.9723114431526463], [1, 2, 0.8595401244166909]] 0.0385718872982812\n",
      "[[1, 3, 0.7440384886522728], [3, 2, 0.1527062456826649], [0, 2, -0.9723114431526463], [1, 2, 0.8595401244166909]] 0.0385718872982812\n",
      "[[1, 3, 0.7440384886522728], [3, 2, 0.1527062456826649], [0, 2, -0.9723114431526463], [1, 2, 0.8595401244166909]] 0.0385718872982812\n",
      "[[1, 3, 0.7440384886522728], [3, 2, 0.1527062456826649], [0, 2, -0.9723114431526463], [1, 2, 0.8595401244166909]] 0.0385718872982812\n",
      "[[1, 3, 0.7440384886522728], [3, 2, 0.1527062456826649], [0, 2, -0.9723114431526463], [1, 2, 0.8595401244166909]] 0.0385718872982812\n",
      "[[1, 3, 0.7440384886522728], [3, 2, 0.1527062456826649], [0, 2, -0.9723114431526463], [1, 2, 0.8595401244166909]] 0.0385718872982812\n",
      "[[1, 3, 0.7440384886522728], [3, 2, 0.1527062456826649], [0, 2, -0.9723114431526463], [1, 2, 0.8595401244166909]] 0.0385718872982812\n",
      "[[3, 4, -0.7835327621407597], [1, 3, 0.7440384886522728], [4, 2, -0.6456831844533231], [3, 2, 0.1527062456826649], [0, 2, -0.9775642243999767], [1, 2, 0.8595401244166909]] 0.03525877581812526\n",
      "[[3, 4, -0.7835327621407597], [1, 3, 0.7440384886522728], [4, 2, 0.14063952108747868], [3, 2, 0.1527062456826649], [0, 2, -0.9775642243999767], [1, 2, 0.8595401244166909]] 0.03525877581812526\n",
      "[[3, 4, -0.7835327621407597], [1, 3, 0.7440384886522728], [4, 2, 0.14063952108747868], [3, 2, 0.1527062456826649], [0, 2, -0.9723114431526463], [1, 2, 0.8595401244166909]] 0.0385718872982812\n",
      "[[3, 4, -0.7835327621407597], [1, 3, 0.7440384886522728], [4, 2, 0.14063952108747868], [3, 2, 0.1527062456826649], [0, 2, -0.9723114431526463], [1, 2, 0.8595401244166909]] 0.0385718872982812\n",
      "[[3, 4, -0.7835327621407597], [1, 3, 0.7440384886522728], [4, 2, 0.14063952108747868], [3, 2, 0.1527062456826649], [0, 2, -0.9723114431526463], [1, 2, 0.8595401244166909]] 0.0385718872982812\n",
      "[[3, 4, -0.7835327621407597], [1, 3, 0.7440384886522728], [4, 2, 0.14063952108747868], [3, 2, 0.1527062456826649], [0, 2, -0.9723114431526463], [1, 2, 0.8595401244166909]] 0.0385718872982812\n",
      "[[3, 4, 0.9761086358767179], [1, 3, 0.7440384886522728], [4, 2, 0.14063952108747868], [3, 2, 0.1527062456826649], [0, 2, -0.9723114431526463], [1, 2, 0.8595401244166909]] 0.0385718872982812\n"
     ]
    },
    {
     "ename": "AttributeError",
     "evalue": "'Individual' object has no attribute 'fitVal'",
     "output_type": "error",
     "traceback": [
      "\u001b[1;31m---------------------------------------------------------------------------\u001b[0m",
      "\u001b[1;31mAttributeError\u001b[0m                            Traceback (most recent call last)",
      "\u001b[1;32m<ipython-input-157-295d6686d23f>\u001b[0m in \u001b[0;36m<module>\u001b[1;34m()\u001b[0m\n\u001b[0;32m      1\u001b[0m \u001b[1;32mfor\u001b[0m \u001b[0mindividual\u001b[0m \u001b[1;32min\u001b[0m \u001b[0mbreed\u001b[0m\u001b[1;33m.\u001b[0m\u001b[0moldGeneration\u001b[0m\u001b[1;33m:\u001b[0m\u001b[1;33m\u001b[0m\u001b[0m\n\u001b[1;32m----> 2\u001b[1;33m     \u001b[0mprint\u001b[0m\u001b[1;33m(\u001b[0m\u001b[0mindividual\u001b[0m\u001b[1;33m.\u001b[0m\u001b[0minstructions\u001b[0m\u001b[1;33m,\u001b[0m \u001b[0mindividual\u001b[0m\u001b[1;33m.\u001b[0m\u001b[0mfitVal\u001b[0m\u001b[1;33m)\u001b[0m\u001b[1;33m\u001b[0m\u001b[0m\n\u001b[0m",
      "\u001b[1;31mAttributeError\u001b[0m: 'Individual' object has no attribute 'fitVal'"
     ]
    }
   ],
   "source": [
    "for individual in breed.oldGeneration:\n",
    "    print(individual.instructions, individual.fitVal)"
   ]
  },
  {
   "cell_type": "code",
   "execution_count": 183,
   "metadata": {
    "collapsed": true
   },
   "outputs": [],
   "source": [
    "residual = []"
   ]
  },
  {
   "cell_type": "code",
   "execution_count": 184,
   "metadata": {
    "collapsed": false
   },
   "outputs": [
    {
     "name": "stdout",
     "output_type": "stream",
     "text": [
      "************GENERATION 0**************\n",
      "[0, 1, 2]\n",
      "[0, 1, 2]\n",
      "[0, 1, 2]\n",
      "[0, 1, 2]\n",
      "[0, 1, 2]\n",
      "[0, 1, 2]\n",
      "[0, 1, 2]\n",
      "[0, 1, 2]\n",
      "[0, 1, 2]\n",
      "[0, 1, 2]\n",
      "[0, 1, 2]\n",
      "[0, 1, 2]\n",
      "[0, 1, 2]\n",
      "[0, 1, 2]\n",
      "[0, 1, 2]\n",
      "[0, 1, 2]\n",
      "[0, 1, 2]\n",
      "[0, 1, 2]\n",
      "[0, 1, 2]\n",
      "***************we are evolving******************\n",
      "[[0, 2], [1, 2]]\n",
      "startNode: 1 \n",
      " endNode: 2\n",
      "[[0, 2], [1, 2], [1, 2]]\n",
      "addNode isTrue\n",
      "[[0, 2, -0.9675450684179734], [1, 2, 0.9803505225583975]]\n",
      "[[0, 2, -0.9675450684179734], [1, 3, 0.06781513020467878], [3, 2, 0.8736530271603269], [1, 2, 0.9803505225583975]]\n",
      "***************we are evolving******************\n",
      "[[0, 2], [1, 2], [1, 3], [3, 2]]\n",
      "startNode: 0 \n",
      " endNode: 2\n",
      "[[0, 2], [1, 2], [3, 2], [0, 2]]\n",
      "addNode isTrue\n",
      "[[0, 2, -0.9675450684179734], [1, 2, 0.9803505225583975]]\n",
      "[[0, 4, -0.3460252213314272], [4, 2, -0.01329778258342329], [0, 2, -0.9675450684179734], [1, 2, 0.9803505225583975]]\n",
      "************GENERATION 20**************\n",
      "[0, 1, 2]\n",
      "[0, 1, 2]\n",
      "[0, 1, 2]\n",
      "[0, 1, 2]\n",
      "[0, 1, 2]\n",
      "[0, 1, 2]\n",
      "[0, 1, 2]\n",
      "[0, 1, 2]\n",
      "[0, 1, 2]\n",
      "[0, 1, 2]\n",
      "[0, 1, 2]\n",
      "[0, 1, 2]\n",
      "[0, 1, 2]\n",
      "[0, 1, 2]\n",
      "[0, 1, 2]\n",
      "[0, 1, 2]\n",
      "[0, 1, 2]\n",
      "[0, 1, 2]\n",
      "[0, 1, 2]\n",
      "[0, 1, 2]\n",
      "***************we are evolving******************\n",
      "[[0, 2], [1, 2], [1, 3], [3, 2], [0, 4], [4, 2]]\n",
      "startNode: 1 \n",
      " endNode: 2\n",
      "[[0, 2], [1, 2], [3, 2], [4, 2], [1, 2]]\n",
      "addNode isTrue\n",
      "[[0, 2, -0.9803831950166153], [1, 2, 0.9825093055974452]]\n",
      "[[0, 2, -0.9803831950166153], [1, 5, 0.07266505280507807], [5, 2, -0.7238760611252884], [1, 2, 0.9825093055974452]]\n",
      "***************we are evolving******************\n",
      "[[0, 2], [1, 2], [1, 3], [3, 2], [0, 4], [4, 2], [1, 5], [5, 2]]\n",
      "startNode: 3 \n",
      " endNode: 5\n",
      "[[0, 2], [1, 2], [3, 2], [4, 2], [5, 2]]\n",
      "addNode isFalse\n"
     ]
    },
    {
     "ename": "ValueError",
     "evalue": "[3, 5] is not in list",
     "output_type": "error",
     "traceback": [
      "\u001b[1;31m---------------------------------------------------------------------------\u001b[0m",
      "\u001b[1;31mValueError\u001b[0m                                Traceback (most recent call last)",
      "\u001b[1;32m<ipython-input-184-770bd6e61b56>\u001b[0m in \u001b[0;36m<module>\u001b[1;34m()\u001b[0m\n\u001b[0;32m      6\u001b[0m         \u001b[1;32mfor\u001b[0m \u001b[0mindividual\u001b[0m \u001b[1;32min\u001b[0m \u001b[0mbreed\u001b[0m\u001b[1;33m.\u001b[0m\u001b[0moldGeneration\u001b[0m\u001b[1;33m:\u001b[0m\u001b[1;33m\u001b[0m\u001b[0m\n\u001b[0;32m      7\u001b[0m             \u001b[0mprint\u001b[0m\u001b[1;33m(\u001b[0m\u001b[0mindividual\u001b[0m\u001b[1;33m.\u001b[0m\u001b[0mname\u001b[0m\u001b[1;33m)\u001b[0m\u001b[1;33m\u001b[0m\u001b[0m\n\u001b[1;32m----> 8\u001b[1;33m     \u001b[0mbreed\u001b[0m\u001b[1;33m.\u001b[0m\u001b[0mbreed\u001b[0m\u001b[1;33m(\u001b[0m\u001b[1;33m)\u001b[0m\u001b[1;33m\u001b[0m\u001b[0m\n\u001b[0m",
      "\u001b[1;32m<ipython-input-180-3d6177a96e40>\u001b[0m in \u001b[0;36mbreed\u001b[1;34m(self)\u001b[0m\n\u001b[0;32m     58\u001b[0m         \u001b[1;32mif\u001b[0m \u001b[0mrandom\u001b[0m\u001b[1;33m.\u001b[0m\u001b[0mrandom\u001b[0m\u001b[1;33m(\u001b[0m\u001b[1;33m)\u001b[0m \u001b[1;33m<\u001b[0m  \u001b[0mself\u001b[0m\u001b[1;33m.\u001b[0m\u001b[0mevolvulationLevel\u001b[0m\u001b[1;33m:\u001b[0m\u001b[1;33m\u001b[0m\u001b[0m\n\u001b[0;32m     59\u001b[0m             \u001b[0mprint\u001b[0m\u001b[1;33m(\u001b[0m\u001b[1;34m'***************we are evolving******************'\u001b[0m\u001b[1;33m)\u001b[0m\u001b[1;33m\u001b[0m\u001b[0m\n\u001b[1;32m---> 60\u001b[1;33m             \u001b[0mself\u001b[0m\u001b[1;33m.\u001b[0m\u001b[0mevolve\u001b[0m\u001b[1;33m(\u001b[0m\u001b[1;33m)\u001b[0m\u001b[1;33m\u001b[0m\u001b[0m\n\u001b[0m\u001b[0;32m     61\u001b[0m \u001b[1;33m\u001b[0m\u001b[0m\n\u001b[0;32m     62\u001b[0m         \u001b[0mself\u001b[0m\u001b[1;33m.\u001b[0m\u001b[0maddMutants\u001b[0m\u001b[1;33m(\u001b[0m\u001b[1;33m)\u001b[0m\u001b[1;33m\u001b[0m\u001b[0m\n",
      "\u001b[1;32m<ipython-input-180-3d6177a96e40>\u001b[0m in \u001b[0;36mevolve\u001b[1;34m(self)\u001b[0m\n\u001b[0;32m    173\u001b[0m         \u001b[0mprint\u001b[0m\u001b[1;33m(\u001b[0m\u001b[1;34m'addNode is'\u001b[0m \u001b[1;33m+\u001b[0m \u001b[0mstr\u001b[0m\u001b[1;33m(\u001b[0m\u001b[0maddNode\u001b[0m\u001b[1;33m)\u001b[0m \u001b[1;33m)\u001b[0m\u001b[1;33m\u001b[0m\u001b[0m\n\u001b[0;32m    174\u001b[0m         \u001b[0mnewSpecie\u001b[0m \u001b[1;33m=\u001b[0m \u001b[1;33m[\u001b[0m\u001b[1;33m]\u001b[0m\u001b[1;33m\u001b[0m\u001b[0m\n\u001b[1;32m--> 175\u001b[1;33m         \u001b[0mmutationLocation\u001b[0m \u001b[1;33m=\u001b[0m \u001b[0minstructions\u001b[0m\u001b[1;33m.\u001b[0m\u001b[0mindex\u001b[0m\u001b[1;33m(\u001b[0m\u001b[1;33m[\u001b[0m\u001b[0mstartNode\u001b[0m\u001b[1;33m,\u001b[0m \u001b[0mendNode\u001b[0m\u001b[1;33m]\u001b[0m\u001b[1;33m)\u001b[0m\u001b[1;33m\u001b[0m\u001b[0m\n\u001b[0m\u001b[0;32m    176\u001b[0m         \u001b[0mnewInstructions\u001b[0m \u001b[1;33m=\u001b[0m \u001b[1;33m[\u001b[0m\u001b[0minstruction\u001b[0m\u001b[1;33m[\u001b[0m\u001b[1;33m:\u001b[0m\u001b[1;33m]\u001b[0m \u001b[1;32mfor\u001b[0m \u001b[0minstruction\u001b[0m \u001b[1;32min\u001b[0m \u001b[0mself\u001b[0m\u001b[1;33m.\u001b[0m\u001b[0moldGeneration\u001b[0m\u001b[1;33m[\u001b[0m\u001b[1;36m0\u001b[0m\u001b[1;33m]\u001b[0m\u001b[1;33m.\u001b[0m\u001b[0minstructions\u001b[0m\u001b[1;33m]\u001b[0m\u001b[1;33m\u001b[0m\u001b[0m\n\u001b[0;32m    177\u001b[0m         \u001b[0mprint\u001b[0m\u001b[1;33m(\u001b[0m\u001b[0mnewInstructions\u001b[0m\u001b[1;33m)\u001b[0m\u001b[1;33m\u001b[0m\u001b[0m\n",
      "\u001b[1;31mValueError\u001b[0m: [3, 5] is not in list"
     ]
    }
   ],
   "source": [
    "for i in range(100):\n",
    "    residual.append(breed.evalPopulation())\n",
    "    breed.weedPopulation()\n",
    "    if i%20 is 0:\n",
    "        print('************GENERATION {}**************'.format(i))\n",
    "        for individual in breed.oldGeneration:\n",
    "            print(individual.name)\n",
    "    breed.breed()"
   ]
  },
  {
   "cell_type": "code",
   "execution_count": 144,
   "metadata": {
    "collapsed": false
   },
   "outputs": [
    {
     "ename": "SyntaxError",
     "evalue": "invalid syntax (<ipython-input-144-36a222ceac0e>, line 3)",
     "output_type": "error",
     "traceback": [
      "\u001b[1;36m  File \u001b[1;32m\"<ipython-input-144-36a222ceac0e>\"\u001b[1;36m, line \u001b[1;32m3\u001b[0m\n\u001b[1;33m    print(alist.index([1,*]))\u001b[0m\n\u001b[1;37m                          ^\u001b[0m\n\u001b[1;31mSyntaxError\u001b[0m\u001b[1;31m:\u001b[0m invalid syntax\n"
     ]
    }
   ],
   "source": [
    "alist = [[1,2],[3,4],[5,6]]\n",
    "try:\n",
    "    for \n",
    "except Exception:\n",
    "    print('oops')"
   ]
  },
  {
   "cell_type": "code",
   "execution_count": null,
   "metadata": {
    "collapsed": true
   },
   "outputs": [],
   "source": [
    "breed.evalPopulation()"
   ]
  },
  {
   "cell_type": "code",
   "execution_count": 179,
   "metadata": {
    "collapsed": false
   },
   "outputs": [
    {
     "name": "stdout",
     "output_type": "stream",
     "text": [
      "hiTrue\n"
     ]
    }
   ],
   "source": [
    "true = True\n",
    "print(\"hi\" + str(true))"
   ]
  },
  {
   "cell_type": "code",
   "execution_count": 395,
   "metadata": {
    "collapsed": false
   },
   "outputs": [
    {
     "name": "stdout",
     "output_type": "stream",
     "text": [
      "[[0, 2], [1, 2], [1, 3], [3, 2], [0, 3]]\n",
      "called to check on 2\n",
      "\n",
      "2 connects to: 0\n",
      "current path: [0]\n",
      "[1, 1, 1, 1, 1, 1, 1, 1, 1, 1]\n",
      "inserting instruction at location 1\n",
      "[[0, 2]]\n",
      "\n",
      "2 connects to: 1\n",
      "current path: [1]\n",
      "[2, 2, 2, 2, 2, 2, 2, 2, 2, 2]\n",
      "inserting instruction at location 2\n",
      "[[0, 2], [1, 2]]\n",
      "\n",
      "2 connects to: 3\n",
      "current path: [3]\n",
      "[3, 3, 3, 3, 3, 3, 3, 3, 3, 3]\n",
      "inserting instruction at location 3\n",
      "[[0, 2], [1, 2], [3, 2]]\n",
      "recursively calling on check Path for node 3\n",
      "called to check on 3\n",
      "\n",
      "3 connects to: 1\n",
      "current path: [3, 1]\n",
      "[3, 4, 4, 4, 4, 4, 4, 4, 4, 4]\n",
      "inserting instruction at location 4\n",
      "[[0, 2], [1, 2], [3, 2], [1, 3]]\n",
      "\n",
      "3 connects to: 0\n",
      "current path: [3, 0]\n",
      "[3, 5, 5, 5, 5, 5, 5, 5, 5, 5]\n",
      "inserting instruction at location 5\n",
      "[[0, 2], [1, 2], [3, 2], [0, 3], [1, 3]]\n"
     ]
    },
    {
     "data": {
      "text/plain": [
       "False"
      ]
     },
     "execution_count": 395,
     "metadata": {},
     "output_type": "execute_result"
    }
   ],
   "source": [
    "startNode = 0\n",
    "endNode = 3\n",
    "newConnections = connections[:] \n",
    "newConnections.append([startNode, endNode])\n",
    "checkedConnections = [False]*len(newConnections)\n",
    "valid = True\n",
    "exploringNode = outputNode\n",
    "path = []\n",
    "depth = 0\n",
    "instructions = []\n",
    "depthToInstruction = [0]*maxDepth\n",
    "\n",
    "print(newConnections)\n",
    "\n",
    "breed.checkPath(valid, exploringNode, path, newConnections, checkedConnections, depth, instructions, depthToInstruction)"
   ]
  },
  {
   "cell_type": "code",
   "execution_count": 392,
   "metadata": {
    "collapsed": true
   },
   "outputs": [],
   "source": [
    "connections.append([1,3])\n",
    "connections.append([3,2])"
   ]
  },
  {
   "cell_type": "code",
   "execution_count": 393,
   "metadata": {
    "collapsed": true
   },
   "outputs": [],
   "source": [
    "nodes.append('hidden')"
   ]
  },
  {
   "cell_type": "code",
   "execution_count": 394,
   "metadata": {
    "collapsed": false
   },
   "outputs": [
    {
     "data": {
      "text/plain": [
       "([[0, 2], [1, 2], [1, 3], [3, 2]], ['input', 'input', 'output', 'hidden'])"
      ]
     },
     "execution_count": 394,
     "metadata": {},
     "output_type": "execute_result"
    }
   ],
   "source": [
    "connections, nodes"
   ]
  },
  {
   "cell_type": "code",
   "execution_count": 163,
   "metadata": {
    "collapsed": false
   },
   "outputs": [
    {
     "name": "stdout",
     "output_type": "stream",
     "text": [
      "0.9775642243999767\n",
      "0.0\n",
      "0.9758040355202552\n",
      "0.0017601888797215137\n"
     ]
    }
   ],
   "source": [
    "for oneINput in inputs:\n",
    "    print(breed.oldGeneration[0].predict(oneINput))"
   ]
  },
  {
   "cell_type": "code",
   "execution_count": 165,
   "metadata": {
    "collapsed": false
   },
   "outputs": [
    {
     "data": {
      "text/plain": [
       "[1, 0, 1, 0]"
      ]
     },
     "execution_count": 165,
     "metadata": {},
     "output_type": "execute_result"
    }
   ],
   "source": [
    "outputs"
   ]
  },
  {
   "cell_type": "code",
   "execution_count": 166,
   "metadata": {
    "collapsed": false
   },
   "outputs": [
    {
     "data": {
      "text/plain": [
       "[[1, 0], [0, 0], [0, 1], [1, 1]]"
      ]
     },
     "execution_count": 166,
     "metadata": {},
     "output_type": "execute_result"
    }
   ],
   "source": [
    "inputs"
   ]
  },
  {
   "cell_type": "code",
   "execution_count": null,
   "metadata": {
    "collapsed": true
   },
   "outputs": [],
   "source": []
  }
 ],
 "metadata": {
  "kernelspec": {
   "display_name": "Python 3",
   "language": "python",
   "name": "python3"
  },
  "language_info": {
   "codemirror_mode": {
    "name": "ipython",
    "version": 3
   },
   "file_extension": ".py",
   "mimetype": "text/x-python",
   "name": "python",
   "nbconvert_exporter": "python",
   "pygments_lexer": "ipython3",
   "version": "3.5.1"
  }
 },
 "nbformat": 4,
 "nbformat_minor": 0
}
