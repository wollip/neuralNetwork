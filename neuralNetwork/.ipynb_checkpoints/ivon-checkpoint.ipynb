{
 "cells": [
  {
   "cell_type": "code",
   "execution_count": 1,
   "metadata": {
    "collapsed": true
   },
   "outputs": [],
   "source": [
    "import numpy as np\n",
    "from scipy import optimize\n",
    "import math\n",
    "import matplotlib.pyplot as plt\n",
    "%matplotlib inline"
   ]
  },
  {
   "cell_type": "code",
   "execution_count": 2,
   "metadata": {
    "collapsed": true
   },
   "outputs": [],
   "source": [
    "class Trainer(object):\n",
    "    \n",
    "    def __init__(self, N):\n",
    "        #Make Local reference to network:\n",
    "        self.N = N\n",
    "        \n",
    "    def callbackF(self, params):\n",
    "        self.N.setParams(params)\n",
    "        self.J.append(self.N.costFunction(self.X, self.y))   \n",
    "        \n",
    "    def costFunctionWrapper(self, params, X, y):\n",
    "        self.N.setParams(params)\n",
    "        cost = self.N.costFunction(X, y)\n",
    "        grad = self.N.computeGradients(X,y)\n",
    "        \n",
    "        return cost, grad\n",
    "        \n",
    "    def train(self, X, y):\n",
    "        #Make an internal variable for the callback function:\n",
    "        self.X = X\n",
    "        self.y = y\n",
    "\n",
    "        #Make empty list to store costs:\n",
    "        self.J = []\n",
    "        \n",
    "        params0 = self.N.getParams()\n",
    "\n",
    "        options = {'maxiter': 1000, 'disp' : True}\n",
    "        _res = optimize.minimize(self.costFunctionWrapper, params0, jac=True, method='BFGS', \\\n",
    "                                 args=(X, y), options=options, callback=self.callbackF)\n",
    "\n",
    "        self.N.setParams(_res.x)\n",
    "        self.optimizationResults = _res"
   ]
  },
  {
   "cell_type": "code",
   "execution_count": 3,
   "metadata": {
    "collapsed": false
   },
   "outputs": [],
   "source": [
    "class NeuralNetwork(object):\n",
    "    \n",
    "    def __init__(self, inputLayerSize, outputLayerSize, hiddenLayerSize):\n",
    "        # Define Hyperparameters\n",
    "        self.inputLayerSize = inputLayerSize\n",
    "        self.outputLayerSize = outputLayerSize\n",
    "        self.hiddenLayerSize = hiddenLayerSize\n",
    "        \n",
    "        # Weights\n",
    "        self.W1 = np.random.randn(self.inputLayerSize, self.hiddenLayerSize)\n",
    "        self.W2 = np.random.randn(self.hiddenLayerSize, self.outputLayerSize)\n",
    "        \n",
    "    def forward(self, x):\n",
    "        self.z2 = np.dot(x, self.W1)\n",
    "        self.a2 = self.sigmoid(self.z2)\n",
    "        self.z3 = np.dot(self.a2, self.W2)\n",
    "        yHat = self.sigmoid(self.z3)\n",
    "        return yHat\n",
    "        \n",
    "    def sigmoid(self, z):\n",
    "        return 1/(1+np.exp(-z))\n",
    "    \n",
    "    def sigmoidPrime(self, z):\n",
    "        return np.exp(-z)/((1+np.exp(-z))**2)\n",
    "    \n",
    "    def costFunction(self, x, y):\n",
    "        self.yHat = self.forward(x)\n",
    "        J = 0.5 * sum((y - self.yHat)**2)\n",
    "        return J\n",
    "    \n",
    "    def costFunctionPrime(self, x, y):\n",
    "        \n",
    "        self.yHat = self.forward(x)\n",
    "        \n",
    "        delta3 = np.multiply(-(y-self.yHat), self.sigmoidPrime(self.z3))\n",
    "        dJdW2 = np.dot(self.a2.T, delta3)\n",
    "        \n",
    "        delta2 = np.multiply(np.dot(delta3, self.W2.T), self.sigmoidPrime(self.z2))\n",
    "        dJdW1 = np.dot(x.T, delta2)\n",
    "        \n",
    "        return dJdW1, dJdW2\n",
    "    \n",
    "    def getParams(self):\n",
    "        #Get W1 and W2 unrolled into vector:\n",
    "        params = np.concatenate((self.W1.ravel(), self.W2.ravel()))\n",
    "        return params\n",
    "    \n",
    "    def setParams(self, params):\n",
    "        #Set W1 and W2 using single paramater vector.\n",
    "        W1_start = 0\n",
    "        W1_end = self.hiddenLayerSize * self.inputLayerSize\n",
    "        self.W1 = np.reshape(params[W1_start:W1_end], (self.inputLayerSize , self.hiddenLayerSize))\n",
    "        W2_end = W1_end + self.hiddenLayerSize*self.outputLayerSize\n",
    "        self.W2 = np.reshape(params[W1_end:W2_end], (self.hiddenLayerSize, self.outputLayerSize))\n",
    "        \n",
    "    def computeGradients(self, X, y):\n",
    "        dJdW1, dJdW2 = self.costFunctionPrime(X, y)\n",
    "        return np.concatenate((dJdW1.ravel(), dJdW2.ravel()))\n",
    "        "
   ]
  },
  {
   "cell_type": "code",
   "execution_count": 4,
   "metadata": {
    "collapsed": true
   },
   "outputs": [],
   "source": [
    "class GoDeeper(object):\n",
    "    \n",
    "    def __init__(self, inputLayerSize, outputLayerSize, hiddenLayer1Size, hiddenLayer2Size):\n",
    "        # Define Hyperparameters\n",
    "        self.inputLayerSize = inputLayerSize\n",
    "        self.outputLayerSize = outputLayerSize\n",
    "        self.hiddenLayer1Size = hiddenLayer1Size\n",
    "        self.hiddenLayer2Size = hiddenLayer2Size\n",
    "        \n",
    "        # Weights\n",
    "        self.W1 = np.random.randn(self.inputLayerSize, self.hiddenLayer1Size)\n",
    "        self.W2 = np.random.randn(self.hiddenLayer1Size, self.hiddenLayer2Size)\n",
    "        self.W3 = np.random.randn(self.hiddenLayer2Size, self.outputLayerSize)\n",
    "        \n",
    "    def forward(self, x):\n",
    "        self.z2 = np.dot(x, self.W1)\n",
    "        self.a2 = self.sigmoid(self.z2)\n",
    "        self.z3 = np.dot(self.a2, self.W2)\n",
    "        self.a3 = self.sigmoid(self.z3)\n",
    "        self.z4 = np.dot(self.a3, self.W3)\n",
    "        yHat = self.sigmoid(self.z4)\n",
    "        return yHat\n",
    "        \n",
    "    def sigmoid(self, z):\n",
    "        return 1/(1+np.exp(-z))\n",
    "    \n",
    "    def sigmoidPrime(self, z):\n",
    "        return np.exp(-z)/((1+np.exp(-z))**2)\n",
    "    \n",
    "    def costFunction(self, x, y):\n",
    "        self.yHat = self.forward(x)\n",
    "        J = 0.5 * sum((y - self.yHat)**2)\n",
    "        return J\n",
    "    \n",
    "    def costFunctionPrime(self, x, y):\n",
    "        \n",
    "        self.yHat = self.forward(x)\n",
    "        \n",
    "        delta4 = np.multiply(-(y-self.yHat), self.sigmoidPrime(self.z4))\n",
    "        dJdW3 = np.dot(self.a3.T, delta4)\n",
    "        \n",
    "        delta3 = np.multiply(np.dot(delta4, self.W3.T), self.sigmoidPrime(self.z3))\n",
    "        dJdW2 = np.dot(self.a2.T, delta3)\n",
    "        \n",
    "        delta2 = np.multiply(np.dot(delta3, self.W2.T), self.sigmoidPrime(self.z2))\n",
    "        dJdW1 = np.dot(x.T, delta2)\n",
    "        \n",
    "        return dJdW1, dJdW2, dJdW3\n",
    "    \n",
    "    def getParams(self):\n",
    "        #Get W1 and W2 unrolled into vector:\n",
    "        params = np.concatenate((self.W1.ravel(), self.W2.ravel(), self.W3.ravel()))\n",
    "        return params\n",
    "    \n",
    "    def setParams(self, params):\n",
    "        #Set W1 and W2 using single paramater vector.\n",
    "        W1_start = 0\n",
    "        W1_end = self.hiddenLayer1Size * self.inputLayerSize\n",
    "        self.W1 = np.reshape(params[W1_start:W1_end], (self.inputLayerSize , self.hiddenLayer1Size))\n",
    "        W2_end = W1_end + self.hiddenLayer1Size*self.hiddenLayer2Size\n",
    "        self.W2 = np.reshape(params[W1_end:W2_end], (self.hiddenLayer1Size, self.hiddenLayer2Size))\n",
    "        W3_end = W2_end + self.hiddenLayer2Size*self.outputLayerSize\n",
    "        self.W3 = np.reshape(params[W2_end:W3_end], (self.hiddenLayer2Size, self.outputLayerSize))\n",
    "        \n",
    "    def computeGradients(self, X, y):\n",
    "        dJdW1, dJdW2, dJdW3 = self.costFunctionPrime(X, y)\n",
    "        return np.concatenate((dJdW1.ravel(), dJdW2.ravel(), dJdW3.ravel()))"
   ]
  },
  {
   "cell_type": "code",
   "execution_count": 5,
   "metadata": {
    "collapsed": false
   },
   "outputs": [],
   "source": [
    "class BetterNet(object):\n",
    "    \n",
    "    def __init__(self, inputLayerSize, outputLayerSize, hiddenLayerSize):\n",
    "        # Define Hyperparameters\n",
    "        self.inputLayerSize = inputLayerSize\n",
    "        self.outputLayerSize = outputLayerSize\n",
    "        self.layerSizes = hiddenLayerSize\n",
    "        self.layerSizes.insert(0, inputLayerSize)\n",
    "        self.layerSizes.append(outputLayerSize)\n",
    "        \n",
    "        # Weights\n",
    "        self.W = [0] * (len(self.layerSizes)-1);\n",
    "        for i in range(0, len(self.W)):\n",
    "            self.W[i] = np.random.randn(self.layerSizes[i], self.layerSizes[i+1])\n",
    "        \n",
    "    def forward(self, x):\n",
    "        self.z = [0] * len(self.layerSizes)\n",
    "        self.a = [0] * len(self.layerSizes)\n",
    "        self.a[0] = x\n",
    "\n",
    "        for i in range(1, len(self.layerSizes)):\n",
    "            self.z[i] = np.dot(self.a[i-1], self.W[i-1])\n",
    "            self.a[i] = self.act(self.z[i])\n",
    "\n",
    "        yHat = self.a[-1]\n",
    "        return yHat\n",
    "        \n",
    "    def act(self, z):\n",
    "        return self.sigmoid(z)\n",
    "    \n",
    "    def actPrime(self, z):\n",
    "        return self.sigmoidPrime(z)\n",
    "        \n",
    "    def sigmoid(self, z):\n",
    "        return 1/(1+np.exp(-z))\n",
    "    \n",
    "    def sigmoidPrime(self, z):\n",
    "        return np.exp(-z)/((1+np.exp(-z))**2)\n",
    "    \n",
    "    def relu(self, z):\n",
    "        return np.fmax(0, z)\n",
    "    \n",
    "    def reluPrime(self, z):\n",
    "        return np.where(z > 0, 1, 0)\n",
    "    \n",
    "    def softRelu(self, z):\n",
    "        return np.log(1+np.exp(z))\n",
    "    \n",
    "    def softReluPrime(self, z):\n",
    "        return 1/(1+np.exp(-z))\n",
    "    \n",
    "    def costFunction(self, x, y):\n",
    "        self.yHat = self.forward(x)\n",
    "        J = 0.5 * sum((y - self.yHat)**2)\n",
    "        return J\n",
    "    \n",
    "    def costFunctionPrime(self, x, y):\n",
    "        \n",
    "        self.yHat = self.forward(x)\n",
    "\n",
    "        delta = [0] * len(self.layerSizes)\n",
    "        delta[-1] = np.multiply(-(y-self.yHat), self.actPrime(self.z[-1]))\n",
    "        for i in reversed(range(1, len(self.W))):\n",
    "            delta[i] = np.multiply(np.dot(delta[i+1], self.W[i].T), self.actPrime(self.z[i]))\n",
    "        \n",
    "        dJdW = [0] * len(self.W)\n",
    "        for i in reversed(range(0, len(self.W))):\n",
    "            dJdW[i] = np.dot(self.a[i].T, delta[i+1])\n",
    "            \n",
    "        return tuple(dJdW)\n",
    "    \n",
    "    def getParams(self):\n",
    "        # Get weights unrolled into vector:\n",
    "        params = np.empty(0)\n",
    "        for W in self.W:\n",
    "            params = np.concatenate((params, W.ravel()))\n",
    "        return params\n",
    "    \n",
    "    def setParams(self, params):\n",
    "        #print params\n",
    "        # Set weights using single paramater vector.\n",
    "        start = 0\n",
    "        end = 0\n",
    "        for i in range(0, len(self.W)):\n",
    "            end = end + self.layerSizes[i]*self.layerSizes[i+1]\n",
    "            self.W[i] = np.reshape(params[start:end], (self.layerSizes[i], self.layerSizes[i+1]))\n",
    "            start = end\n",
    "        \n",
    "    def computeGradients(self, x, y):\n",
    "        dJdW = self.costFunctionPrime(x, y)\n",
    "        grad = np.empty(0)\n",
    "        for dJ in dJdW:\n",
    "            grad = np.concatenate((grad, dJ.ravel()))\n",
    "        return grad\n",
    "        "
   ]
  },
  {
   "cell_type": "code",
   "execution_count": 6,
   "metadata": {
    "collapsed": true
   },
   "outputs": [],
   "source": [
    "def generateTrainingSet(n, xMin, xMax, yMax, maxNoise):\n",
    "      \n",
    "    x = np.random.randint(xMin, high=xMax+1, size=[n, 2])\n",
    "    x = np.multiply(x, 1.0)\n",
    "    \n",
    "    y = np.empty([n, 1], dtype=float)\n",
    "    for i in range(0, n):\n",
    "        # Calculates product +/- maxNoise\n",
    "        y[i] = [(x[i][0] * x[i][1] + np.random.randint(-maxNoise, high=maxNoise+1))]\n",
    "        \n",
    "    return x, y"
   ]
  },
  {
   "cell_type": "code",
   "execution_count": 7,
   "metadata": {
    "collapsed": true
   },
   "outputs": [],
   "source": [
    "# Used to make sure gradient calculation works\n",
    "def computeNumericalGradient(N, X, y):\n",
    "        paramsInitial = N.getParams()\n",
    "        numgrad = np.zeros(paramsInitial.shape)\n",
    "        perturb = np.zeros(paramsInitial.shape)\n",
    "        e = 1e-4\n",
    "\n",
    "        for p in range(len(paramsInitial)):\n",
    "            #Set perturbation vector\n",
    "            perturb[p] = e\n",
    "            N.setParams(paramsInitial + perturb)\n",
    "            loss2 = N.costFunction(X, y)\n",
    "\n",
    "            N.setParams(paramsInitial - perturb)\n",
    "            loss1 = N.costFunction(X, y)\n",
    "\n",
    "            #Compute Numerical Gradient\n",
    "            numgrad[p] = (loss2 - loss1) / (2*e)\n",
    "\n",
    "            #Return the value we changed to zero:\n",
    "            perturb[p] = 0\n",
    "            \n",
    "        #Return Params to original value:\n",
    "        N.setParams(paramsInitial)\n",
    "\n",
    "        return numgrad "
   ]
  },
  {
   "cell_type": "code",
   "execution_count": 8,
   "metadata": {
    "collapsed": false
   },
   "outputs": [],
   "source": [
    "def train(net, x, y):\n",
    "    \n",
    "    # Cost before training\n",
    "    cost1 = net.costFunction(x, y)\n",
    "    \n",
    "    # Begin training. Get smarter!!\n",
    "    #badTrain(net, x, y)\n",
    "    smartTrain(net, x, y)\n",
    "    \n",
    "    #Cost after training\n",
    "    cost2 = net.costFunction(x, y)\n",
    "    \n",
    "    print \"Decreased cost by \", cost1-cost2, \", from \", cost1, \" to \", cost2"
   ]
  },
  {
   "cell_type": "code",
   "execution_count": 9,
   "metadata": {
    "collapsed": true
   },
   "outputs": [],
   "source": [
    "def badTrain(net, x, y):\n",
    "    scalar = 3\n",
    "    for i in range(0, 100):\n",
    "        dJdW1, dJdW2 = net.costFunctionPrime(x, y)\n",
    "        net.W1 = net.W1 - scalar*dJdW1\n",
    "        net.W2 = net.W2 - scalar*dJdW2"
   ]
  },
  {
   "cell_type": "code",
   "execution_count": 10,
   "metadata": {
    "collapsed": true
   },
   "outputs": [],
   "source": [
    "def smartTrain(net, x, y):\n",
    "    T = Trainer(net)\n",
    "    T.train(x,y)"
   ]
  },
  {
   "cell_type": "code",
   "execution_count": 11,
   "metadata": {
    "collapsed": true
   },
   "outputs": [],
   "source": [
    "def printResults(x, yHat, xNorm, yMax):\n",
    "    for i in range(0, min(10, len(x))):\n",
    "        print '{:> 10.3f} * {:> 10.3f} = {:> 10.0f} ({:> 10.3f})'.format(\\\n",
    "                                                                     x[i][0]*xNorm[0], \\\n",
    "                                                                     x[i][1]*xNorm[1], \\\n",
    "                                                                     yHat[i][0]*yNorm,\\\n",
    "                                                                     x[i][0]*xNorm[0] * x[i][1]*xNorm[1]\\\n",
    "                                                                    )"
   ]
  },
  {
   "cell_type": "code",
   "execution_count": 12,
   "metadata": {
    "collapsed": true
   },
   "outputs": [],
   "source": [
    "# Generate Training Set For Multiplication with Sigmoid\n",
    "\n",
    "# Training set generation parameters\n",
    "n = 10\n",
    "yMax = 1000\n",
    "maxNoise = 0\n",
    "\n",
    "xMin = math.ceil(maxNoise**0.5)\n",
    "xMax = math.floor((yMax-maxNoise)**0.5) \n",
    "\n",
    "x, y = generateTrainingSet(n, xMin, xMax, yMax, maxNoise)\n",
    "\n",
    "xNorm = [xMax, xMax]\n",
    "yNorm = yMax\n",
    "x = x/xNorm\n",
    "y = y/yNorm"
   ]
  },
  {
   "cell_type": "code",
   "execution_count": 13,
   "metadata": {
    "collapsed": false
   },
   "outputs": [],
   "source": [
    "# Hyperparameters\n",
    "inputLayerSize = 2\n",
    "outputLayerSize = 1\n",
    "hiddenLayerSize = [3, 3, 2]\n",
    "\n",
    "#net = NeuralNetwork(inputLayerSize, outputLayerSize, hiddenLayerSize[0]);\n",
    "#net = GoDeeper(inputLayerSize, outputLayerSize, hiddenLayerSize[0], hiddenLayerSize[1])\n",
    "net = BetterNet(inputLayerSize, outputLayerSize, hiddenLayerSize)"
   ]
  },
  {
   "cell_type": "code",
   "execution_count": 14,
   "metadata": {
    "collapsed": false
   },
   "outputs": [
    {
     "name": "stdout",
     "output_type": "stream",
     "text": [
      "Before training:\n",
      "    27.000 *     28.000 =        227 (   756.000)\n",
      "     7.000 *     22.000 =        224 (   154.000)\n",
      "    19.000 *     24.000 =        226 (   456.000)\n",
      "    14.000 *     27.000 =        225 (   378.000)\n",
      "     0.000 *     10.000 =        225 (     0.000)\n",
      "    29.000 *     31.000 =        227 (   899.000)\n",
      "     9.000 *      2.000 =        227 (    18.000)\n",
      "    19.000 *      6.000 =        227 (   114.000)\n",
      "    14.000 *      6.000 =        227 (    84.000)\n",
      "    19.000 *      0.000 =        227 (     0.000)\n"
     ]
    }
   ],
   "source": [
    "yHat = net.forward(x)\n",
    "print \"Before training:\"\n",
    "printResults(x, yHat, xNorm, yMax)"
   ]
  },
  {
   "cell_type": "code",
   "execution_count": 15,
   "metadata": {
    "collapsed": false
   },
   "outputs": [
    {
     "name": "stdout",
     "output_type": "stream",
     "text": [
      "Optimization terminated successfully.\n",
      "         Current function value: 0.000380\n",
      "         Iterations: 444\n",
      "         Function evaluations: 508\n",
      "         Gradient evaluations: 508\n",
      "Decreased cost by  [ 0.49581797] , from  [ 0.49619768]  to  [ 0.00037971]\n"
     ]
    }
   ],
   "source": [
    "train(net, x, y)"
   ]
  },
  {
   "cell_type": "code",
   "execution_count": 16,
   "metadata": {
    "collapsed": false
   },
   "outputs": [
    {
     "name": "stdout",
     "output_type": "stream",
     "text": [
      "After training:\n",
      "    27.000 *     28.000 =        756 (   756.000)\n",
      "     7.000 *     22.000 =        148 (   154.000)\n",
      "    19.000 *     24.000 =        449 (   456.000)\n",
      "    14.000 *     27.000 =        386 (   378.000)\n",
      "     0.000 *     10.000 =         17 (     0.000)\n",
      "    29.000 *     31.000 =        899 (   899.000)\n",
      "     9.000 *      2.000 =         17 (    18.000)\n",
      "    19.000 *      6.000 =        124 (   114.000)\n",
      "    14.000 *      6.000 =         70 (    84.000)\n",
      "    19.000 *      0.000 =          1 (     0.000)\n"
     ]
    }
   ],
   "source": [
    "yHat = net.forward(x)\n",
    "print \"After training:\"\n",
    "printResults(x, yHat, xNorm, yMax)"
   ]
  },
  {
   "cell_type": "code",
   "execution_count": 361,
   "metadata": {
    "collapsed": false
   },
   "outputs": [
    {
     "name": "stdout",
     "output_type": "stream",
     "text": [
      "    21.000 *     27.000 =        567 (   567.000)\n",
      "    31.000 *      0.000 =          0 (     0.000)\n",
      "    14.000 *     16.000 =        224 (   224.000)\n",
      "    16.000 *     14.000 =        224 (   224.000)\n",
      "     3.000 *      6.000 =         14 (    18.000)\n"
     ]
    }
   ],
   "source": [
    "xTest = np.array(([21, 27], [31, 0], [14, 16], [16, 14], [3, 6]), dtype=float)\n",
    "xTest = xTest/xNorm\n",
    "yHatTest = net.forward(xTest)\n",
    "printResults(xTest, yHatTest, xNorm, yMax)"
   ]
  },
  {
   "cell_type": "code",
   "execution_count": 17,
   "metadata": {
    "collapsed": false
   },
   "outputs": [],
   "source": [
    "x1 = np.linspace(xMin, xMax, 100)\n",
    "x2 = np.linspace(xMin, xMax, 100)\n",
    "\n",
    "x1Norm = x1/xNorm[0]\n",
    "x2Norm = x2/xNorm[1]\n",
    "\n",
    "a, b  = np.meshgrid(x1Norm, x2Norm)\n",
    "\n",
    "allInputs = np.zeros((a.size, 2))\n",
    "allInputs[:, 0] = a.ravel()\n",
    "allInputs[:, 1] = b.ravel()"
   ]
  },
  {
   "cell_type": "code",
   "execution_count": 18,
   "metadata": {
    "collapsed": false
   },
   "outputs": [],
   "source": [
    "allOutputs = net.forward(allInputs)"
   ]
  },
  {
   "cell_type": "code",
   "execution_count": 19,
   "metadata": {
    "collapsed": false
   },
   "outputs": [
    {
     "name": "stderr",
     "output_type": "stream",
     "text": [
      "C:\\Users\\Owner\\Anaconda2\\lib\\site-packages\\matplotlib\\collections.py:650: FutureWarning: elementwise comparison failed; returning scalar instead, but in the future will perform elementwise comparison\n",
      "  if self._edgecolors_original != str('face'):\n"
     ]
    },
    {
     "data": {
      "text/plain": [
       "<matplotlib.text.Text at 0x1a7ac630>"
      ]
     },
     "execution_count": 19,
     "metadata": {},
     "output_type": "execute_result"
    },
    {
     "name": "stderr",
     "output_type": "stream",
     "text": [
      "C:\\Users\\Owner\\Anaconda2\\lib\\site-packages\\matplotlib\\collections.py:590: FutureWarning: elementwise comparison failed; returning scalar instead, but in the future will perform elementwise comparison\n",
      "  if self._edgecolors == str('face'):\n",
      "C:\\Users\\Owner\\Anaconda2\\lib\\site-packages\\matplotlib\\text.py:52: UnicodeWarning: Unicode equal comparison failed to convert both arguments to Unicode - interpreting them as being unequal\n",
      "  if rotation in ('horizontal', None):\n",
      "C:\\Users\\Owner\\Anaconda2\\lib\\site-packages\\matplotlib\\text.py:54: UnicodeWarning: Unicode equal comparison failed to convert both arguments to Unicode - interpreting them as being unequal\n",
      "  elif rotation == 'vertical':\n"
     ]
    },
    {
     "data": {
      "image/png": "[encoded data removed]",
      "text/plain": [
       "<matplotlib.figure.Figure at 0x3cb27f0>"
      ]
     },
     "metadata": {},
     "output_type": "display_data"
    }
   ],
   "source": [
    "#Contour Plot:\n",
    "%matplotlib inline\n",
    "yy = np.dot(x2.reshape(100,1), np.ones((1,100)))\n",
    "xx = np.dot(x1.reshape(100,1), np.ones((1,100))).T\n",
    "\n",
    "CS = plt.contour(xx,yy,yNorm*allOutputs.reshape(100, 100))\n",
    "plt.clabel(CS, inline=1, fontsize=10)\n",
    "plt.xlabel('x1')\n",
    "plt.ylabel('x2')"
   ]
  },
  {
   "cell_type": "code",
   "execution_count": 4,
   "metadata": {
    "collapsed": false
   },
   "outputs": [
    {
     "ename": "NameError",
     "evalue": "name 'plt' is not defined",
     "output_type": "error",
     "traceback": [
      "\u001b[1;31m---------------------------------------------------------------------------\u001b[0m",
      "\u001b[1;31mNameError\u001b[0m                                 Traceback (most recent call last)",
      "\u001b[1;32m<ipython-input-4-3529e6ab1c78>\u001b[0m in \u001b[0;36m<module>\u001b[1;34m()\u001b[0m\n\u001b[0;32m      4\u001b[0m \u001b[1;33m\u001b[0m\u001b[0m\n\u001b[0;32m      5\u001b[0m \u001b[1;32mfrom\u001b[0m \u001b[0mmpl_toolkits\u001b[0m\u001b[1;33m.\u001b[0m\u001b[0mmplot3d\u001b[0m \u001b[1;32mimport\u001b[0m \u001b[0mAxes3D\u001b[0m\u001b[1;33m\u001b[0m\u001b[0m\n\u001b[1;32m----> 6\u001b[1;33m \u001b[0mfig\u001b[0m \u001b[1;33m=\u001b[0m \u001b[0mplt\u001b[0m\u001b[1;33m.\u001b[0m\u001b[0mfigure\u001b[0m\u001b[1;33m(\u001b[0m\u001b[1;33m)\u001b[0m\u001b[1;33m\u001b[0m\u001b[0m\n\u001b[0m\u001b[0;32m      7\u001b[0m \u001b[0max\u001b[0m \u001b[1;33m=\u001b[0m \u001b[0mfig\u001b[0m\u001b[1;33m.\u001b[0m\u001b[0mgca\u001b[0m\u001b[1;33m(\u001b[0m\u001b[0mprojection\u001b[0m\u001b[1;33m=\u001b[0m\u001b[1;34m'3d'\u001b[0m\u001b[1;33m)\u001b[0m\u001b[1;33m\u001b[0m\u001b[0m\n\u001b[0;32m      8\u001b[0m \u001b[1;33m\u001b[0m\u001b[0m\n",
      "\u001b[1;31mNameError\u001b[0m: name 'plt' is not defined"
     ]
    }
   ],
   "source": [
    "#3D plot:\n",
    "#Uncomment to plot out-of-notebook (you'll be able to rotate)\n",
    "%matplotlib qt\n",
    "\n",
    "from mpl_toolkits.mplot3d import Axes3D\n",
    "fig = plt.figure()\n",
    "ax = fig.gca(projection='3d')\n",
    "\n",
    "#Scatter training examples:\n",
    "ax.scatter(xNorm[0]*x[:,0], xNorm[1]*x[:,1], yNorm*y, c='k', alpha = 1, s=30)\n",
    "\n",
    "\n",
    "surf = ax.plot_surface(xx, yy, yNorm*allOutputs.reshape(100, 100), \\\n",
    "                       cmap=plt.cm.jet, alpha = 0.5)\n",
    "\n",
    "\n",
    "ax.set_xlabel('x1')\n",
    "ax.set_ylabel('x2')\n",
    "ax.set_zlabel('yHat')"
   ]
  },
  {
   "cell_type": "markdown",
   "metadata": {},
   "source": [
    "# Parameters that work\n",
    "\n",
    "Perfect weights for ANN\n",
    " \n",
    "## Multiplication Neural Net\n",
    "\n",
    "Function:  \n",
    "y = x1 * x2\n",
    "\n",
    "### Configuration 1\n",
    "\n",
    "Hyperparameters:  \n",
    "inputLayerSize = 2  \n",
    "outputLayerSize = 1  \n",
    "hiddenLayerSize = 3  \n",
    " \n",
    "Activation function: sigmoid \n",
    " \n",
    "Training set generation parameters:    \n",
    "n = 100  \n",
    "yMax = 1000   \n",
    "maxNoise = 3  \n",
    " \n",
    "Cost:  0.102647669699\n",
    " \n",
    "Weights:  \n",
    "array([ -1.38701624e-02,   2.26887306e+02,   2.07337463e+02, -1.48464159e-02,   2.26647525e+02,   2.53320058e+02, -8.49642096e+02,   9.93241265e+01,   3.21016296e+02])  \n",
    "\n",
    "### Configuration 2\n",
    "\n",
    "Hyperparameters:  \n",
    "inputLayerSize = 2  \n",
    "outputLayerSize = 1  \n",
    "hiddenLayerSize = 4  \n",
    " \n",
    "Activation function: sigmoid\n",
    " \n",
    "Training set generation parameters:    \n",
    "n = 100  \n",
    "yMax = 1000  \n",
    "maxNoise = 3  \n",
    "\n",
    "Cost:  0.019336339277\n",
    "\n",
    "Weights:  \n",
    "array([   1.01275545,  -56.52080697,    1.08475523,  -12.96642581, -1.37938519, -284.78060384,   -1.37067348,    2.68145405, -260.99911217, -139.95759384,  252.78518696,   -1.25361515])  \n",
    "        \n",
    "### Configuration 3\n",
    "\n",
    "Hyperparameters:  \n",
    "inputLayerSize = 2  \n",
    "outputLayerSize = 1  \n",
    "hiddenLayerSize = [3, 3, 2]  \n",
    "\n",
    "Activation function: sigmoid\n",
    "\n",
    "Training set generation parameters:  \n",
    "n = 100  \n",
    "yMax = 1000  \n",
    "maxNoise = 0  \n",
    "\n",
    "Cost:  0.000132222970768\n",
    "\n",
    "Weights:  \n",
    "array([ -6.54536587,  -0.52732609,  -1.09179483,   1.79478202, -0.74794082,   8.20501251,  -0.36178028, -12.75484977, -13.59661701,  -3.25103876, -33.3471684 , -16.55070152, 0.34646804,   3.16438814,  15.20769712, -13.79044737, -3.40176835, -34.14644453, -22.39643493,  26.94347326, -0.14894383,   6.99445105, -34.9698082 ])"
   ]
  },
  {
   "cell_type": "code",
   "execution_count": 21,
   "metadata": {
    "collapsed": false
   },
   "outputs": [
    {
     "name": "stdout",
     "output_type": "stream",
     "text": [
      "Cost:  0.000379713607474\n"
     ]
    },
    {
     "data": {
      "text/plain": [
       "array([ 36.86238365,   5.23584117,  -0.7069653 ,  56.43660538,\n",
       "        67.5804284 ,  -0.60204178,   0.29323962,   1.50210873,\n",
       "        43.07541711,   3.10253618,  32.64087429, -51.4268286 ,\n",
       "        -0.67888548,  -2.40555018,  69.86731024, -44.34847733,\n",
       "       -10.11105364, -14.88217179,  -5.49014591,  57.01382791,\n",
       "        19.22824875, -82.5321376 ,  31.91815799])"
      ]
     },
     "execution_count": 21,
     "metadata": {},
     "output_type": "execute_result"
    }
   ],
   "source": [
    "perfectParams = net.getParams()\n",
    "print \"Cost: \", net.costFunction(x, y)[0]\n",
    "perfectParams"
   ]
  },
  {
   "cell_type": "code",
   "execution_count": 22,
   "metadata": {
    "collapsed": true
   },
   "outputs": [],
   "source": [
    "net.setParams([ -6.54536587, -0.52732609, -1.09179483, 1.79478202, -0.74794082, 8.20501251, -0.36178028, -12.75484977, -13.59661701, -3.25103876, -33.3471684 , -16.55070152, 0.34646804, 3.16438814, 15.20769712, -13.79044737, -3.40176835, -34.14644453, -22.39643493, 26.94347326, -0.14894383, 6.99445105, -34.9698082 ])"
   ]
  },
  {
   "cell_type": "code",
   "execution_count": null,
   "metadata": {
    "collapsed": true
   },
   "outputs": [],
   "source": []
  }
 ],
 "metadata": {
  "kernelspec": {
   "display_name": "Python 2",
   "language": "python",
   "name": "python2"
  },
  "language_info": {
   "codemirror_mode": {
    "name": "ipython",
    "version": 2
   },
   "file_extension": ".py",
   "mimetype": "text/x-python",
   "name": "python",
   "nbconvert_exporter": "python",
   "pygments_lexer": "ipython2",
   "version": "2.7.10"
  }
 },
 "nbformat": 4,
 "nbformat_minor": 0
}
