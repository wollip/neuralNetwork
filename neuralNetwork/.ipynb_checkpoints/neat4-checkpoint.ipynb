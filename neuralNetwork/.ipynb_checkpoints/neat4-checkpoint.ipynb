{
 "cells": [
  {
   "cell_type": "code",
   "execution_count": 146,
   "metadata": {
    "collapsed": true
   },
   "outputs": [],
   "source": [
    "import random\n",
    "import numpy as np\n",
    "import matplotlib.pyplot as plt\n",
    "import string\n",
    "import math\n",
    "%matplotlib inline"
   ]
  },
  {
   "cell_type": "code",
   "execution_count": 2,
   "metadata": {
    "collapsed": true
   },
   "outputs": [],
   "source": [
    "#data storage\n",
    "inputs = [[1,0],[0,0],[0,1],[1,1]]\n",
    "outputs = [1,0,1,0]"
   ]
  },
  {
   "cell_type": "code",
   "execution_count": 650,
   "metadata": {
    "collapsed": true
   },
   "outputs": [],
   "source": [
    "#global variables\n",
    "outputNode = 2\n",
    "#nodes\n",
    "nodes = []\n",
    "nodes.append({'type': 'input'})\n",
    "nodes.append({'type': 'input'})\n",
    "nodes.append({'type' : 'output'})\n",
    "\n",
    "#connections\n",
    "connections = []\n",
    "connections.append({\"name\": 0, \"connection\": [0,2]})\n",
    "connections.append({\"name\": 1, \"connection\": [1,2]})"
   ]
  },
  {
   "cell_type": "code",
   "execution_count": 200,
   "metadata": {
    "collapsed": true
   },
   "outputs": [],
   "source": [
    "# location of different normalizing operations\n",
    "def noChange(n):\n",
    "    return n\n",
    "\n",
    "def sigmoid( x):\n",
    "    return 1/(1+np.exp(-x))\n",
    "\n",
    "def abstanh(x):\n",
    "    return math.fabs(math.tanh(x))\n",
    "\n",
    "def absolute(x):\n",
    "    return math.fabs(x)"
   ]
  },
  {
   "cell_type": "code",
   "execution_count": 649,
   "metadata": {
    "collapsed": true
   },
   "outputs": [],
   "source": [
    "class Individual(object):\n",
    "    \n",
    "    def __init__(self, connectionNames, weights):\n",
    "        if len(connectionNames) is not len(weights):\n",
    "            print(\"error: Individual: length of connectionName does not match length of weights\")\n",
    "        self.connectionNames = connectionNames\n",
    "        self.weights = weights\n",
    "        self.genes = [ connections[index][\"connection\"] + [weights[index]] for index in range(len(connectionNames))]\n",
    "        self.valid = True\n",
    "        self.instructions = []\n",
    "        self.specie = ''\n",
    "        self.name()\n",
    "        self.hiddenToDepth = [0]*10\n",
    "        self.genesCheck = [True]*len(self.genes)\n",
    "        self.checkPath(outputNode, [outputNode], 0)\n",
    "        \n",
    "    \n",
    "    def name(self):\n",
    "        inputNode = [x[0] for x in self.genes]\n",
    "        outputNode = [x[1] for x in self.genes]\n",
    "        nodes = np.unique(inputNode + outputNode)\n",
    "        for number in nodes:\n",
    "            self.specie = self.specie + ',' + str(number)\n",
    "        self.specie = self.specie[1:]\n",
    "    \n",
    "    def checkPath(self, node, path, depth):\n",
    "        #print()\n",
    "        #print(\"checking Path at\", node)\n",
    "        \n",
    "        \n",
    "        if depth >=10:\n",
    "            print(\"max depth has been reached\")\n",
    "        \n",
    "        depth +=1\n",
    "        \n",
    "        if not self.valid:\n",
    "            return False\n",
    "        #else:\n",
    "        #    print(\"individual is currently valid\")\n",
    "            \n",
    "        for index in range(len(self.genes)):\n",
    "            \n",
    "            if self.genes[index][1] == node:\n",
    "                #print()\n",
    "                #print(node, \"connects to:\", self.genes[index][0])\n",
    "                \n",
    "                if self.genesCheck[index]:\n",
    "                    self.instructions.insert(self.hiddenToDepth[depth-1], self.genes[index])\n",
    "                    for index1 in range(depth, len(self.hiddenToDepth)):\n",
    "                        self.hiddenToDepth[index1] += 1\n",
    "                    #print(self.hiddenToDepth)\n",
    "                    #print(\"inserting instruction at location\",self.hiddenToDepth[depth])\n",
    "                    #print(self.instructions)\n",
    "                    self.genesCheck[index] = False\n",
    "                \n",
    "                newpath = path[:] + [self.genes[index][0]]\n",
    "                #print(\"current path:\", newpath)\n",
    "                \n",
    "                if len(np.unique(newpath)) != len(newpath):\n",
    "                    print('individual is no longer valid')\n",
    "                    self.valid = False\n",
    "                    return False\n",
    "                    \n",
    "                \n",
    "                if nodes[self.genes[index][0]]['type'] != 'input':\n",
    "                    #print(\"recursively calling on check Path for node\", self.genes[index][0])\n",
    "                    boolean = self.checkPath(self.genes[index][0], newpath, depth)\n",
    "                    #if not boolean:\n",
    "                    #    return False\n",
    "            \n",
    "            \n",
    "    \n",
    "    def predict(self, singleInput):\n",
    "        nodeVals = singleInput[:]\n",
    "        nodeVals.extend([0]*(len(nodes)-len(singleInput)))\n",
    "        changedNodes = [False]*len(nodes)\n",
    "        \n",
    "        for instruction in self.instructions:\n",
    "            \n",
    "            if not changedNodes[instruction[0]]:            \n",
    "                changedNodes[instruction[0]] = True\n",
    "                #change this for different type of functions\n",
    "                nodeVals[instruction[0]] = absolute(nodeVals[instruction[0]])\n",
    "                \n",
    "            nodeVals[instruction[1]] += nodeVals[instruction[0]] * instruction[2]\n",
    "        \n",
    "        return absolute(nodeVals[outputNode])\n",
    "    \n",
    "    def fitness(self, inputs, output):\n",
    "        #basically run fit a lot of times and see what happens\n",
    "        if self.valid:\n",
    "            store = 0\n",
    "            for index in range(len(inputs)):\n",
    "                store += (output[index] - self.predict(inputs[index]))**2\n",
    "            self.fitVal = store**0.5\n",
    "            return self.fitVal\n",
    "        else: \n",
    "            self.fitVal = float('inf')\n",
    "            return float('inf')"
   ]
  },
  {
   "cell_type": "code",
   "execution_count": 588,
   "metadata": {
    "collapsed": false,
    "scrolled": true
   },
   "outputs": [
    {
     "name": "stdout",
     "output_type": "stream",
     "text": [
      "\n",
      "checking Path at 2\n",
      "individual is currently valid\n",
      "\n",
      "2 connects to: 0\n",
      "[[0, 2, 0.00683768624711234]]\n",
      "current path: [2, 0]\n",
      "\n",
      "2 connects to: 1\n",
      "[[1, 2, 0.9974664011088996], [0, 2, 0.00683768624711234]]\n",
      "current path: [2, 1]\n",
      "\n",
      "2 connects to: 3\n",
      "[[3, 2, 0.8105585421126693], [1, 2, 0.9974664011088996], [0, 2, 0.00683768624711234]]\n",
      "current path: [2, 3]\n",
      "recursively calling on check Path for node 3\n",
      "\n",
      "checking Path at 3\n",
      "individual is currently valid\n",
      "\n",
      "3 connects to: 0\n",
      "[[3, 2, 0.8105585421126693], [1, 2, 0.9974664011088996], [0, 2, 0.00683768624711234], [0, 3, 0.2627921603066935]]\n",
      "current path: [2, 3, 0]\n",
      "\n",
      "3 connects to: 6\n",
      "[[3, 2, 0.8105585421126693], [1, 2, 0.9974664011088996], [0, 2, 0.00683768624711234], [6, 3, 0.720360101837396], [0, 3, 0.2627921603066935]]\n",
      "current path: [2, 3, 6]\n",
      "recursively calling on check Path for node 6\n",
      "\n",
      "checking Path at 6\n",
      "individual is currently valid\n",
      "\n",
      "6 connects to: 5\n",
      "[[3, 2, 0.8105585421126693], [1, 2, 0.9974664011088996], [0, 2, 0.00683768624711234], [6, 3, 0.720360101837396], [0, 3, 0.2627921603066935], [5, 6, 0.32659132259684565]]\n",
      "current path: [2, 3, 6, 5]\n",
      "recursively calling on check Path for node 5\n",
      "\n",
      "checking Path at 5\n",
      "individual is currently valid\n",
      "\n",
      "5 connects to: 1\n",
      "[[3, 2, 0.8105585421126693], [1, 2, 0.9974664011088996], [0, 2, 0.00683768624711234], [6, 3, 0.720360101837396], [0, 3, 0.2627921603066935], [5, 6, 0.32659132259684565], [1, 5, 0.6968327882841666]]\n",
      "current path: [2, 3, 6, 5, 1]\n",
      "\n",
      "6 connects to: 8\n",
      "[[3, 2, 0.8105585421126693], [1, 2, 0.9974664011088996], [0, 2, 0.00683768624711234], [6, 3, 0.720360101837396], [0, 3, 0.2627921603066935], [8, 6, 0.37638246006202125], [5, 6, 0.32659132259684565], [1, 5, 0.6968327882841666]]\n",
      "current path: [2, 3, 6, 8]\n",
      "recursively calling on check Path for node 8\n",
      "\n",
      "checking Path at 8\n",
      "individual is currently valid\n",
      "\n",
      "8 connects to: 1\n",
      "[[3, 2, 0.8105585421126693], [1, 2, 0.9974664011088996], [0, 2, 0.00683768624711234], [6, 3, 0.720360101837396], [0, 3, 0.2627921603066935], [8, 6, 0.37638246006202125], [5, 6, 0.32659132259684565], [1, 8, 0.24143257177015187], [1, 5, 0.6968327882841666]]\n",
      "current path: [2, 3, 6, 8, 1]\n",
      "\n",
      "3 connects to: 7\n",
      "[[3, 2, 0.8105585421126693], [1, 2, 0.9974664011088996], [0, 2, 0.00683768624711234], [7, 3, 0.8280692050252125], [6, 3, 0.720360101837396], [0, 3, 0.2627921603066935], [8, 6, 0.37638246006202125], [5, 6, 0.32659132259684565], [1, 8, 0.24143257177015187], [1, 5, 0.6968327882841666]]\n",
      "current path: [2, 3, 7]\n",
      "recursively calling on check Path for node 7\n",
      "\n",
      "checking Path at 7\n",
      "individual is currently valid\n",
      "\n",
      "7 connects to: 1\n",
      "[[3, 2, 0.8105585421126693], [1, 2, 0.9974664011088996], [0, 2, 0.00683768624711234], [7, 3, 0.8280692050252125], [6, 3, 0.720360101837396], [0, 3, 0.2627921603066935], [1, 7, 0.6672409980763895], [8, 6, 0.37638246006202125], [5, 6, 0.32659132259684565], [1, 8, 0.24143257177015187], [1, 5, 0.6968327882841666]]\n",
      "current path: [2, 3, 7, 1]\n",
      "\n",
      "2 connects to: 4\n",
      "[[4, 2, 0.22455489704975673], [3, 2, 0.8105585421126693], [1, 2, 0.9974664011088996], [0, 2, 0.00683768624711234], [7, 3, 0.8280692050252125], [6, 3, 0.720360101837396], [0, 3, 0.2627921603066935], [1, 7, 0.6672409980763895], [8, 6, 0.37638246006202125], [5, 6, 0.32659132259684565], [1, 8, 0.24143257177015187], [1, 5, 0.6968327882841666]]\n",
      "current path: [2, 4]\n",
      "recursively calling on check Path for node 4\n",
      "\n",
      "checking Path at 4\n",
      "individual is currently valid\n",
      "\n",
      "4 connects to: 3\n",
      "[[4, 2, 0.22455489704975673], [3, 2, 0.8105585421126693], [1, 2, 0.9974664011088996], [0, 2, 0.00683768624711234], [3, 4, 0.39112468672228295], [7, 3, 0.8280692050252125], [6, 3, 0.720360101837396], [0, 3, 0.2627921603066935], [1, 7, 0.6672409980763895], [8, 6, 0.37638246006202125], [5, 6, 0.32659132259684565], [1, 8, 0.24143257177015187], [1, 5, 0.6968327882841666]]\n",
      "current path: [2, 4, 3]\n",
      "recursively calling on check Path for node 3\n",
      "\n",
      "checking Path at 3\n",
      "individual is currently valid\n",
      "\n",
      "3 connects to: 0\n",
      "current path: [2, 4, 3, 0]\n",
      "\n",
      "3 connects to: 6\n",
      "current path: [2, 4, 3, 6]\n",
      "recursively calling on check Path for node 6\n",
      "\n",
      "checking Path at 6\n",
      "individual is currently valid\n",
      "\n",
      "6 connects to: 5\n",
      "current path: [2, 4, 3, 6, 5]\n",
      "recursively calling on check Path for node 5\n",
      "\n",
      "checking Path at 5\n",
      "individual is currently valid\n",
      "\n",
      "5 connects to: 1\n",
      "current path: [2, 4, 3, 6, 5, 1]\n",
      "\n",
      "6 connects to: 8\n",
      "current path: [2, 4, 3, 6, 8]\n",
      "recursively calling on check Path for node 8\n",
      "\n",
      "checking Path at 8\n",
      "individual is currently valid\n",
      "\n",
      "8 connects to: 1\n",
      "current path: [2, 4, 3, 6, 8, 1]\n",
      "\n",
      "3 connects to: 7\n",
      "current path: [2, 4, 3, 7]\n",
      "recursively calling on check Path for node 7\n",
      "\n",
      "checking Path at 7\n",
      "individual is currently valid\n",
      "\n",
      "7 connects to: 1\n",
      "current path: [2, 4, 3, 7, 1]\n",
      "\n",
      "4 connects to: 5\n",
      "[[4, 2, 0.22455489704975673], [3, 2, 0.8105585421126693], [1, 2, 0.9974664011088996], [0, 2, 0.00683768624711234], [5, 4, 0.10593902062755889], [3, 4, 0.39112468672228295], [7, 3, 0.8280692050252125], [6, 3, 0.720360101837396], [0, 3, 0.2627921603066935], [1, 7, 0.6672409980763895], [8, 6, 0.37638246006202125], [5, 6, 0.32659132259684565], [1, 8, 0.24143257177015187], [1, 5, 0.6968327882841666]]\n",
      "current path: [2, 4, 5]\n",
      "recursively calling on check Path for node 5\n",
      "\n",
      "checking Path at 5\n",
      "individual is currently valid\n",
      "\n",
      "5 connects to: 1\n",
      "current path: [2, 4, 5, 1]\n",
      "[[4, 2, 0.22455489704975673], [3, 2, 0.8105585421126693], [1, 2, 0.9974664011088996], [0, 2, 0.00683768624711234], [5, 4, 0.10593902062755889], [3, 4, 0.39112468672228295], [7, 3, 0.8280692050252125], [6, 3, 0.720360101837396], [0, 3, 0.2627921603066935], [1, 7, 0.6672409980763895], [8, 6, 0.37638246006202125], [5, 6, 0.32659132259684565], [1, 8, 0.24143257177015187], [1, 5, 0.6968327882841666]]\n"
     ]
    }
   ],
   "source": [
    "test = Individual(range(0,len(connections)), [random.random() for x in range(0,len(connections))])\n",
    "print(test.instructions)\n",
    "#must check to see if isntruction is added already"
   ]
  },
  {
   "cell_type": "code",
   "execution_count": 568,
   "metadata": {
    "collapsed": false
   },
   "outputs": [
    {
     "data": {
      "text/plain": [
       "True"
      ]
     },
     "execution_count": 568,
     "metadata": {},
     "output_type": "execute_result"
    }
   ],
   "source": [
    "test.valid"
   ]
  },
  {
   "cell_type": "code",
   "execution_count": 340,
   "metadata": {
    "collapsed": false
   },
   "outputs": [
    {
     "data": {
      "text/plain": [
       "[{'connection': [0, 2], 'name': 0},\n",
       " {'connection': [1, 2], 'name': 1},\n",
       " {'connection': [0, 3], 'name': 1},\n",
       " {'connection': [3, 1], 'name': 2}]"
      ]
     },
     "execution_count": 340,
     "metadata": {},
     "output_type": "execute_result"
    }
   ],
   "source": [
    "connections"
   ]
  },
  {
   "cell_type": "code",
   "execution_count": 631,
   "metadata": {
    "collapsed": false
   },
   "outputs": [],
   "source": [
    "class Breed(object):\n",
    "    \n",
    "    def __init__(self, populationSize, inputs, outputs, mutationLevel, retainPercentage):\n",
    "        self.mutationLevel = mutationLevel\n",
    "        self.inputs = inputs\n",
    "        self.outputs = outputs\n",
    "        self.species = []\n",
    "        self.generationNumber = 0\n",
    "        self.populationSize = populationSize\n",
    "        self.retainSize = int(populationSize*retainPercentage)\n",
    "    \n",
    "    def initGeneration(self):\n",
    "        self.individuals = []\n",
    "        connectionNames = [0,1]\n",
    "        for i in range(self.populationSize):\n",
    "            weights = [random.uniform(-1,1), random.uniform(-1,1)]            \n",
    "            self.individuals.append(Individual(connectionNames, weights))\n",
    "    \n",
    "    def evalPopulation(self):\n",
    "        totalFitness = 0\n",
    "        for individual in self.individuals:\n",
    "            totalFitness += individual.fitness(self.inputs, self.outputs)\n",
    "        self.GenerationFitness = totalFitness / self.populationSize\n",
    "        return self.GenerationFitness\n",
    "    \n",
    "    def weedPopulation(self):\n",
    "        self.oldGeneration = []\n",
    "        for individual in self.individuals:\n",
    "            if individual.fitVal < self.GenerationFitness:\n",
    "                self.oldGeneration.append(individual)\n",
    "        \n",
    "        self.oldGeneration = sorted(self.oldGeneration, key = lambda cell: cell.fitVal)\n",
    "        \n",
    "        while len(self.oldGeneration) < self.retainSize:\n",
    "            self.oldGeneration.append(self.individuals[random.randint(0,len(self.individuals)-1)])\n",
    "        \n",
    "        while len(self.oldGeneration)> self.retainSize:\n",
    "            del self.oldGeneration[-1]\n",
    "            del self.oldGeneration[random.randint(0,len(self.oldGeneration)-1)]\n",
    "        \n",
    "        sumed = 0\n",
    "        for individual in self.oldGeneration:\n",
    "            sumed += individual.fitVal\n",
    "        self.oldAVG = sumed / len(self.oldGeneration)\n",
    "        \n",
    "    def breed(self, evolve):\n",
    "        \n",
    "        self.newGeneration = self.oldGeneration[:]\n",
    "        if evolve:\n",
    "            self.evolve()\n",
    "        #print(\"newGenerationLength: \", len(self.newGeneration))\n",
    "        self.addMutants()\n",
    "        #print(\"newGenerationLength (after mutation): \", len(self.newGeneration))\n",
    "        self.mate()\n",
    "        #print(\"newGenerationLength (after mating): \", len(self.newGeneration))\n",
    "        self.individuals = self.newGeneration\n",
    "    \n",
    "    def addMutants(self):\n",
    "        for individual in self.oldGeneration:\n",
    "            if random.random() < self.mutationLevel:\n",
    "                newWeights = individual.weights[:]\n",
    "                newWeights[random.randint(0,len(newWeights)-1)] = random.uniform(-1,1)\n",
    "                self.newGeneration.append(Individual(individual.connectionNames[:], newWeights))\n",
    "                \n",
    "    def mate(self):\n",
    "        #print(\"mating starting\")\n",
    "        while len(self.newGeneration) < self.populationSize:\n",
    "            father = self.oldGeneration[random.randint(0, len(self.oldGeneration)-1)]\n",
    "            mother = self.newGeneration[random.randint(0, len(self.newGeneration)-1)]\n",
    "            if father is not mother:\n",
    "                #print(\"father is not mother\")\n",
    "                if father.specie == mother.specie:\n",
    "                    #print(\"father is same specie as mother\")\n",
    "                    connectionNames = father.connectionNames\n",
    "                    weights = []\n",
    "                    for index in range(len(connectionNames)):\n",
    "                        if random.random()>0.5:\n",
    "                            weights.append(father.weights[index])\n",
    "                        else:\n",
    "                            weights.append(mother.weights[index])\n",
    "                    self.newGeneration.append(Individual(connectionNames, weights))\n",
    "                    #print(\"a child is born\")\n",
    "    \n",
    "    def evolve(self):\n",
    "        print(\"generating new species\")\n",
    "        \n",
    "        if random.random() > 1:\n",
    "            print(\"we are making a new connection\")\n",
    "            \n",
    "        else:\n",
    "            print(\"we are making a new node\")\n",
    "            boolean = True\n",
    "            startNode = 0\n",
    "            endNode = 0\n",
    "            while boolean:\n",
    "                startNode = random.randint(0,len(nodes)-1)\n",
    "                if startNode == outputNode:\n",
    "                    continue\n",
    "                endNode = random.randint(0,len(nodes)-1)\n",
    "                if nodes[endNode]['type'] == 'input':\n",
    "                    continue\n",
    "                fine = True\n",
    "                if startNode == endNode:\n",
    "                    fine = False\n",
    "                else:\n",
    "                    for index in range(3,len(nodes)):\n",
    "                        if nodes[index]['between'] == [startNode,endNode]:\n",
    "                            fine = False            \n",
    "                            break\n",
    "                if fine:\n",
    "                    nodes.append({'type':'hidden', 'between': [startNode, endNode] })\n",
    "                    boolean = False\n",
    "                    \n",
    "            print(\"we made a new node, # =\", len(nodes)-1)\n",
    "            print(\"it connections\", nodes[-1]['between'])\n",
    "            connections.append({'name': len(connections), 'connection': [startNode, len(nodes)-1]})\n",
    "            connections.append({'name': len(connections), 'connection': [len(nodes)-1, endNode]})\n",
    "            self.mutants = []\n",
    "            for i in range(2):\n",
    "                for individual in self.oldGeneration:\n",
    "                    newConnections = individual.connectionNames[:] + [len(connections)-2, len(connections)-1]\n",
    "                    newWeights = individual.weights + [random.uniform(-1,1),random.uniform(-1,1)]\n",
    "                    mutant = Individual(newConnections, newWeights)\n",
    "                    self.mutants.append(mutant)\n",
    "            \n",
    "            mutantEvol = Breed(len(self.mutants), self.inputs, self.outputs, self.mutationLevel, 0.5)\n",
    "            mutantEvol.individuals = self.mutants\n",
    "            for i in range(5):\n",
    "                mutantEvol.evalPopulation()\n",
    "                mutantEvol.weedPopulation()\n",
    "                mutantEvol.breed(False)\n",
    "            self.newGeneration.extend(mutantEvol.newGeneration)\n",
    "                        "
   ]
  },
  {
   "cell_type": "code",
   "execution_count": 651,
   "metadata": {
    "collapsed": false
   },
   "outputs": [],
   "source": [
    "mutationLevel = 0.9\n",
    "retainPercentage = 0.4\n",
    "evolution = Breed(50, inputs, outputs, mutationLevel, retainPercentage)\n",
    "evolution.initGeneration()"
   ]
  },
  {
   "cell_type": "code",
   "execution_count": 652,
   "metadata": {
    "collapsed": true
   },
   "outputs": [],
   "source": [
    "fitness = []"
   ]
  },
  {
   "cell_type": "code",
   "execution_count": 672,
   "metadata": {
    "collapsed": false
   },
   "outputs": [
    {
     "name": "stdout",
     "output_type": "stream",
     "text": [
      "Generation:  0 fitness:  0.09254567800157767\n",
      "Generation:  1 fitness:  0.09254567800157767\n",
      "Generation:  2 fitness:  0.09254567800157767\n",
      "generating new species\n",
      "we are making a new node\n",
      "we made a new node, # = 8\n",
      "it connections [4, 3]\n"
     ]
    }
   ],
   "source": [
    "\n",
    "for i in range(3):\n",
    "    evolution.evalPopulation()\n",
    "\n",
    "    evolution.weedPopulation()\n",
    "    fitness.append(evolution.oldAVG)\n",
    "    evolution.breed(False)\n",
    "    print(\"Generation: \", i, \"fitness: \", evolution.oldAVG)\n",
    "    #for individual in evolution.oldGeneration:\n",
    "    #    print(individual.weights, individual.fitVal)\n",
    "evolution.evalPopulation()\n",
    "evolution.weedPopulation()\n",
    "evolution.breed(True)\n",
    "fitness.append(evolution.oldAVG)\n",
    "#print(\"Evolution: \", x, evolution.oldAVG)"
   ]
  },
  {
   "cell_type": "code",
   "execution_count": 673,
   "metadata": {
    "collapsed": false,
    "scrolled": true
   },
   "outputs": [
    {
     "data": {
      "text/plain": [
       "[<matplotlib.lines.Line2D at 0x535d14fb70>]"
      ]
     },
     "execution_count": 673,
     "metadata": {},
     "output_type": "execute_result"
    },
    {
     "data": {
      "image/png": "[encoded data removed]",
      "text/plain": [
       "<matplotlib.figure.Figure at 0x535d103710>"
      ]
     },
     "metadata": {},
     "output_type": "display_data"
    }
   ],
   "source": [
    "plt.plot(range(len(fitness)), fitness)"
   ]
  },
  {
   "cell_type": "code",
   "execution_count": 674,
   "metadata": {
    "collapsed": false
   },
   "outputs": [
    {
     "name": "stdout",
     "output_type": "stream",
     "text": [
      "[{'connection': [0, 2], 'name': 0}, {'connection': [1, 2], 'name': 1}, {'connection': [1, 3], 'name': 2}, {'connection': [3, 2], 'name': 3}, {'connection': [0, 4], 'name': 4}, {'connection': [4, 3], 'name': 5}, {'connection': [1, 5], 'name': 6}, {'connection': [5, 3], 'name': 7}, {'connection': [1, 6], 'name': 8}, {'connection': [6, 4], 'name': 9}, {'connection': [6, 7], 'name': 10}, {'connection': [7, 3], 'name': 11}, {'connection': [4, 8], 'name': 12}, {'connection': [8, 3], 'name': 13}]\n"
     ]
    }
   ],
   "source": [
    "print(connections)"
   ]
  },
  {
   "cell_type": "code",
   "execution_count": 675,
   "metadata": {
    "collapsed": false
   },
   "outputs": [
    {
     "data": {
      "text/plain": [
       "[[3, 2, -0.41031615990906434],\n",
       " [1, 2, -0.9524502142763787],\n",
       " [0, 2, 0.9253663353616892],\n",
       " [4, 3, 0.5163014378298532],\n",
       " [1, 3, -0.5226883860317697],\n",
       " [0, 4, 0.22620825131747502]]"
      ]
     },
     "execution_count": 675,
     "metadata": {},
     "output_type": "execute_result"
    }
   ],
   "source": [
    "test = evolution.individuals[0]\n",
    "test.instructions"
   ]
  },
  {
   "cell_type": "code",
   "execution_count": 679,
   "metadata": {
    "collapsed": false
   },
   "outputs": [
    {
     "name": "stdout",
     "output_type": "stream",
     "text": [
      "0.9253663353616892\n",
      "0.0\n",
      "0.9524502142763787\n",
      "0.02708387891468944\n"
     ]
    }
   ],
   "source": [
    "for input1 in inputs:\n",
    "    print(test.predict(input1))"
   ]
  },
  {
   "cell_type": "code",
   "execution_count": null,
   "metadata": {
    "collapsed": true
   },
   "outputs": [],
   "source": []
  }
 ],
 "metadata": {
  "kernelspec": {
   "display_name": "Python 3",
   "language": "python",
   "name": "python3"
  },
  "language_info": {
   "codemirror_mode": {
    "name": "ipython",
    "version": 3
   },
   "file_extension": ".py",
   "mimetype": "text/x-python",
   "name": "python",
   "nbconvert_exporter": "python",
   "pygments_lexer": "ipython3",
   "version": "3.5.1"
  }
 },
 "nbformat": 4,
 "nbformat_minor": 0
}
