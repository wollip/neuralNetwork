{
 "cells": [
  {
   "cell_type": "code",
   "execution_count": 10,
   "metadata": {
    "collapsed": true
   },
   "outputs": [],
   "source": [
    "import random\n",
    "import numpy as np\n",
    "import matplotlib.pyplot as plt\n",
    "import string\n",
    "import math\n",
    "%matplotlib inline"
   ]
  },
  {
   "cell_type": "code",
   "execution_count": 11,
   "metadata": {
    "collapsed": true
   },
   "outputs": [],
   "source": [
    "#data storage\n",
    "inputs = [[1,0],[0,0],[0,1],[1,1]]\n",
    "outputs = [1,0,1,0]"
   ]
  },
  {
   "cell_type": "code",
   "execution_count": 13,
   "metadata": {
    "collapsed": true
   },
   "outputs": [],
   "source": [
    "# location of different normalizing operations\n",
    "def noChange(n):\n",
    "    return n\n",
    "\n",
    "def sigmoid( x):\n",
    "    return 1/(1+np.exp(-x))\n",
    "\n",
    "def abstanh(x):\n",
    "    return math.fabs(math.tanh(x))\n",
    "\n",
    "def absolute(x):\n",
    "    return math.fabs(x)"
   ]
  },
  {
   "cell_type": "code",
   "execution_count": 30,
   "metadata": {
    "collapsed": true
   },
   "outputs": [],
   "source": [
    "class Individual(object):\n",
    "    def __init__(self, instructions, name):\n",
    "        \n",
    "        self.instructions = instructions\n",
    "        self.name = name\n",
    "    \n",
    "    def predict(self, oneInputSet):\n",
    "        nodeVals = oneInputSet[:] + [0]*(len(nodes)-len(oneInputSet))\n",
    "        changedNodes = [False]*len(nodes)\n",
    "        \n",
    "        for instruction in self.instructions:\n",
    "            \n",
    "            if not changedNodes[instruction[0]]:            \n",
    "                changedNodes[instruction[0]] = True\n",
    "                \n",
    "                #change this for different type of functions\n",
    "                nodeVals[instruction[0]] = absolute(nodeVals[instruction[0]])\n",
    "                \n",
    "            nodeVals[instruction[1]] += nodeVals[instruction[0]] * instruction[2]\n",
    "        \n",
    "        return absolute(nodeVals[outputNode])\n",
    "    \n",
    "    def fitness(self, inputs, output):   \n",
    "        store = 0\n",
    "        for index in range(len(inputs)):\n",
    "            store += (output[index] - self.predict(inputs[index]))**2\n",
    "        self.fitVal = store**0.5\n",
    "        return self.fitVal "
   ]
  },
  {
   "cell_type": "code",
   "execution_count": 282,
   "metadata": {
    "collapsed": false
   },
   "outputs": [],
   "source": [
    "class Breed(object):\n",
    "    \n",
    "    def __init__(self, populationSize, inputs, outputs, mutationLevel, evolvulationLevel, retainPercentage):\n",
    "        self.populationSize = populationSize\n",
    "        self.retainSize = int(populationSize*retainPercentage)\n",
    "        \n",
    "        self.mutationLevel = mutationLevel\n",
    "        self.evolvulationLevel = evolvulationLevel\n",
    "        \n",
    "        self.inputs = inputs\n",
    "        self.outputs = outputs\n",
    "        \n",
    "        self.species = []\n",
    "        self.generationNumber = 0\n",
    "    \n",
    "\n",
    "        self.individuals = []\n",
    "        #this the conenctions can change\n",
    "        \n",
    "    def initializePopulation(self):        \n",
    "        name = list(range(len(nodes)))\n",
    "        for i in range(self.populationSize):\n",
    "            #this has to  match the length of connectionsNames\n",
    "            weights = [random.uniform(-1,1), random.uniform(-1,1)]\n",
    "            instructions = [connections[index] + [weights[index]] for index in range(len(connections))]\n",
    "            self.individuals.append(Individual(instructions, name))\n",
    "    \n",
    "    def evalPopulation(self):\n",
    "        totalFitness = 0\n",
    "        for individual in self.individuals:\n",
    "            totalFitness += individual.fitness(self.inputs, self.outputs)\n",
    "        self.GenerationFitness = totalFitness / self.populationSize\n",
    "        return self.GenerationFitness\n",
    "    \n",
    "    def weedPopulation(self):\n",
    "        self.oldGeneration = []\n",
    "        for individual in self.individuals:\n",
    "            if individual.fitVal < self.GenerationFitness:\n",
    "                self.oldGeneration.append(individual)\n",
    "        \n",
    "        self.oldGeneration = sorted(self.oldGeneration, key = lambda cell: cell.fitVal)\n",
    "        \n",
    "        while len(self.oldGeneration) < self.retainSize:\n",
    "            self.oldGeneration.append(self.individuals[random.randint(0,len(self.individuals)-1)])\n",
    "        \n",
    "        while len(self.oldGeneration)> self.retainSize:\n",
    "            del self.oldGeneration[-1]\n",
    "            del self.oldGeneration[random.randint(0,len(self.oldGeneration)-1)]\n",
    "        \n",
    "        sumed = 0\n",
    "        for individual in self.oldGeneration:\n",
    "            sumed += individual.fitVal\n",
    "        self.oldAVG = sumed / len(self.oldGeneration)\n",
    "    \n",
    "    def breed(self):\n",
    "        self.newGeneration = self.oldGeneration[:]\n",
    "        \n",
    "        if random.random() <  self.evolvulationLevel:\n",
    "            print('***************we are evolving******************')\n",
    "            self.evolve()\n",
    "        \n",
    "        self.addMutants()\n",
    "        self.mate()\n",
    "        self.individuals = self.newGeneration\n",
    "    \n",
    "    def addMutants(self):\n",
    "        for individual in self.oldGeneration:\n",
    "            if random.random() < self.mutationLevel:\n",
    "                newInstructions = [x[:] for x in individual.instructions]\n",
    "                newInstructions[random.randint(0,len(newInstructions)-1)][2] = random.uniform(-1,1)\n",
    "                \n",
    "                self.newGeneration.append(Individual(newInstructions, individual.name))\n",
    "    #### mate needs to make sure the instructions match up\n",
    "    def mate(self):\n",
    "        #print(\"mating starting\")\n",
    "        while len(self.newGeneration) < self.populationSize:\n",
    "            father = self.oldGeneration[random.randint(0, len(self.oldGeneration)-1)]\n",
    "            mother = self.newGeneration[random.randint(0, len(self.newGeneration)-1)]\n",
    "            if father is not mother:\n",
    "                #print(\"father is not mother\")\n",
    "                if father.name == mother.name:\n",
    "                    #print(\"father is same specie as mother\")\n",
    "                    newInstructions = [ x[:] for x in father.instructions]\n",
    "                    for index in range(len(newInstructions)):\n",
    "                        if random.random()>0.5:\n",
    "                            newInstructions[index][2] = father.instructions[index][2]\n",
    "                        else:\n",
    "                            newInstructions[index][2] = mother.instructions[index][2]\n",
    "                    self.newGeneration.append(Individual(newInstructions, father.name))\n",
    " \n",
    "    def checkPath(self, valid, exploringNode, path, newConnections, checkedConnections, depth, instructions, depthToInstruction):\n",
    "                \n",
    "        if depth >= maxDepth:\n",
    "            print(\"max depth has been reached\")\n",
    "            return False\n",
    "        \n",
    "        #depth +=1\n",
    "        \n",
    "        if not valid:\n",
    "            print(\"somehow passed a not valid function\")\n",
    "            return False\n",
    "                   \n",
    "        for index in range(len(newConnections)):\n",
    "            \n",
    "            if newConnections[index][1] == exploringNode:\n",
    "                #print()\n",
    "                #print(node, \"connects to:\", self.genes[index][0])\n",
    "                \n",
    "                newpath = path[:] + [newConnections[index][0]]\n",
    "                #print(\"current path:\", newpath)\n",
    "                \n",
    "                if len(np.unique(newpath)) != len(newpath):\n",
    "                    print('individual is no longer valid')\n",
    "                    valid = False\n",
    "                    return False\n",
    "                \n",
    "                if not checkedConnections[index]:\n",
    "                    instructions.insert(depthToInstruction[depth], newConnections[index])\n",
    "                    for index1 in range(depth, maxDepth):\n",
    "                        depthToInstruction[index1] += 1\n",
    "                    #print(self.hiddenToDepth)\n",
    "                    #print(\"inserting instruction at location\",self.hiddenToDepth[depth])\n",
    "                    #print(self.instructions)\n",
    "                    checkedConnections[index] = True\n",
    "                \n",
    "                \n",
    "             \n",
    "            \n",
    "                \n",
    "                if nodes[newConnections[index][0]] != 'input':\n",
    "                    #print(\"recursively calling on check Path for node\", self.genes[index][0])\n",
    "                    depth+=1\n",
    "                    boolean = self.checkPath(valid, nodes[newConnections[index][0]], newpath, newConnections, checkedConnections, depth, instructions, depthToInstruction)\n",
    "                    #if not boolean:\n",
    "                    #    return False\n",
    "    \n",
    "    def evolve(self):\n",
    "        startNode = None\n",
    "        endNode = None\n",
    "        \n",
    "        instructions = []\n",
    "        print(connections)\n",
    "        while True:\n",
    "            startNode = random.randint(0, len(nodes)-1)\n",
    "            if nodes[startNode] == 'output':\n",
    "                continue\n",
    "            \n",
    "\n",
    "            endNode = random.randint(0, len(nodes)-1)\n",
    "            if nodes[endNode] == 'input' or startNode == endNode:\n",
    "                continue\n",
    "            \n",
    "            newConnections = connections[:] \n",
    "            newConnections.append([startNode, endNode])\n",
    "            checkedConnections = [False]*len(newConnections)\n",
    "            valid = True\n",
    "            exploringNode = outputNode\n",
    "            path = []\n",
    "            depth = 0\n",
    "            instructions = []\n",
    "            depthToInstruction = [0]*maxDepth\n",
    "            print(newConnections)\n",
    "            self.checkPath(valid, exploringNode, path, newConnections, checkedConnections, depth, instructions, depthToInstruction)\n",
    "            if valid:\n",
    "                break\n",
    "        print(\"startNode: {} \\n endNode: {}\".format(startNode, endNode))\n",
    "        print(instructions)\n",
    "        \n",
    "        addNode = False\n",
    "        for connection in connections:\n",
    "            if connection == [startNode, endNode]:\n",
    "                addNode = True\n",
    "                break\n",
    "        print('addNode is' + str(addNode) )\n",
    "        newSpecie = []\n",
    "        mutationLocation = instructions.index([startNode, endNode])\n",
    "        newInstructions = [instruction[:] for instruction in self.oldGeneration[0].instructions]\n",
    "        print(newInstructions)\n",
    "\n",
    "        if addNode:\n",
    "            newNode = len(nodes)\n",
    "            nodes.append('hidden')\n",
    "            connections.append([startNode, newNode])\n",
    "            connections.append([newNode, endNode])              \n",
    "\n",
    "            newInstructions.insert(mutationLocation, connections[-1] + [random.uniform(-1,1)])\n",
    "            newInstructions.insert(mutationLocation, connections[-2] + [random.uniform(-1,1)])\n",
    "            #del newInstructions[mutationLocation + 2]\n",
    "\n",
    "            print(newInstructions)\n",
    "\n",
    "            name = self.oldGeneration[0].name[:]\n",
    "            name.append(len(nodes)-1)\n",
    "            for individual in self.oldGeneration:\n",
    "                newInstructions[mutationLocation][2] = random.uniform(-1,1)\n",
    "                newInstructions[mutationLocation+1][2] = random.uniform(-1,1)\n",
    "\n",
    "                newSpecie.append(Individual(newInstructions, name))\n",
    "        else:\n",
    "            connections.append([startnode, endNode])\n",
    "            newInstructions.insert(mutationLocation, connection[-1] + [random.uniform(-1,1)])\n",
    "            print(newInstructions)\n",
    "\n",
    "            for individual in self.oldGeneration:\n",
    "                newInstructions[mutationLocation][2] = random.uniform(-1,1)\n",
    "                newSpecie.append(Individual(newInstructions, name))\n",
    "        \n",
    "        mutantEvolution = Breed(len(newSpecie), inputs, outputs, mutationLevel, 0, retainPercentage*2)\n",
    "        mutantEvolution.individuals = newSpecie\n",
    "        for i in range(7):\n",
    "            mutantEvolution.evalPopulation()\n",
    "            mutantEvolution.weedPopulation()\n",
    "            mutantEvolution.breed()\n",
    "        self.oldGeneration.extend(mutantEvolution.individuals)\n",
    "        \n",
    "                    \n",
    "            \n",
    "            "
   ]
  },
  {
   "cell_type": "code",
   "execution_count": 283,
   "metadata": {
    "collapsed": true
   },
   "outputs": [],
   "source": [
    "#global variables\n",
    "outputNode = 2\n",
    "maxDepth = 10\n",
    "#nodes\n",
    "nodes = []\n",
    "nodes.append('input')\n",
    "nodes.append('input')\n",
    "nodes.append('output')\n",
    "\n",
    "#connections\n",
    "connections = []\n",
    "connections.append([0,2])\n",
    "connections.append([1,2])"
   ]
  },
  {
   "cell_type": "code",
   "execution_count": 284,
   "metadata": {
    "collapsed": false
   },
   "outputs": [],
   "source": [
    "populationSize = 100\n",
    "mutationLevel = 0.5\n",
    "evolutionLevel = 0.0\n",
    "retainPercentage = 0.2\n",
    "breed = Breed(populationSize, inputs, outputs, mutationLevel, evolutionLevel, retainPercentage)\n",
    "breed.initializePopulation()"
   ]
  },
  {
   "cell_type": "code",
   "execution_count": 285,
   "metadata": {
    "collapsed": true
   },
   "outputs": [],
   "source": [
    "breed.evalPopulation()\n",
    "breed.weedPopulation()\n",
    "breed.breed()"
   ]
  },
  {
   "cell_type": "code",
   "execution_count": 286,
   "metadata": {
    "collapsed": false
   },
   "outputs": [
    {
     "data": {
      "text/plain": [
       "0.6617102132860166"
      ]
     },
     "execution_count": 286,
     "metadata": {},
     "output_type": "execute_result"
    }
   ],
   "source": [
    "breed.oldAVG"
   ]
  },
  {
   "cell_type": "code",
   "execution_count": 289,
   "metadata": {
    "collapsed": false
   },
   "outputs": [
    {
     "name": "stdout",
     "output_type": "stream",
     "text": [
      "[[0, 2], [1, 2], [0, 3], [3, 2], [0, 4], [4, 2]]\n",
      "[[0, 2], [1, 2], [0, 3], [3, 2], [0, 4], [4, 2], [4, 2]]\n",
      "startNode: 4 \n",
      " endNode: 2\n",
      "[[0, 2], [1, 2], [3, 2], [4, 2], [4, 2]]\n",
      "addNode isTrue\n",
      "[[0, 4, -0.4041536993060788], [4, 2, -0.21410024926859528], [0, 3, -0.28832405735332856], [3, 2, 0.7188541323749169], [0, 2, 0.8586686160401567], [1, 2, -0.9972222904515602]]\n",
      "[[0, 4, -0.4041536993060788], [4, 2, -0.21410024926859528], [0, 3, -0.28832405735332856], [4, 5, 0.5660197999229979], [5, 2, -0.8533278782687823], [3, 2, 0.7188541323749169], [0, 2, 0.8586686160401567], [1, 2, -0.9972222904515602]]\n"
     ]
    }
   ],
   "source": [
    "breed.evalPopulation()\n",
    "breed.weedPopulation()\n",
    "breed.evolve()\n",
    "breed.breed()"
   ]
  },
  {
   "cell_type": "code",
   "execution_count": 290,
   "metadata": {
    "collapsed": false
   },
   "outputs": [
    {
     "name": "stdout",
     "output_type": "stream",
     "text": [
      "[[0, 4, -0.4041536993060788], [4, 2, -0.21410024926859528], [0, 3, -0.28832405735332856], [3, 2, 0.7188541323749169], [0, 2, 0.8586686160401567], [1, 2, -0.9972222904515602]] 0.027377812661175862\n",
      "[[0, 4, -0.4041536993060788], [4, 2, -0.21410024926859528], [0, 3, -0.28832405735332856], [3, 2, 0.7188541323749169], [0, 2, 0.8586686160401567], [1, 2, -0.9972222904515602]] 0.027377812661175862\n",
      "[[0, 4, -0.4041536993060788], [4, 2, -0.21410024926859528], [0, 3, -0.28832405735332856], [3, 2, 0.7188541323749169], [0, 2, 0.8586686160401567], [1, 2, -0.9972222904515602]] 0.027377812661175862\n",
      "[[0, 4, -0.4041536993060788], [4, 2, -0.21410024926859528], [0, 3, -0.28832405735332856], [3, 2, 0.7188541323749169], [0, 2, 0.8586686160401567], [1, 2, -0.9972222904515602]] 0.027377812661175862\n",
      "[[0, 4, -0.4041536993060788], [4, 2, -0.21410024926859528], [0, 3, -0.28832405735332856], [3, 2, 0.7188541323749169], [0, 2, 0.8586686160401567], [1, 2, -0.9972222904515602]] 0.027377812661175862\n",
      "[[0, 4, -0.4041536993060788], [4, 2, -0.21410024926859528], [0, 3, -0.28832405735332856], [3, 2, 0.7188541323749169], [0, 2, 0.8586686160401567], [1, 2, -0.9972222904515602]] 0.027377812661175862\n",
      "[[0, 4, -0.4041536993060788], [4, 2, -0.21410024926859528], [0, 3, -0.28832405735332856], [3, 2, 0.7188541323749169], [0, 2, 0.8586686160401567], [1, 2, -0.9972222904515602]] 0.027377812661175862\n",
      "[[0, 4, -0.4041536993060788], [4, 2, -0.21410024926859528], [0, 3, -0.28832405735332856], [3, 2, 0.7188541323749169], [0, 2, 0.8586686160401567], [1, 2, -0.9972222904515602]] 0.027377812661175862\n",
      "[[0, 4, -0.4041536993060788], [4, 2, -0.21410024926859528], [0, 3, -0.28832405735332856], [3, 2, 0.7188541323749169], [0, 2, 0.8586686160401567], [1, 2, -0.9972222904515602]] 0.027377812661175862\n",
      "[[0, 4, -0.4041536993060788], [4, 2, -0.21410024926859528], [0, 3, -0.28832405735332856], [3, 2, 0.7188541323749169], [0, 2, 0.8586686160401567], [1, 2, -0.9972222904515602]] 0.027377812661175862\n",
      "[[0, 4, -0.4041536993060788], [4, 2, -0.21410024926859528], [0, 3, -0.28832405735332856], [3, 2, 0.7188541323749169], [0, 2, 0.8586686160401567], [1, 2, -0.9972222904515602]] 0.027377812661175862\n",
      "[[0, 4, -0.4041536993060788], [4, 2, -0.21410024926859528], [0, 3, -0.28832405735332856], [3, 2, 0.7188541323749169], [0, 2, 0.8586686160401567], [1, 2, -0.9972222904515602]] 0.027377812661175862\n",
      "[[0, 4, -0.4041536993060788], [4, 2, -0.21410024926859528], [0, 3, -0.28832405735332856], [3, 2, 0.7188541323749169], [0, 2, 0.8586686160401567], [1, 2, -0.9972222904515602]] 0.027377812661175862\n",
      "[[0, 4, -0.4041536993060788], [4, 2, -0.21410024926859528], [0, 3, -0.28832405735332856], [3, 2, 0.7188541323749169], [0, 2, 0.8586686160401567], [1, 2, -0.9972222904515602]] 0.027377812661175862\n",
      "[[0, 4, -0.4041536993060788], [4, 2, -0.21410024926859528], [0, 3, -0.28832405735332856], [3, 2, 0.7188541323749169], [0, 2, 0.8586686160401567], [1, 2, -0.9972222904515602]] 0.027377812661175862\n",
      "[[0, 4, -0.4041536993060788], [4, 2, -0.21410024926859528], [0, 3, -0.28832405735332856], [3, 2, 0.7188541323749169], [0, 2, 0.8586686160401567], [1, 2, -0.9972222904515602]] 0.027377812661175862\n",
      "[[0, 4, -0.4041536993060788], [4, 2, -0.21410024926859528], [0, 3, -0.28832405735332856], [3, 2, 0.7188541323749169], [0, 2, 0.8586686160401567], [1, 2, -0.9972222904515602]] 0.027377812661175862\n",
      "[[0, 4, -0.4041536993060788], [4, 2, -0.21410024926859528], [0, 3, -0.28832405735332856], [3, 2, 0.7188541323749169], [0, 2, 0.8586686160401567], [1, 2, -0.9972222904515602]] 0.027377812661175862\n",
      "[[0, 4, -0.4041536993060788], [4, 2, -0.21410024926859528], [0, 3, -0.28832405735332856], [3, 2, 0.7188541323749169], [0, 2, 0.8586686160401567], [1, 2, -0.9972222904515602]] 0.027377812661175862\n",
      "[[0, 4, -0.4041536993060788], [4, 2, -0.044172135320212025], [0, 3, -0.28832405735332856], [4, 5, 0.1934045940580742], [5, 2, -0.7496758337537919], [3, 2, 0.7188541323749169], [0, 2, 0.8586686160401567], [1, 2, -0.9972222904515602]] 0.013353068452755934\n",
      "[[0, 4, -0.4041536993060788], [4, 2, -0.044172135320212025], [0, 3, -0.28832405735332856], [4, 5, 0.0713216969252064], [5, 2, -0.7496758337537919], [3, 2, 0.7188541323749169], [0, 2, 0.8586686160401567], [1, 2, -0.9972222904515602]] 0.03954479590761653\n",
      "[[0, 4, -0.4041536993060788], [4, 2, -0.21410024926859528], [0, 3, -0.28832405735332856], [4, 5, 0.0713216969252064], [5, 2, -0.7496758337537919], [3, 2, 0.7188541323749169], [0, 2, 0.8586686160401567], [1, 2, -0.9972222904515602]] 0.057826020603763205\n",
      "[[0, 4, -0.4041536993060788], [4, 2, -0.21410024926859528], [0, 3, -0.28832405735332856], [4, 5, 0.0713216969252064], [5, 2, -0.7496758337537919], [3, 2, 0.7188541323749169], [0, 2, 0.8586686160401567], [1, 2, -0.9972222904515602]] 0.057826020603763205\n",
      "[[0, 4, -0.4041536993060788], [4, 2, -0.21410024926859528], [0, 3, -0.28832405735332856], [4, 5, 0.0713216969252064], [5, 2, -0.7496758337537919], [3, 2, 0.7188541323749169], [0, 2, 0.8586686160401567], [1, 2, -0.9972222904515602]] 0.057826020603763205\n",
      "[[0, 4, -0.4041536993060788], [4, 2, -0.21410024926859528], [0, 3, -0.28832405735332856], [4, 5, 0.0713216969252064], [5, 2, -0.7496758337537919], [3, 2, 0.7188541323749169], [0, 2, 0.8586686160401567], [1, 2, -0.9972222904515602]] 0.057826020603763205\n"
     ]
    },
    {
     "ename": "AttributeError",
     "evalue": "'Individual' object has no attribute 'fitVal'",
     "output_type": "error",
     "traceback": [
      "\u001b[1;31m---------------------------------------------------------------------------\u001b[0m",
      "\u001b[1;31mAttributeError\u001b[0m                            Traceback (most recent call last)",
      "\u001b[1;32m<ipython-input-290-295d6686d23f>\u001b[0m in \u001b[0;36m<module>\u001b[1;34m()\u001b[0m\n\u001b[0;32m      1\u001b[0m \u001b[1;32mfor\u001b[0m \u001b[0mindividual\u001b[0m \u001b[1;32min\u001b[0m \u001b[0mbreed\u001b[0m\u001b[1;33m.\u001b[0m\u001b[0moldGeneration\u001b[0m\u001b[1;33m:\u001b[0m\u001b[1;33m\u001b[0m\u001b[0m\n\u001b[1;32m----> 2\u001b[1;33m     \u001b[0mprint\u001b[0m\u001b[1;33m(\u001b[0m\u001b[0mindividual\u001b[0m\u001b[1;33m.\u001b[0m\u001b[0minstructions\u001b[0m\u001b[1;33m,\u001b[0m \u001b[0mindividual\u001b[0m\u001b[1;33m.\u001b[0m\u001b[0mfitVal\u001b[0m\u001b[1;33m)\u001b[0m\u001b[1;33m\u001b[0m\u001b[0m\n\u001b[0m",
      "\u001b[1;31mAttributeError\u001b[0m: 'Individual' object has no attribute 'fitVal'"
     ]
    }
   ],
   "source": [
    "for individual in breed.oldGeneration:\n",
    "    print(individual.instructions, individual.fitVal)"
   ]
  },
  {
   "cell_type": "code",
   "execution_count": 183,
   "metadata": {
    "collapsed": true
   },
   "outputs": [],
   "source": [
    "residual = []"
   ]
  },
  {
   "cell_type": "code",
   "execution_count": 184,
   "metadata": {
    "collapsed": false
   },
   "outputs": [
    {
     "name": "stdout",
     "output_type": "stream",
     "text": [
      "************GENERATION 0**************\n",
      "[0, 1, 2]\n",
      "[0, 1, 2]\n",
      "[0, 1, 2]\n",
      "[0, 1, 2]\n",
      "[0, 1, 2]\n",
      "[0, 1, 2]\n",
      "[0, 1, 2]\n",
      "[0, 1, 2]\n",
      "[0, 1, 2]\n",
      "[0, 1, 2]\n",
      "[0, 1, 2]\n",
      "[0, 1, 2]\n",
      "[0, 1, 2]\n",
      "[0, 1, 2]\n",
      "[0, 1, 2]\n",
      "[0, 1, 2]\n",
      "[0, 1, 2]\n",
      "[0, 1, 2]\n",
      "[0, 1, 2]\n",
      "***************we are evolving******************\n",
      "[[0, 2], [1, 2]]\n",
      "startNode: 1 \n",
      " endNode: 2\n",
      "[[0, 2], [1, 2], [1, 2]]\n",
      "addNode isTrue\n",
      "[[0, 2, -0.9675450684179734], [1, 2, 0.9803505225583975]]\n",
      "[[0, 2, -0.9675450684179734], [1, 3, 0.06781513020467878], [3, 2, 0.8736530271603269], [1, 2, 0.9803505225583975]]\n",
      "***************we are evolving******************\n",
      "[[0, 2], [1, 2], [1, 3], [3, 2]]\n",
      "startNode: 0 \n",
      " endNode: 2\n",
      "[[0, 2], [1, 2], [3, 2], [0, 2]]\n",
      "addNode isTrue\n",
      "[[0, 2, -0.9675450684179734], [1, 2, 0.9803505225583975]]\n",
      "[[0, 4, -0.3460252213314272], [4, 2, -0.01329778258342329], [0, 2, -0.9675450684179734], [1, 2, 0.9803505225583975]]\n",
      "************GENERATION 20**************\n",
      "[0, 1, 2]\n",
      "[0, 1, 2]\n",
      "[0, 1, 2]\n",
      "[0, 1, 2]\n",
      "[0, 1, 2]\n",
      "[0, 1, 2]\n",
      "[0, 1, 2]\n",
      "[0, 1, 2]\n",
      "[0, 1, 2]\n",
      "[0, 1, 2]\n",
      "[0, 1, 2]\n",
      "[0, 1, 2]\n",
      "[0, 1, 2]\n",
      "[0, 1, 2]\n",
      "[0, 1, 2]\n",
      "[0, 1, 2]\n",
      "[0, 1, 2]\n",
      "[0, 1, 2]\n",
      "[0, 1, 2]\n",
      "[0, 1, 2]\n",
      "***************we are evolving******************\n",
      "[[0, 2], [1, 2], [1, 3], [3, 2], [0, 4], [4, 2]]\n",
      "startNode: 1 \n",
      " endNode: 2\n",
      "[[0, 2], [1, 2], [3, 2], [4, 2], [1, 2]]\n",
      "addNode isTrue\n",
      "[[0, 2, -0.9803831950166153], [1, 2, 0.9825093055974452]]\n",
      "[[0, 2, -0.9803831950166153], [1, 5, 0.07266505280507807], [5, 2, -0.7238760611252884], [1, 2, 0.9825093055974452]]\n",
      "***************we are evolving******************\n",
      "[[0, 2], [1, 2], [1, 3], [3, 2], [0, 4], [4, 2], [1, 5], [5, 2]]\n",
      "startNode: 3 \n",
      " endNode: 5\n",
      "[[0, 2], [1, 2], [3, 2], [4, 2], [5, 2]]\n",
      "addNode isFalse\n"
     ]
    },
    {
     "ename": "ValueError",
     "evalue": "[3, 5] is not in list",
     "output_type": "error",
     "traceback": [
      "\u001b[1;31m---------------------------------------------------------------------------\u001b[0m",
      "\u001b[1;31mValueError\u001b[0m                                Traceback (most recent call last)",
      "\u001b[1;32m<ipython-input-184-770bd6e61b56>\u001b[0m in \u001b[0;36m<module>\u001b[1;34m()\u001b[0m\n\u001b[0;32m      6\u001b[0m         \u001b[1;32mfor\u001b[0m \u001b[0mindividual\u001b[0m \u001b[1;32min\u001b[0m \u001b[0mbreed\u001b[0m\u001b[1;33m.\u001b[0m\u001b[0moldGeneration\u001b[0m\u001b[1;33m:\u001b[0m\u001b[1;33m\u001b[0m\u001b[0m\n\u001b[0;32m      7\u001b[0m             \u001b[0mprint\u001b[0m\u001b[1;33m(\u001b[0m\u001b[0mindividual\u001b[0m\u001b[1;33m.\u001b[0m\u001b[0mname\u001b[0m\u001b[1;33m)\u001b[0m\u001b[1;33m\u001b[0m\u001b[0m\n\u001b[1;32m----> 8\u001b[1;33m     \u001b[0mbreed\u001b[0m\u001b[1;33m.\u001b[0m\u001b[0mbreed\u001b[0m\u001b[1;33m(\u001b[0m\u001b[1;33m)\u001b[0m\u001b[1;33m\u001b[0m\u001b[0m\n\u001b[0m",
      "\u001b[1;32m<ipython-input-180-3d6177a96e40>\u001b[0m in \u001b[0;36mbreed\u001b[1;34m(self)\u001b[0m\n\u001b[0;32m     58\u001b[0m         \u001b[1;32mif\u001b[0m \u001b[0mrandom\u001b[0m\u001b[1;33m.\u001b[0m\u001b[0mrandom\u001b[0m\u001b[1;33m(\u001b[0m\u001b[1;33m)\u001b[0m \u001b[1;33m<\u001b[0m  \u001b[0mself\u001b[0m\u001b[1;33m.\u001b[0m\u001b[0mevolvulationLevel\u001b[0m\u001b[1;33m:\u001b[0m\u001b[1;33m\u001b[0m\u001b[0m\n\u001b[0;32m     59\u001b[0m             \u001b[0mprint\u001b[0m\u001b[1;33m(\u001b[0m\u001b[1;34m'***************we are evolving******************'\u001b[0m\u001b[1;33m)\u001b[0m\u001b[1;33m\u001b[0m\u001b[0m\n\u001b[1;32m---> 60\u001b[1;33m             \u001b[0mself\u001b[0m\u001b[1;33m.\u001b[0m\u001b[0mevolve\u001b[0m\u001b[1;33m(\u001b[0m\u001b[1;33m)\u001b[0m\u001b[1;33m\u001b[0m\u001b[0m\n\u001b[0m\u001b[0;32m     61\u001b[0m \u001b[1;33m\u001b[0m\u001b[0m\n\u001b[0;32m     62\u001b[0m         \u001b[0mself\u001b[0m\u001b[1;33m.\u001b[0m\u001b[0maddMutants\u001b[0m\u001b[1;33m(\u001b[0m\u001b[1;33m)\u001b[0m\u001b[1;33m\u001b[0m\u001b[0m\n",
      "\u001b[1;32m<ipython-input-180-3d6177a96e40>\u001b[0m in \u001b[0;36mevolve\u001b[1;34m(self)\u001b[0m\n\u001b[0;32m    173\u001b[0m         \u001b[0mprint\u001b[0m\u001b[1;33m(\u001b[0m\u001b[1;34m'addNode is'\u001b[0m \u001b[1;33m+\u001b[0m \u001b[0mstr\u001b[0m\u001b[1;33m(\u001b[0m\u001b[0maddNode\u001b[0m\u001b[1;33m)\u001b[0m \u001b[1;33m)\u001b[0m\u001b[1;33m\u001b[0m\u001b[0m\n\u001b[0;32m    174\u001b[0m         \u001b[0mnewSpecie\u001b[0m \u001b[1;33m=\u001b[0m \u001b[1;33m[\u001b[0m\u001b[1;33m]\u001b[0m\u001b[1;33m\u001b[0m\u001b[0m\n\u001b[1;32m--> 175\u001b[1;33m         \u001b[0mmutationLocation\u001b[0m \u001b[1;33m=\u001b[0m \u001b[0minstructions\u001b[0m\u001b[1;33m.\u001b[0m\u001b[0mindex\u001b[0m\u001b[1;33m(\u001b[0m\u001b[1;33m[\u001b[0m\u001b[0mstartNode\u001b[0m\u001b[1;33m,\u001b[0m \u001b[0mendNode\u001b[0m\u001b[1;33m]\u001b[0m\u001b[1;33m)\u001b[0m\u001b[1;33m\u001b[0m\u001b[0m\n\u001b[0m\u001b[0;32m    176\u001b[0m         \u001b[0mnewInstructions\u001b[0m \u001b[1;33m=\u001b[0m \u001b[1;33m[\u001b[0m\u001b[0minstruction\u001b[0m\u001b[1;33m[\u001b[0m\u001b[1;33m:\u001b[0m\u001b[1;33m]\u001b[0m \u001b[1;32mfor\u001b[0m \u001b[0minstruction\u001b[0m \u001b[1;32min\u001b[0m \u001b[0mself\u001b[0m\u001b[1;33m.\u001b[0m\u001b[0moldGeneration\u001b[0m\u001b[1;33m[\u001b[0m\u001b[1;36m0\u001b[0m\u001b[1;33m]\u001b[0m\u001b[1;33m.\u001b[0m\u001b[0minstructions\u001b[0m\u001b[1;33m]\u001b[0m\u001b[1;33m\u001b[0m\u001b[0m\n\u001b[0;32m    177\u001b[0m         \u001b[0mprint\u001b[0m\u001b[1;33m(\u001b[0m\u001b[0mnewInstructions\u001b[0m\u001b[1;33m)\u001b[0m\u001b[1;33m\u001b[0m\u001b[0m\n",
      "\u001b[1;31mValueError\u001b[0m: [3, 5] is not in list"
     ]
    }
   ],
   "source": [
    "for i in range(100):\n",
    "    residual.append(breed.evalPopulation())\n",
    "    breed.weedPopulation()\n",
    "    if i%20 is 0:\n",
    "        print('************GENERATION {}**************'.format(i))\n",
    "        for individual in breed.oldGeneration:\n",
    "            print(individual.name)\n",
    "    breed.breed()"
   ]
  },
  {
   "cell_type": "code",
   "execution_count": 159,
   "metadata": {
    "collapsed": false
   },
   "outputs": [
    {
     "data": {
      "text/plain": [
       "[[0, 2, -0.9872279005733198], [1, 2, 0.9751085223755351]]"
      ]
     },
     "execution_count": 159,
     "metadata": {},
     "output_type": "execute_result"
    }
   ],
   "source": [
    "breed.oldGeneration[0].instructions"
   ]
  },
  {
   "cell_type": "code",
   "execution_count": null,
   "metadata": {
    "collapsed": true
   },
   "outputs": [],
   "source": [
    "breed.evalPopulation()"
   ]
  },
  {
   "cell_type": "code",
   "execution_count": 179,
   "metadata": {
    "collapsed": false
   },
   "outputs": [
    {
     "name": "stdout",
     "output_type": "stream",
     "text": [
      "hiTrue\n"
     ]
    }
   ],
   "source": [
    "true = True\n",
    "print(\"hi\" + str(true))"
   ]
  },
  {
   "cell_type": "code",
   "execution_count": null,
   "metadata": {
    "collapsed": true
   },
   "outputs": [],
   "source": []
  }
 ],
 "metadata": {
  "kernelspec": {
   "display_name": "Python 3",
   "language": "python",
   "name": "python3"
  },
  "language_info": {
   "codemirror_mode": {
    "name": "ipython",
    "version": 3
   },
   "file_extension": ".py",
   "mimetype": "text/x-python",
   "name": "python",
   "nbconvert_exporter": "python",
   "pygments_lexer": "ipython3",
   "version": "3.5.1"
  }
 },
 "nbformat": 4,
 "nbformat_minor": 0
}
