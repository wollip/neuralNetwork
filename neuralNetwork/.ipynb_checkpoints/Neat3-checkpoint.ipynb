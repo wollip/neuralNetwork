{
 "cells": [
  {
   "cell_type": "code",
   "execution_count": 1,
   "metadata": {
    "collapsed": true
   },
   "outputs": [],
   "source": [
    "import random\n",
    "import numpy as np\n",
    "import matplotlib.pyplot as plt\n",
    "import string\n",
    "%matplotlib inline"
   ]
  },
  {
   "cell_type": "code",
   "execution_count": 2,
   "metadata": {
    "collapsed": true
   },
   "outputs": [],
   "source": [
    "#data storage\n",
    "inputs = [[1,0],[0,0],[0,1],[1,1]]\n",
    "outputs = [1,0,1,0]"
   ]
  },
  {
   "cell_type": "code",
   "execution_count": 3,
   "metadata": {
    "collapsed": false
   },
   "outputs": [],
   "source": [
    "#global variables\n",
    "outputNode = 2\n",
    "#nodes\n",
    "nodes = []\n",
    "nodes.append({'type': 'input'})\n",
    "nodes.append({'type': 'input'})\n",
    "nodes.append({'type' : 'output'})\n",
    "\n",
    "#connections\n",
    "connections = []\n",
    "connections.append([0,2,random.random()])\n",
    "connections.append([1,2,random.random()])"
   ]
  },
  {
   "cell_type": "code",
   "execution_count": 4,
   "metadata": {
    "collapsed": true
   },
   "outputs": [],
   "source": [
    "connections.append([2,3,random.random()])\n",
    "connections.append([3,4,random.random()])"
   ]
  },
  {
   "cell_type": "code",
   "execution_count": 5,
   "metadata": {
    "collapsed": true
   },
   "outputs": [],
   "source": [
    "# location of different normalizing operations\n",
    "def noChange(n):\n",
    "    return n"
   ]
  },
  {
   "cell_type": "code",
   "execution_count": 6,
   "metadata": {
    "collapsed": false
   },
   "outputs": [],
   "source": [
    "class Individual(object):\n",
    "    \n",
    "    def __init__(self, genes):\n",
    "        self.genes = genes\n",
    "        self.valid = True\n",
    "        self.instructions = []\n",
    "        self.specie = ''\n",
    "        self.name()\n",
    "        path = []\n",
    "        depth = 0\n",
    "        self.checkPath(outputNode, path, depth)\n",
    "    \n",
    "    def name(self):\n",
    "        inputNode = [x[0] for x in self.genes]\n",
    "        outputNode = [x[1] for x in self.genes]\n",
    "        nodes = np.unique(inputNode + outputNode)\n",
    "        for number in nodes:\n",
    "            self.specie = self.specie + ',' + str(number*100)\n",
    "        self.specie = specie[1:]\n",
    "    \n",
    "    def checkPath(self, node, path, depth):\n",
    "        depth +=1\n",
    "        if not self.valid:\n",
    "            return False\n",
    "        \n",
    "        for gene in self.genes:\n",
    "            if gene[1] is node:\n",
    "                self.instructions.insert(-depth, gene)\n",
    "                path.append(gene[0])\n",
    "               \n",
    "                if len(np.unique(path)) is not len(path):\n",
    "                    self.valid = False\n",
    "                    return False\n",
    "                    \n",
    "                \n",
    "                if nodes[gene[0]]['type'] is not 'input':\n",
    "                    boolean = self.checkPath(gene[0], path, depth)\n",
    "                    if not boolean:\n",
    "                        return False\n",
    "            \n",
    "            \n",
    "    \n",
    "    def predict(self, singleInput):\n",
    "        nodeVals = singleInput[:]\n",
    "        nodeVals.extend([0]*(len(nodes)-len(singleInput)))\n",
    "        changedNodes = [False]*len(nodes)\n",
    "        \n",
    "        for instruction in self.instructions:\n",
    "            \n",
    "            if not changedNodes[instruction[0]]:            \n",
    "                changedNodes[instruction[0]] = True\n",
    "                #change this for different type of functions\n",
    "                nodeVals[instruction[0]] = noChange(nodeVals[instruction[0]])\n",
    "                \n",
    "            nodeVals[instruction[1]] += nodeVals[instruction[0]] * instruction[2]\n",
    "        \n",
    "        return nodeVals[len(nodes)-1]\n",
    "    \n",
    "    def fitness(self, inputs, output):\n",
    "        #basically run fit a lot of times and see what happens\n",
    "        store = 0\n",
    "        for index in range(len(inputs)):\n",
    "            store += (output[index] - self.predict(inputs[index]))**2\n",
    "        self.fitVal = store**0.5\n",
    "        return self.fitVal"
   ]
  },
  {
   "cell_type": "code",
   "execution_count": 7,
   "metadata": {
    "collapsed": true
   },
   "outputs": [],
   "source": [
    "class Breed(object):\n",
    "    \n",
    "    def __init__(self, populationSize):\n",
    "        self.species = []\n",
    "        self.generationNumber = 0\n",
    "        self.populationSize = populationSize\n",
    "        self.retainSize = int(poplationSize/5)\n",
    "    \n",
    "    def initGeneration(self):\n",
    "        self.individuals = []\n",
    "        \n",
    "        for i in range(self.populationSize):\n",
    "            connections = []\n",
    "            connections.append([0,2,random.random()])\n",
    "            connections.append([1,2,random.random()])\n",
    "            self.individuals.append(Individual(connections))\n",
    "    \n",
    "    def evalPopulation(self, inputs, outputs):\n",
    "        totalFitness = 0\n",
    "        for individual in self.individuals:\n",
    "            totalFitness += individual.fitness(inputs, outputs)\n",
    "        self.GenerationFitness = totalFitness / self.populationSize\n",
    "        return self.GenerationFitness\n",
    "    \n",
    "    def weedPopulation(self):\n",
    "        self.oldGeneration = []\n",
    "        for individual in self.individuals:\n",
    "            if individual.fitVal > self.GenerationFiness:\n",
    "                self.oldGeneration.append(individual)\n",
    "        \n",
    "        self.oldGeneration = sorted(self.oldGeneration, key = lambda cell: cell.fitVal, reverse= True)\n",
    "        \n",
    "        while len(self.oldGeneration) < self.retainSize:\n",
    "            self.oldGeneration.append(self.individuals[randint(0,len(self.individuals)-1)])\n",
    "        \n",
    "        while len(self.oldGeneration)> self.retainSize:\n",
    "            del self.oldGeneration[-1]\n",
    "            del self.oldGeneration[randint(2,len(self.individual)-1)]\n",
    "    \n",
    "    def breed(self, mutationLevel):\n",
    "        \n",
    "        self.newGeneration = self.oldGeneration\n",
    "        \n",
    "        self.addMutants(mutationLevel)\n",
    "        \n",
    "        self.mate()\n",
    "        \n",
    "        self.individuals = self.newGeneration\n",
    "    \n",
    "    def addMutants(self, mutationLevel):\n",
    "        for individual in self.newGeneration:\n",
    "            if random.random() < mutationLevel:\n",
    "                newInstructions = individuals.instructions[:]\n",
    "                newinstructions[randint(0,newInstructions)][2] = random()\n",
    "                self.newGeneration.append(Individual(newInstructions))\n",
    "                \n",
    "    def mate(self):\n",
    "        while len(self.newGeneration) < self.populationSize:\n",
    "            father = self.oldGeneration\n",
    "    \n",
    "    def evolve(self):\n",
    "        "
   ]
  },
  {
   "cell_type": "code",
   "execution_count": 100,
   "metadata": {
    "collapsed": false
   },
   "outputs": [
    {
     "name": "stdout",
     "output_type": "stream",
     "text": [
      "[[1, 2, 0.6167596825500004], [0, 2, 0.1993468807333666]]\n"
     ]
    }
   ],
   "source": [
    "test = Individual(connections)\n",
    "print(test.instructions)"
   ]
  },
  {
   "cell_type": "code",
   "execution_count": 101,
   "metadata": {
    "collapsed": false
   },
   "outputs": [
    {
     "name": "stdout",
     "output_type": "stream",
     "text": [
      "0.1993468807333666\n",
      "0.0\n",
      "0.6167596825500004\n",
      "0.816106563283367\n"
     ]
    }
   ],
   "source": [
    "for oneInput in inputs:\n",
    "    print(test.predict(oneInput))"
   ]
  },
  {
   "cell_type": "code",
   "execution_count": 102,
   "metadata": {
    "collapsed": false
   },
   "outputs": [
    {
     "name": "stdout",
     "output_type": "stream",
     "text": [
      "0,1,2\n"
     ]
    }
   ],
   "source": [
    "print(test.specie)"
   ]
  },
  {
   "cell_type": "code",
   "execution_count": null,
   "metadata": {
    "collapsed": true
   },
   "outputs": [],
   "source": []
  }
 ],
 "metadata": {
  "kernelspec": {
   "display_name": "Python 3",
   "language": "python",
   "name": "python3"
  },
  "language_info": {
   "codemirror_mode": {
    "name": "ipython",
    "version": 3
   },
   "file_extension": ".py",
   "mimetype": "text/x-python",
   "name": "python",
   "nbconvert_exporter": "python",
   "pygments_lexer": "ipython3",
   "version": "3.5.1"
  }
 },
 "nbformat": 4,
 "nbformat_minor": 0
}
