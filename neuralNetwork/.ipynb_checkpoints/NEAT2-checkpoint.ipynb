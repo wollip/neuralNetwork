{
 "cells": [
  {
   "cell_type": "code",
   "execution_count": 1,
   "metadata": {
    "collapsed": true
   },
   "outputs": [],
   "source": [
    "import random\n",
    "import numpy as np\n",
    "import matplotlib.pyplot as plt\n",
    "%matplotlib inline"
   ]
  },
  {
   "cell_type": "markdown",
   "metadata": {},
   "source": [
    "# we are going to use NEAT to predict the results of XOR\n",
    "This means that that the follow should the the input and the result\n",
    "<pre>\n",
    " input 1  |  input 2  |  result\n",
    " ---------|-----------|---------\n",
    "    1     |    1      |     0\n",
    " ---------|-----------|---------   \n",
    "    2     |    1      |     1\n",
    " ---------|-----------|---------   \n",
    "    0     |    0      |     0\n",
    "</pre>\n",
    "\n",
    "## Class individuals will be initialized with an array with columes 3\n",
    "each row will contain a connection and the strength of the connection\n",
    "    the connection will take up the first 2 colume, where the first colume is the start and the second is end\n",
    "    the strength will be store in the 3rd colume\n",
    "the number 1 will be defined as input1\n",
    "the number 2 will be defined as input2\n",
    "and the number 10 will be defined as output\n",
    "\n",
    "## maybe add another constant that keeps track of what each type of neuron does to parse it sum\n",
    "\n",
    "\n",
    "## if new neurons are made\n",
    "it has to be able to recieve input from a neuron with a lower number\n",
    "it has to be able to give an output to a neuron with a higher number\n",
    "\n",
    "\n",
    "# Types of mutations\n",
    "## look at the notebook\n",
    "## adding in ones that can shuffle and rearrange the order of the neurons."
   ]
  },
  {
   "cell_type": "code",
   "execution_count": 8,
   "metadata": {
    "collapsed": true
   },
   "outputs": [],
   "source": [
    "maxNodes = 10"
   ]
  },
  {
   "cell_type": "code",
   "execution_count": 50,
   "metadata": {
    "collapsed": true
   },
   "outputs": [],
   "source": [
    "#data storage\n",
    "inputs = [[1,0],[0,0],[0,1],[1,1]]\n",
    "outputs = [1,0,1,0]"
   ]
  },
  {
   "cell_type": "code",
   "execution_count": 6,
   "metadata": {
    "collapsed": true
   },
   "outputs": [],
   "source": [
    "# location of different normalizing operations\n",
    "def noChange(n):\n",
    "    return n"
   ]
  },
  {
   "cell_type": "code",
   "execution_count": 46,
   "metadata": {
    "collapsed": false
   },
   "outputs": [],
   "source": [
    "class individual(object):\n",
    "    \n",
    "    def __init__(self, structure):\n",
    "        self.structure = structure\n",
    "        \n",
    "    def run(self, singleInput):\n",
    "        #this set node 1 as input 1 and node 2 and input 2\n",
    "        \n",
    "        nodeVals = singleInput\n",
    "        nodeVals.extend([0]*(maxNodes-len(singleInput)))\n",
    "        changedNodes = [False]*maxNodes\n",
    "        \n",
    "        for instruction in self.structure:\n",
    "            \n",
    "            if not changedNodes[instruction[0]]:            \n",
    "                changedNodes[instruction[0]] = True\n",
    "                #change this for different type of functions\n",
    "                nodeVals[instruction[0]] = noChange(nodeVals[instruction[0]])\n",
    "                \n",
    "            nodeVals[instruction[1]] += nodeVals[instruction[0]] * instruction[2]\n",
    "        \n",
    "        return nodeVals[maxNodes-1]\n",
    "    \n",
    "    def fitness(self, inputs, output):\n",
    "        #basically run fit a lot of times and see what happens\n",
    "        store = 0\n",
    "        for index in range(len(inputs)):\n",
    "            store += (output[index] - self.run(inputs[index]))**2\n",
    "        self.fitVal = store**0.5\n",
    "        return self.fitVal"
   ]
  },
  {
   "cell_type": "code",
   "execution_count": null,
   "metadata": {
    "collapsed": true
   },
   "outputs": [],
   "source": [
    "class breed(object):\n",
    "    #the actual breeding part\n",
    "    #look at each connection the parents have\n",
    "    #it is possible that a parent has a connection while the other does not\n",
    "    #the offspring have will half a chance of getting a connection from each parent\n",
    "    #or in the case where only 1 parent has a connection the there is a possibility that the child doesn't get the conncetion\n",
    "    #in the case where both parents have a connection, either take the average of the their connection value or that one of their values"
   ]
  },
  {
   "cell_type": "code",
   "execution_count": 35,
   "metadata": {
    "collapsed": false
   },
   "outputs": [
    {
     "name": "stdout",
     "output_type": "stream",
     "text": [
      "[1, 1, 0, 0, 0, 0, 0, 0, 0, 0]\n"
     ]
    }
   ],
   "source": [
    "singleInput = [1,1]\n",
    "nodeVals = []\n",
    "nodeVals = noChange(singleInput)\n",
    "nodeVals.extend([0]*(maxNodes-len(singleInput)))\n",
    "print(nodeVals)"
   ]
  },
  {
   "cell_type": "code",
   "execution_count": 47,
   "metadata": {
    "collapsed": false
   },
   "outputs": [
    {
     "name": "stdout",
     "output_type": "stream",
     "text": [
      "21\n"
     ]
    }
   ],
   "source": [
    "init = [[0,9,2],[1,9,3]]\n",
    "inputs = [3,5]\n",
    "test = individual(init)\n",
    "store = test.run(inputs)\n",
    "print(store)"
   ]
  },
  {
   "cell_type": "code",
   "execution_count": 53,
   "metadata": {
    "collapsed": false
   },
   "outputs": [
    {
     "name": "stdout",
     "output_type": "stream",
     "text": [
      "11.575836902790225\n"
     ]
    }
   ],
   "source": [
    "fitness = test.fitness(inputs, outputs)\n",
    "print(fitness)"
   ]
  },
  {
   "cell_type": "code",
   "execution_count": null,
   "metadata": {
    "collapsed": true
   },
   "outputs": [],
   "source": []
  }
 ],
 "metadata": {
  "celltoolbar": "Raw Cell Format",
  "kernelspec": {
   "display_name": "Python 3",
   "language": "python",
   "name": "python3"
  },
  "language_info": {
   "codemirror_mode": {
    "name": "ipython",
    "version": 3
   },
   "file_extension": ".py",
   "mimetype": "text/x-python",
   "name": "python",
   "nbconvert_exporter": "python",
   "pygments_lexer": "ipython3",
   "version": "3.5.1"
  }
 },
 "nbformat": 4,
 "nbformat_minor": 0
}
