{
 "cells": [
  {
   "cell_type": "code",
   "execution_count": 73,
   "metadata": {
    "collapsed": false
   },
   "outputs": [],
   "source": [
    "import numpy as np\n",
    "#import matplotlib.pyplot as plot\n",
    "import random\n",
    "random.seed()\n",
    "from pylab import plot\n",
    "import pylab\n",
    "import matplotlib.pyplot as plt"
   ]
  },
  {
   "cell_type": "code",
   "execution_count": 141,
   "metadata": {
    "collapsed": false
   },
   "outputs": [
    {
     "name": "stdout",
     "output_type": "stream",
     "text": [
      "[ 0.4  0.6]\n",
      "[ 0.24]\n"
     ]
    }
   ],
   "source": [
    "xTest = np.array([4,6], dtype = float)\n",
    "xTest = xTest/ 10\n",
    "yExpect = np.array([0.24], dtype = float)\n",
    "print xTest\n",
    "print yExpect"
   ]
  },
  {
   "cell_type": "code",
   "execution_count": 133,
   "metadata": {
    "collapsed": false
   },
   "outputs": [
    {
     "name": "stdout",
     "output_type": "stream",
     "text": [
      "[[ 0.1  0.1]\n",
      " [ 0.2  0.4]\n",
      " [ 0.5  0.7]\n",
      " [ 0.2  0.8]\n",
      " [ 0.4  0.9]]\n",
      "[[ 0.01]\n",
      " [ 0.08]\n",
      " [ 0.35]\n",
      " [ 0.16]\n",
      " [ 0.36]]\n"
     ]
    }
   ],
   "source": [
    "oracleX = np.array(([1,1],[2,4],[5,7],[2,8],[4,9]), dtype = float)\n",
    "oracleY = np.array(([1], [8], [35], [16], [36]), dtype = float)\n",
    "oracleX = oracleX / 10\n",
    "oracleY = oracleY / 100\n",
    "print oracleX\n",
    "print oracleY"
   ]
  },
  {
   "cell_type": "code",
   "execution_count": 127,
   "metadata": {
    "collapsed": false
   },
   "outputs": [
    {
     "name": "stdout",
     "output_type": "stream",
     "text": [
      "[[ 0.1  0.9]\n",
      " [ 0.3  0.8]\n",
      " [ 0.5  0.7]\n",
      " [ 0.9  0.6]\n",
      " [ 0.2  0.5]\n",
      " [ 0.4  0.4]\n",
      " [ 0.6  0.3]\n",
      " [ 0.8  0.2]\n",
      " [ 0.7  0.1]]\n",
      "[[0.09], [0.24], [0.35], [0.54], [0.1], [0.16], [0.18], [0.16], [0.07]]\n"
     ]
    }
   ],
   "source": [
    "x1 = np.array(([1,9],[3,8],[5,7],[9,6],[2,5],[4,4],[6,3],[8,2],[7,1]), dtype = float)\n",
    "y1 = []\n",
    "for i in range(0,len(x)):\n",
    "    y1.append([round((x1[i,0] * x1[i,1])/100, 2)])\n",
    "x1 = x1/ 10\n",
    "print x1 \n",
    "print y1"
   ]
  },
  {
   "cell_type": "code",
   "execution_count": 131,
   "metadata": {
    "collapsed": false
   },
   "outputs": [
    {
     "name": "stdout",
     "output_type": "stream",
     "text": [
      "Populating the interactive namespace from numpy and matplotlib\n"
     ]
    },
    {
     "data": {
      "text/plain": [
       "<matplotlib.collections.PathCollection at 0xd4db128>"
      ]
     },
     "execution_count": 131,
     "metadata": {},
     "output_type": "execute_result"
    },
    {
     "data": {
      "image/png": "[encoded data removed]",
      "text/plain": [
       "<matplotlib.figure.Figure at 0xa7eea20>"
      ]
     },
     "metadata": {},
     "output_type": "display_data"
    }
   ],
   "source": [
    "%pylab inline\n",
    "plt.subplot(321)\n",
    "plt.scatter(x1[:,0], y1)\n",
    "plt.subplot(322)\n",
    "plt.scatter(x1[:,1], y1)\n",
    "\n"
   ]
  },
  {
   "cell_type": "code",
   "execution_count": 182,
   "metadata": {
    "collapsed": false
   },
   "outputs": [
    {
     "name": "stdout",
     "output_type": "stream",
     "text": [
      "[[ 0.1  0.9]\n",
      " [ 0.3  0.8]\n",
      " [ 0.5  0.7]\n",
      " [ 0.9  0.6]\n",
      " [ 0.2  0.5]\n",
      " [ 0.4  0.4]\n",
      " [ 0.6  0.3]\n",
      " [ 0.8  0.2]\n",
      " [ 0.7  0.1]]\n",
      "[[0.1], [0.23], [0.35], [0.55], [0.1], [0.15], [0.18], [0.15], [0.07]]\n"
     ]
    }
   ],
   "source": [
    "x = np.array(([1,9],[3,8],[5,7],[9,6],[2,5],[4,4],[6,3],[8,2],[7,1]), dtype = float)\n",
    "y = []\n",
    "for i in range(0,len(x)):\n",
    "    y.append([round((x[i,0] * x[i,1] + random.uniform(-1,1))/100,2)])\n",
    "x = x/ 10\n",
    "print x\n",
    "print y"
   ]
  },
  {
   "cell_type": "code",
   "execution_count": 183,
   "metadata": {
    "collapsed": false
   },
   "outputs": [
    {
     "name": "stdout",
     "output_type": "stream",
     "text": [
      "Populating the interactive namespace from numpy and matplotlib\n"
     ]
    },
    {
     "data": {
      "text/plain": [
       "<matplotlib.collections.PathCollection at 0xd83f278>"
      ]
     },
     "execution_count": 183,
     "metadata": {},
     "output_type": "execute_result"
    },
    {
     "data": {
      "image/png": "[encoded data removed]",
      "text/plain": [
       "<matplotlib.figure.Figure at 0xd291550>"
      ]
     },
     "metadata": {},
     "output_type": "display_data"
    }
   ],
   "source": [
    "%pylab inline\n",
    "plt.subplot(321)\n",
    "plt.scatter(x[:,0], y)\n",
    "plt.subplot(322)\n",
    "plt.scatter(x[:,1], y)\n",
    "\n"
   ]
  },
  {
   "cell_type": "code",
   "execution_count": 75,
   "metadata": {
    "collapsed": false
   },
   "outputs": [],
   "source": [
    "class NeuralNetwork(object):\n",
    "    def __init__ (self):\n",
    "        self.inputLayer = 2\n",
    "        self.hiddenLayer = 3\n",
    "        self.outputLayer = 1\n",
    "    \n",
    "        #initial weights\n",
    "        self.round12 = np.random.randn(self.inputLayer, self.hiddenLayer)\n",
    "        self.round23 = np.random.randn(self.hiddenLayer, self.outputLayer)\n",
    "        \n",
    "    def forward(self, x):\n",
    "        #multiplying by weights in round 12\n",
    "        self.hiddenVal = np.dot( x, self.round12)\n",
    "        \n",
    "        #applying sigmoid stuff to the hidden val\n",
    "        self.hiddenVal2 = self.sigmoid(self.hiddenVal)\n",
    "        \n",
    "        #multiplying weights in round23 \n",
    "        self.outVal = np.dot( self.hiddenVal2, self.round23)\n",
    "        \n",
    "        #applying sigmoid to outVal\n",
    "        self.yHat = self.sigmoid(self.outVal)      \n",
    "           \n",
    "        return self.yHat\n",
    "    \n",
    "    def sigmoid(self, x):\n",
    "        return 1/(1+np.exp(-x))\n",
    "    \n",
    "    def sigmoidPrime(self, x):\n",
    "        return np.exp(-x)/((1+np.exp(-x))**2)\n",
    "    \n",
    "    # not sure how this is useful\n",
    "    def residual(self, x, y):\n",
    "        self.yHat = self.forward(x)\n",
    "        r = (1.0/2.0)*(sum(( np.multiply(y,100)-(self.yHat)*100)**2))\n",
    "        return r\n",
    "    \n",
    "    #this will return the partial derivatives of round12 and round 23\n",
    "    def residualPrime(self, x, y):\n",
    "        self.yHat = self.forward(x)\n",
    "        \n",
    "                                                   # n = length of y which is the same as lenght of x\n",
    "\n",
    "        resi = y - self.yHat                       # this is a nx1\n",
    "        #print 'resi', resi\n",
    "        negaSigP = -self.sigmoidPrime(self.outVal) # this is nx1\n",
    "        #print 'negaSigP', negaSigP\n",
    "        temp = np.multiply( resi, negaSigP)        # still nx1\n",
    "        #print 'temp',temp\n",
    "        \n",
    "        #round23 derivative\n",
    "        self.dRound23 = np.dot(self.hiddenVal2.T, temp)    # dROund23  1x3\n",
    "        #print 'round23', self.dRound23\n",
    "        \n",
    "        lastTermSigP = self.sigmoidPrime(self.hiddenVal) # nx3\n",
    "        lastTerm = np.dot(temp , self.round23.T)   # nx1\n",
    "        temp2 = lastTerm * lastTermSigP             # nx1\n",
    "        \n",
    "        #round12 derivative \n",
    "        self.dRound12= np.dot(x.T, temp2)\n",
    "        \n",
    "        \n",
    "        return  self.dRound12, self.dRound23"
   ]
  },
  {
   "cell_type": "code",
   "execution_count": 270,
   "metadata": {
    "collapsed": false
   },
   "outputs": [],
   "source": [
    "NN = NeuralNetwork()"
   ]
  },
  {
   "cell_type": "code",
   "execution_count": 278,
   "metadata": {
    "collapsed": false
   },
   "outputs": [],
   "source": [
    "# this is for checking to see if the network can over fit the data\n",
    "for i in range(0,10):\n",
    "    dR12, dR23 = NN.residualPrime(x1,y1)\n",
    "    scalar = 0.5\n",
    "    NN.round12 = NN.round12 - scalar * dR12\n",
    "    NN.round23 = NN.round23 - scalar * dR23"
   ]
  },
  {
   "cell_type": "code",
   "execution_count": 279,
   "metadata": {
    "collapsed": false
   },
   "outputs": [
    {
     "name": "stdout",
     "output_type": "stream",
     "text": [
      "[[ 22.]\n",
      " [ 21.]\n",
      " [ 20.]\n",
      " [ 17.]\n",
      " [ 25.]\n",
      " [ 23.]\n",
      " [ 21.]\n",
      " [ 20.]\n",
      " [ 22.]]\n",
      "[[  9.]\n",
      " [ 24.]\n",
      " [ 35.]\n",
      " [ 54.]\n",
      " [ 10.]\n",
      " [ 16.]\n",
      " [ 18.]\n",
      " [ 16.]\n",
      " [  7.]]\n",
      "residual 1146.40047318\n"
     ]
    }
   ],
   "source": [
    "print np.around(NN.forward(x1)*100, 0)\n",
    "print np.multiply(y1,100)\n",
    "print 'residual',  NN.residual(x1, y1)"
   ]
  },
  {
   "cell_type": "code",
   "execution_count": 251,
   "metadata": {
    "collapsed": false
   },
   "outputs": [],
   "source": [
    "class EpicTrainor(object):\n",
    "    def __init__(self, NN, x, y):\n",
    "        self.NN = NN\n",
    "        \n",
    "        self.x = x\n",
    "        self.y = y\n",
    "        \n",
    "        self.oracleX = np.array(([1,1],[4,2],[7,5],[2,8],[4,9]), dtype = float)\n",
    "        self.oracleX = self.oracleX / 10\n",
    "        self.oracleY = np.array(([1], [8], [35], [16], [36]), dtype = float)\n",
    "        self.oracleY = self.oracleY / 100\n",
    "    \n",
    "        self.curResi = self.findResi()\n",
    "        self.newResi = 1\n",
    "        self.scale = 1\n",
    "    \n",
    "    def setScale(self, scale):\n",
    "        self.scale = scale\n",
    "    \n",
    "    def findResi(self):\n",
    "        return NN.residual(self.oracleX, self.oracleY)\n",
    "    \n",
    "    def storeCurVal(self):\n",
    "        self.Round12 = NN.round12\n",
    "        self.Round23 = NN.round23\n",
    "    \n",
    "    def getChange(self):\n",
    "        self.dRound12 , self.dRound23 = NN.residualPrime(self.x,self.y)\n",
    "     \n",
    "    def activateChange(self):\n",
    "        NN.round12 = NN.round12 - self.scale * self.dRound12\n",
    "        NN.round23 = NN.round23 - self.scale * self.dRound23\n",
    "        \n",
    "    def revertChange(self):\n",
    "        NN.round12 = self.Round12\n",
    "        NN.round23 = self.Round23\n",
    "    \n",
    "    def train(self):\n",
    "                \n",
    "        self.storeCurVal()\n",
    "        \n",
    "        self.getChange()\n",
    "        \n",
    "        self.activateChange()\n",
    "        \n",
    "        self.newResi = self.findResi()\n",
    "        print self.newResi\n",
    "        \n",
    "        if self.newResi > self.curResi or np.isclose(self.newResi, self.curResi, rtol=1e-06, atol=1e-08, equal_nan=False):\n",
    "            self.revertChange()\n",
    "            return False\n",
    "        else:\n",
    "            self.curResi = self.newResi\n",
    "        return True\n",
    "        \n",
    "        "
   ]
  },
  {
   "cell_type": "code",
   "execution_count": 255,
   "metadata": {
    "collapsed": false
   },
   "outputs": [],
   "source": [
    "trainor = EpicTrainor(NN, x1, y1)"
   ]
  },
  {
   "cell_type": "code",
   "execution_count": 277,
   "metadata": {
    "collapsed": false,
    "scrolled": true
   },
   "outputs": [
    {
     "name": "stdout",
     "output_type": "stream",
     "text": [
      "972.67970291\n",
      "1\n"
     ]
    }
   ],
   "source": [
    "boolean = True\n",
    "n = 0\n",
    "while (boolean and n < 1000):\n",
    "    boolean = trainor.train()\n",
    "    n = n + 1\n",
    "print n"
   ]
  },
  {
   "cell_type": "code",
   "execution_count": 275,
   "metadata": {
    "collapsed": false
   },
   "outputs": [
    {
     "data": {
      "text/plain": [
       "array([[ 0.26],\n",
       "       [ 0.24],\n",
       "       [ 0.22],\n",
       "       [ 0.19],\n",
       "       [ 0.28],\n",
       "       [ 0.26],\n",
       "       [ 0.24],\n",
       "       [ 0.22],\n",
       "       [ 0.24]])"
      ]
     },
     "execution_count": 275,
     "metadata": {},
     "output_type": "execute_result"
    }
   ],
   "source": [
    "np.round(NN.forward(x1),2)"
   ]
  },
  {
   "cell_type": "code",
   "execution_count": 206,
   "metadata": {
    "collapsed": false
   },
   "outputs": [
    {
     "data": {
      "text/plain": [
       "[[0.09], [0.24], [0.35], [0.54], [0.1], [0.16], [0.18], [0.16], [0.07]]"
      ]
     },
     "execution_count": 206,
     "metadata": {},
     "output_type": "execute_result"
    }
   ],
   "source": [
    "y1"
   ]
  },
  {
   "cell_type": "code",
   "execution_count": 230,
   "metadata": {
    "collapsed": false
   },
   "outputs": [
    {
     "name": "stdout",
     "output_type": "stream",
     "text": [
      "[[ 0.  ]\n",
      " [ 0.06]\n",
      " [ 0.36]\n",
      " [ 0.15]\n",
      " [ 0.32]]\n",
      "[[ 0.01]\n",
      " [ 0.08]\n",
      " [ 0.35]\n",
      " [ 0.16]\n",
      " [ 0.36]]\n"
     ]
    }
   ],
   "source": [
    "print np.round(NN.forward(oracleX), 2) \n",
    "print oracleY"
   ]
  },
  {
   "cell_type": "code",
   "execution_count": 231,
   "metadata": {
    "collapsed": false
   },
   "outputs": [
    {
     "name": "stdout",
     "output_type": "stream",
     "text": [
      "[ 0.27]\n",
      "[ 0.24]\n"
     ]
    }
   ],
   "source": [
    "print np.round(NN.forward(xTest),2)\n",
    "print yExpect"
   ]
  },
  {
   "cell_type": "code",
   "execution_count": null,
   "metadata": {
    "collapsed": true
   },
   "outputs": [],
   "source": []
  }
 ],
 "metadata": {
  "kernelspec": {
   "display_name": "Python 2",
   "language": "python",
   "name": "python2"
  },
  "language_info": {
   "codemirror_mode": {
    "name": "ipython",
    "version": 2
   },
   "file_extension": ".py",
   "mimetype": "text/x-python",
   "name": "python",
   "nbconvert_exporter": "python",
   "pygments_lexer": "ipython2",
   "version": "2.7.10"
  }
 },
 "nbformat": 4,
 "nbformat_minor": 0
}
