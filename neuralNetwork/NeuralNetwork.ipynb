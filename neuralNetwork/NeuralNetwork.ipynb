{
 "cells": [
  {
   "cell_type": "code",
   "execution_count": 1,
   "metadata": {
    "collapsed": false
   },
   "outputs": [],
   "source": [
    "import numpy as np\n",
    "#import matplotlib.pyplot as plot\n",
    "import random\n",
    "random.seed()\n",
    "from pylab import plot\n",
    "import pylab\n",
    "import matplotlib.pyplot as plt"
   ]
  },
  {
   "cell_type": "code",
   "execution_count": 26,
   "metadata": {
    "collapsed": false
   },
   "outputs": [
    {
     "name": "stdout",
     "output_type": "stream",
     "text": [
      "0.8 * 0.0 ~= [ 0.] or = 0.0\n",
      "0.3 * 0.4 ~= [ 0.12] or = 0.12\n",
      "0.5 * 0.8 ~= [ 0.4] or = 0.4\n",
      "1.0 * 1.0 ~= [ 1.] or = 1.0\n",
      "0.5 * 0.5 ~= [ 0.25] or = 0.25\n",
      "0.8 * 0.3 ~= [ 0.24] or = 0.24\n",
      "0.6 * 0.3 ~= [ 0.19] or = 0.18\n",
      "0.9 * 0.7 ~= [ 0.63] or = 0.63\n",
      "1.0 * 0.7 ~= [ 0.69] or = 0.7\n",
      "0.8 * 0.2 ~= [ 0.17] or = 0.16\n",
      "0.9 * 0.2 ~= [ 0.18] or = 0.18\n",
      "0.1 * 0.7 ~= [ 0.07] or = 0.07\n",
      "0.6 * 0.9 ~= [ 0.54] or = 0.54\n",
      "0.0 * 0.6 ~= [ 0.] or = 0.0\n",
      "1.0 * 0.1 ~= [ 0.11] or = 0.1\n",
      "0.0 * 0.5 ~= [ 0.] or = 0.0\n",
      "0.8 * 0.9 ~= [ 0.73] or = 0.72\n",
      "0.4 * 0.8 ~= [ 0.32] or = 0.32\n",
      "0.9 * 0.6 ~= [ 0.55] or = 0.54\n",
      "0.5 * 0.0 ~= [ 0.] or = 0.0\n",
      "0.5 * 0.9 ~= [ 0.45] or = 0.45\n",
      "0.2 * 0.5 ~= [ 0.11] or = 0.1\n",
      "0.0 * 0.5 ~= [ 0.01] or = 0.0\n",
      "1.0 * 0.7 ~= [ 0.7] or = 0.7\n",
      "0.7 * 0.0 ~= [ 0.] or = 0.0\n",
      "0.6 * 0.4 ~= [ 0.25] or = 0.24\n",
      "0.1 * 0.6 ~= [ 0.07] or = 0.06\n",
      "0.0 * 0.3 ~= [ 0.] or = 0.0\n",
      "0.9 * 0.4 ~= [ 0.36] or = 0.36\n",
      "0.4 * 1.0 ~= [ 0.41] or = 0.4\n",
      "0.9 * 0.4 ~= [ 0.37] or = 0.36\n",
      "0.4 * 0.2 ~= [ 0.08] or = 0.08\n",
      "0.2 * 0.3 ~= [ 0.06] or = 0.06\n",
      "0.1 * 1.0 ~= [ 0.11] or = 0.1\n",
      "0.8 * 0.1 ~= [ 0.07] or = 0.08\n",
      "0.5 * 1.0 ~= [ 0.49] or = 0.5\n",
      "0.6 * 0.7 ~= [ 0.42] or = 0.42\n",
      "0.6 * 0.0 ~= [ 0.] or = 0.0\n",
      "0.6 * 1.0 ~= [ 0.59] or = 0.6\n",
      "0.6 * 0.4 ~= [ 0.25] or = 0.24\n",
      "0.7 * 0.9 ~= [ 0.64] or = 0.63\n",
      "0.5 * 0.0 ~= [ 0.] or = 0.0\n",
      "0.6 * 0.9 ~= [ 0.54] or = 0.54\n",
      "1.0 * 0.4 ~= [ 0.39] or = 0.4\n",
      "0.9 * 0.6 ~= [ 0.53] or = 0.54\n",
      "0.8 * 0.0 ~= [ 0.] or = 0.0\n",
      "0.2 * 0.9 ~= [ 0.19] or = 0.18\n",
      "0.9 * 0.0 ~= [ 0.] or = 0.0\n",
      "0.1 * 0.5 ~= [ 0.06] or = 0.05\n",
      "0.2 * 1.0 ~= [ 0.19] or = 0.2\n",
      "0.2 * 0.5 ~= [ 0.09] or = 0.1\n",
      "0.1 * 0.8 ~= [ 0.08] or = 0.08\n",
      "0.6 * 0.9 ~= [ 0.53] or = 0.54\n",
      "0.6 * 0.9 ~= [ 0.54] or = 0.54\n",
      "0.2 * 0.2 ~= [ 0.05] or = 0.04\n",
      "0.0 * 1.0 ~= [ 0.] or = 0.0\n",
      "0.7 * 0.3 ~= [ 0.2] or = 0.21\n",
      "0.2 * 0.9 ~= [ 0.17] or = 0.18\n",
      "0.4 * 0.4 ~= [ 0.15] or = 0.16\n",
      "0.2 * 1.0 ~= [ 0.19] or = 0.2\n",
      "0.3 * 0.7 ~= [ 0.22] or = 0.21\n",
      "0.7 * 0.1 ~= [ 0.08] or = 0.07\n",
      "0.3 * 0.0 ~= [ 0.01] or = 0.0\n",
      "1.0 * 0.9 ~= [ 0.9] or = 0.9\n",
      "0.6 * 0.4 ~= [ 0.25] or = 0.24\n",
      "0.1 * 0.2 ~= [ 0.02] or = 0.02\n",
      "0.6 * 0.3 ~= [ 0.19] or = 0.18\n",
      "0.8 * 1.0 ~= [ 0.8] or = 0.8\n",
      "0.6 * 0.5 ~= [ 0.31] or = 0.3\n",
      "0.8 * 0.4 ~= [ 0.32] or = 0.32\n",
      "0.9 * 0.3 ~= [ 0.27] or = 0.27\n",
      "0.9 * 0.5 ~= [ 0.45] or = 0.45\n",
      "0.4 * 1.0 ~= [ 0.4] or = 0.4\n",
      "0.6 * 0.0 ~= [ 0.] or = 0.0\n",
      "0.3 * 0.6 ~= [ 0.17] or = 0.18\n",
      "0.3 * 0.9 ~= [ 0.26] or = 0.27\n",
      "0.5 * 0.1 ~= [ 0.04] or = 0.05\n",
      "1.0 * 0.2 ~= [ 0.2] or = 0.2\n",
      "1.0 * 0.4 ~= [ 0.41] or = 0.4\n",
      "0.8 * 0.6 ~= [ 0.47] or = 0.48\n",
      "0.6 * 0.5 ~= [ 0.3] or = 0.3\n",
      "0.3 * 0.1 ~= [ 0.03] or = 0.03\n",
      "0.9 * 0.8 ~= [ 0.71] or = 0.72\n",
      "0.8 * 0.1 ~= [ 0.08] or = 0.08\n",
      "0.5 * 0.6 ~= [ 0.3] or = 0.3\n",
      "0.5 * 0.4 ~= [ 0.19] or = 0.2\n",
      "0.0 * 0.5 ~= [ 0.01] or = 0.0\n",
      "0.7 * 0.0 ~= [ 0.01] or = 0.0\n",
      "0.7 * 0.4 ~= [ 0.28] or = 0.28\n",
      "0.2 * 0.0 ~= [ 0.] or = 0.0\n",
      "0.2 * 1.0 ~= [ 0.2] or = 0.2\n",
      "0.3 * 0.6 ~= [ 0.17] or = 0.18\n",
      "0.3 * 0.3 ~= [ 0.08] or = 0.09\n",
      "0.9 * 0.3 ~= [ 0.27] or = 0.27\n",
      "0.0 * 0.4 ~= [ 0.] or = 0.0\n",
      "0.7 * 0.8 ~= [ 0.57] or = 0.56\n",
      "0.5 * 0.4 ~= [ 0.2] or = 0.2\n",
      "1.0 * 0.8 ~= [ 0.81] or = 0.8\n",
      "0.6 * 0.2 ~= [ 0.13] or = 0.12\n",
      "0.3 * 0.3 ~= [ 0.09] or = 0.09\n"
     ]
    }
   ],
   "source": [
    "# data generation\n",
    "x = np.random.randint(11, size = (100,2))\n",
    "yO = []\n",
    "yTrueO = []\n",
    "for i in range(0, len(x)):\n",
    "    yO.append([ round(x[i,0] * x[i,1] + random.uniform(-1,1))])\n",
    "    yTrueO.append(x[i,0] * x[i,1])\n",
    "x = np.multiply(x, 0.1)\n",
    "yO = np.multiply(yO, 0.01)\n",
    "yTrueO = np.multiply(yTrueO, 0.01)\n",
    "\n",
    "for i in range(0, len(yO)):\n",
    "    if yO[i] >= 1:\n",
    "        yO[i] = 1\n",
    "    if yO[i] <= 0:\n",
    "        yO[i] = 0\n",
    "\n",
    "for i in range(0, len(x)):\n",
    "    print x[i,0], \"*\", x[i,1], \"~=\", yO[i] , \"or =\" , yTrueO[i]"
   ]
  },
  {
   "cell_type": "code",
   "execution_count": 2,
   "metadata": {
    "collapsed": false
   },
   "outputs": [
    {
     "name": "stdout",
     "output_type": "stream",
     "text": [
      "[ 0.4  0.6]\n",
      "[ 0.24]\n"
     ]
    }
   ],
   "source": [
    "xTest = np.array([4,6], dtype = float)\n",
    "xTest = xTest/ 10\n",
    "yExpect = np.array([0.24], dtype = float)\n",
    "print xTest\n",
    "print yExpect"
   ]
  },
  {
   "cell_type": "code",
   "execution_count": 3,
   "metadata": {
    "collapsed": false
   },
   "outputs": [
    {
     "name": "stdout",
     "output_type": "stream",
     "text": [
      "[[ 0.1  0.1]\n",
      " [ 0.2  0.4]\n",
      " [ 0.5  0.7]\n",
      " [ 0.2  0.8]\n",
      " [ 0.4  0.9]]\n",
      "[[ 0.01]\n",
      " [ 0.08]\n",
      " [ 0.35]\n",
      " [ 0.16]\n",
      " [ 0.36]]\n"
     ]
    }
   ],
   "source": [
    "oracleX = np.array(([1,1],[2,4],[5,7],[2,8],[4,9]), dtype = float)\n",
    "oracleY = np.array(([1], [8], [35], [16], [36]), dtype = float)\n",
    "oracleX = oracleX / 10\n",
    "oracleY = oracleY / 100\n",
    "print oracleX\n",
    "print oracleY"
   ]
  },
  {
   "cell_type": "code",
   "execution_count": 4,
   "metadata": {
    "collapsed": false
   },
   "outputs": [
    {
     "name": "stdout",
     "output_type": "stream",
     "text": [
      "[[ 0.1  0.9]\n",
      " [ 0.3  0.8]\n",
      " [ 0.5  0.7]\n",
      " [ 0.9  0.6]\n",
      " [ 0.2  0.5]\n",
      " [ 0.4  0.4]\n",
      " [ 0.6  0.3]\n",
      " [ 0.8  0.2]\n",
      " [ 0.7  0.1]]\n",
      "[[0.09], [0.24], [0.35], [0.54], [0.1], [0.16], [0.18], [0.16], [0.07]]\n"
     ]
    }
   ],
   "source": [
    "x1 = np.array(([1,9],[3,8],[5,7],[9,6],[2,5],[4,4],[6,3],[8,2],[7,1]), dtype = float)\n",
    "y1 = []\n",
    "for i in range(0,len(x1)):\n",
    "    y1.append([round((x1[i,0] * x1[i,1])/100, 2)])\n",
    "x1 = x1/ 10\n",
    "print x1 \n",
    "print y1"
   ]
  },
  {
   "cell_type": "code",
   "execution_count": 5,
   "metadata": {
    "collapsed": false
   },
   "outputs": [
    {
     "name": "stdout",
     "output_type": "stream",
     "text": [
      "Populating the interactive namespace from numpy and matplotlib\n"
     ]
    },
    {
     "name": "stderr",
     "output_type": "stream",
     "text": [
      "WARNING: pylab import has clobbered these variables: ['random', 'pylab']\n",
      "`%matplotlib` prevents importing * from pylab and numpy\n"
     ]
    },
    {
     "data": {
      "text/plain": [
       "<matplotlib.collections.PathCollection at 0xa71dfd0>"
      ]
     },
     "execution_count": 5,
     "metadata": {},
     "output_type": "execute_result"
    },
    {
     "name": "stderr",
     "output_type": "stream",
     "text": [
      "C:\\Users\\Owner\\Anaconda2\\lib\\site-packages\\matplotlib\\collections.py:590: FutureWarning: elementwise comparison failed; returning scalar instead, but in the future will perform elementwise comparison\n",
      "  if self._edgecolors == str('face'):\n"
     ]
    },
    {
     "data": {
      "image/png": "[encoded data removed]",
      "text/plain": [
       "<matplotlib.figure.Figure at 0x3cb1a90>"
      ]
     },
     "metadata": {},
     "output_type": "display_data"
    }
   ],
   "source": [
    "%pylab inline\n",
    "plt.subplot(321)\n",
    "plt.scatter(x1[:,0], y1)\n",
    "plt.subplot(322)\n",
    "plt.scatter(x1[:,1], y1)\n",
    "\n"
   ]
  },
  {
   "cell_type": "code",
   "execution_count": 6,
   "metadata": {
    "collapsed": false
   },
   "outputs": [
    {
     "name": "stdout",
     "output_type": "stream",
     "text": [
      "[[ 0.1  0.9]\n",
      " [ 0.3  0.8]\n",
      " [ 0.5  0.7]\n",
      " [ 0.9  0.6]\n",
      " [ 0.2  0.5]\n",
      " [ 0.4  0.4]\n",
      " [ 0.6  0.3]\n",
      " [ 0.8  0.2]\n",
      " [ 0.7  0.1]]\n",
      "[[0.1], [0.11], [0.12], [0.15], [0.07], [0.08], [0.09], [0.1], [0.08]]\n"
     ]
    }
   ],
   "source": [
    "x = np.array(([1,9],[3,8],[5,7],[9,6],[2,5],[4,4],[6,3],[8,2],[7,1]), dtype = float)\n",
    "y = []\n",
    "for i in range(0,len(x)):\n",
    "    y.append([round((x[i,0] + x[i,1] + random.uniform(-0.5,0.5))/100,2)])\n",
    "x = x/ 10\n",
    "print x\n",
    "print y"
   ]
  },
  {
   "cell_type": "code",
   "execution_count": 7,
   "metadata": {
    "collapsed": false
   },
   "outputs": [
    {
     "name": "stdout",
     "output_type": "stream",
     "text": [
      "Populating the interactive namespace from numpy and matplotlib\n"
     ]
    },
    {
     "data": {
      "text/plain": [
       "<matplotlib.collections.PathCollection at 0xb291908>"
      ]
     },
     "execution_count": 7,
     "metadata": {},
     "output_type": "execute_result"
    },
    {
     "data": {
      "image/png": "[encoded data removed]",
      "text/plain": [
       "<matplotlib.figure.Figure at 0xa8676d8>"
      ]
     },
     "metadata": {},
     "output_type": "display_data"
    }
   ],
   "source": [
    "%pylab inline\n",
    "plt.subplot(321)\n",
    "plt.scatter(x[:,0], y)\n",
    "plt.subplot(322)\n",
    "plt.scatter(x[:,1], y)\n",
    "\n"
   ]
  },
  {
   "cell_type": "code",
   "execution_count": 21,
   "metadata": {
    "collapsed": false
   },
   "outputs": [],
   "source": [
    "class NeuralNetwork(object):\n",
    "    def __init__ (self):\n",
    "        self.inputLayer = 2\n",
    "        self.hiddenLayer = 3\n",
    "        self.outputLayer = 1\n",
    "    \n",
    "        #initial weights\n",
    "        self.round12 = np.random.randn(self.inputLayer, self.hiddenLayer)\n",
    "        self.round23 = np.random.randn(self.hiddenLayer, self.outputLayer)\n",
    "        \n",
    "    def forward(self, x):\n",
    "        #multiplying by weights in round 12\n",
    "        self.hiddenVal = np.dot( x, self.round12)\n",
    "        \n",
    "        #applying sigmoid stuff to the hidden val\n",
    "        self.hiddenVal2 = self.sigmoid(self.hiddenVal)\n",
    "        \n",
    "        #multiplying weights in round23 \n",
    "        self.outVal = np.dot( self.hiddenVal2, self.round23)\n",
    "        \n",
    "        #applying sigmoid to outVal\n",
    "        self.yHat = self.sigmoid(self.outVal)      \n",
    "           \n",
    "        return self.yHat\n",
    "    \n",
    "    def sigmoid(self, x):\n",
    "        return 1/(1+np.exp(-x))\n",
    "    \n",
    "    def sigmoidPrime(self, x):\n",
    "        return np.exp(-x)/((1+np.exp(-x))**2)\n",
    "    \n",
    "    # not sure how this is useful\n",
    "    def residual(self, x, y):\n",
    "        self.yHat = self.forward(x)\n",
    "        r = (1.0/2.0)*(sum(( np.multiply(y,100)-(self.yHat)*100)**2))\n",
    "        return r\n",
    "    \n",
    "    #this will return the partial derivatives of round12 and round 23\n",
    "    def residualPrime(self, x, y):\n",
    "        self.yHat = self.forward(x)\n",
    "        \n",
    "                                                   # n = length of y which is the same as lenght of x\n",
    "\n",
    "        resi = y - self.yHat                       # this is a nx1\n",
    "        #print 'resi', resi\n",
    "        negaSigP = -self.sigmoidPrime(self.outVal) # this is nx1\n",
    "        #print 'negaSigP', negaSigP\n",
    "        temp = np.multiply( resi, negaSigP)        # still nx1\n",
    "        #print 'temp',temp\n",
    "        \n",
    "        #round23 derivative\n",
    "        self.dRound23 = np.dot(self.hiddenVal2.T, temp)    # dROund23  1x3\n",
    "        #print 'round23', self.dRound23\n",
    "        \n",
    "        lastTermSigP = self.sigmoidPrime(self.hiddenVal) # nx3\n",
    "        lastTerm = np.dot(temp , self.round23.T)   # nx1\n",
    "        temp2 = lastTerm * lastTermSigP             # nx1\n",
    "        \n",
    "        #round12 derivative \n",
    "        self.dRound12= np.dot(x.T, temp2)\n",
    "        \n",
    "        \n",
    "        return  self.dRound12, self.dRound23"
   ]
  },
  {
   "cell_type": "code",
   "execution_count": 27,
   "metadata": {
    "collapsed": false
   },
   "outputs": [],
   "source": [
    "NN = NeuralNetwork()"
   ]
  },
  {
   "cell_type": "code",
   "execution_count": 28,
   "metadata": {
    "collapsed": false
   },
   "outputs": [],
   "source": [
    "# this is for checking to see if the network can over fit the data\n",
    "for i in range(0,10000):\n",
    "    dR12, dR23 = NN.residualPrime(x,yO)\n",
    "    scalar = 0.5\n",
    "    NN.round12 = NN.round12 - scalar * dR12\n",
    "    NN.round23 = NN.round23 - scalar * dR23"
   ]
  },
  {
   "cell_type": "code",
   "execution_count": 33,
   "metadata": {
    "collapsed": false
   },
   "outputs": [
    {
     "name": "stdout",
     "output_type": "stream",
     "text": [
      "[ 0.894] [ 0.]\n",
      "[ 9.697] [ 12.]\n",
      "[ 42.504] [ 40.]\n",
      "[ 49.527] [ 100.]\n",
      "[ 31.666] [ 25.]\n",
      "[ 26.196] [ 24.]\n",
      "[ 18.331] [ 19.]\n",
      "[ 47.469] [ 63.]\n",
      "[ 47.965] [ 69.]\n",
      "[ 14.651] [ 17.]\n",
      "[ 18.093] [ 18.]\n",
      "[ 4.437] [ 7.]\n",
      "[ 46.417] [ 54.]\n",
      "[ 0.527] [ 0.]\n",
      "[ 9.886] [ 11.]\n",
      "[ 0.275] [ 0.]\n",
      "[ 48.573] [ 73.]\n",
      "[ 37.271] [ 32.]\n",
      "[ 45.75] [ 55.]\n",
      "[ 0.093] [ 0.]\n",
      "[ 43.805] [ 45.]\n",
      "[ 7.102] [ 11.]\n",
      "[ 0.275] [ 1.]\n",
      "[ 47.965] [ 70.]\n",
      "[ 0.471] [ 0.]\n",
      "[ 28.645] [ 25.]\n",
      "[ 3.11] [ 7.]\n",
      "[ 0.024] [ 0.]\n",
      "[ 37.61] [ 36.]\n",
      "[ 40.126] [ 41.]\n",
      "[ 37.61] [ 37.]\n",
      "[ 2.579] [ 8.]\n",
      "[ 1.254] [ 6.]\n",
      "[ 7.915] [ 11.]\n",
      "[ 5.039] [ 7.]\n",
      "[ 44.653] [ 49.]\n",
      "[ 43.708] [ 42.]\n",
      "[ 0.224] [ 0.]\n",
      "[ 47.049] [ 59.]\n",
      "[ 28.645] [ 25.]\n",
      "[ 47.813] [ 64.]\n",
      "[ 0.093] [ 0.]\n",
      "[ 46.417] [ 54.]\n",
      "[ 39.465] [ 39.]\n",
      "[ 45.75] [ 53.]\n",
      "[ 0.894] [ 0.]\n",
      "[ 18.29] [ 19.]\n",
      "[ 1.566] [ 0.]\n",
      "[ 1.82] [ 6.]\n",
      "[ 19.983] [ 19.]\n",
      "[ 7.102] [ 9.]\n",
      "[ 5.685] [ 8.]\n",
      "[ 46.417] [ 53.]\n",
      "[ 46.417] [ 54.]\n",
      "[ 0.242] [ 5.]\n",
      "[ 1.766] [ 0.]\n",
      "[ 22.542] [ 20.]\n",
      "[ 18.29] [ 17.]\n",
      "[ 17.077] [ 15.]\n",
      "[ 19.983] [ 19.]\n",
      "[ 25.549] [ 22.]\n",
      "[ 3.244] [ 8.]\n",
      "[ 0.008] [ 1.]\n",
      "[ 49.26] [ 90.]\n",
      "[ 28.645] [ 25.]\n",
      "[ 0.034] [ 2.]\n",
      "[ 18.331] [ 19.]\n",
      "[ 48.964] [ 80.]\n",
      "[ 36.135] [ 31.]\n",
      "[ 35.325] [ 32.]\n",
      "[ 29.363] [ 27.]\n",
      "[ 42.747] [ 45.]\n",
      "[ 40.126] [ 40.]\n",
      "[ 0.224] [ 0.]\n",
      "[ 21.515] [ 17.]\n",
      "[ 30.498] [ 26.]\n",
      "[ 0.967] [ 4.]\n",
      "[ 21.444] [ 20.]\n",
      "[ 39.465] [ 41.]\n",
      "[ 44.718] [ 47.]\n",
      "[ 36.135] [ 30.]\n",
      "[ 0.122] [ 3.]\n",
      "[ 48.446] [ 71.]\n",
      "[ 5.039] [ 8.]\n",
      "[ 37.061] [ 30.]\n",
      "[ 23.606] [ 19.]\n",
      "[ 0.275] [ 1.]\n",
      "[ 0.471] [ 1.]\n",
      "[ 32.429] [ 28.]\n",
      "[ 0.001] [ 0.]\n",
      "[ 19.983] [ 20.]\n",
      "[ 21.515] [ 17.]\n",
      "[ 4.062] [ 8.]\n",
      "[ 29.363] [ 27.]\n",
      "[ 0.104] [ 0.]\n",
      "[ 46.995] [ 57.]\n",
      "[ 23.606] [ 20.]\n",
      "[ 48.792] [ 81.]\n",
      "[ 7.937] [ 13.]\n",
      "[ 4.062] [ 9.]\n",
      "residual 5038.77288861\n"
     ]
    }
   ],
   "source": [
    "yHat = np.around(NN.forward(x)*100, 3)\n",
    "temp = np.multiply(yO,100)\n",
    "for i in range(0, len(temp)):\n",
    "    print yHat[i], temp[i]\n",
    "print 'residual',  NN.residual(x, yO)"
   ]
  },
  {
   "cell_type": "code",
   "execution_count": 12,
   "metadata": {
    "collapsed": false
   },
   "outputs": [],
   "source": [
    "class EpicTrainor(object):\n",
    "    def __init__(self, NN, x, y):\n",
    "        self.NN = NN\n",
    "        \n",
    "        self.x = x\n",
    "        self.y = y\n",
    "        \n",
    "        self.oracleX = np.array(([1,1],[4,2],[7,5],[2,8],[4,9]), dtype = float)\n",
    "        self.oracleX = self.oracleX / 10\n",
    "        self.oracleY = np.array(([2], [6], [12], [10], [13]), dtype = float)\n",
    "        self.oracleY = self.oracleY / 100\n",
    "    \n",
    "        self.curResi = self.findResi()\n",
    "        self.newResi = 1\n",
    "        self.scale = 1\n",
    "    \n",
    "    def setScale(self, scale):\n",
    "        self.scale = scale\n",
    "    \n",
    "    def findResi(self):\n",
    "        return NN.residual(self.oracleX, self.oracleY)\n",
    "    \n",
    "    def storeCurVal(self):\n",
    "        self.Round12 = NN.round12\n",
    "        self.Round23 = NN.round23\n",
    "    \n",
    "    def getChange(self):\n",
    "        self.dRound12 , self.dRound23 = NN.residualPrime(self.x,self.y)\n",
    "     \n",
    "    def activateChange(self):\n",
    "        NN.round12 = NN.round12 - self.scale * self.dRound12\n",
    "        NN.round23 = NN.round23 - self.scale * self.dRound23\n",
    "        \n",
    "    def revertChange(self):\n",
    "        NN.round12 = self.Round12\n",
    "        NN.round23 = self.Round23\n",
    "    \n",
    "    def train(self):\n",
    "                \n",
    "        self.storeCurVal()\n",
    "        \n",
    "        self.getChange()\n",
    "        \n",
    "        self.activateChange()\n",
    "        \n",
    "        self.newResi = self.findResi()\n",
    "        print self.newResi\n",
    "        \n",
    "        if self.newResi > self.curResi or np.isclose(self.newResi, self.curResi, rtol=1e-06, atol=1e-08, equal_nan=False):\n",
    "            self.revertChange()\n",
    "            return False\n",
    "        else:\n",
    "            self.curResi = self.newResi\n",
    "        return True\n",
    "        \n",
    "        "
   ]
  },
  {
   "cell_type": "code",
   "execution_count": 13,
   "metadata": {
    "collapsed": false
   },
   "outputs": [],
   "source": [
    "trainor = EpicTrainor(NN, x1, y1)"
   ]
  },
  {
   "cell_type": "code",
   "execution_count": 14,
   "metadata": {
    "collapsed": false,
    "scrolled": true
   },
   "outputs": [
    {
     "name": "stdout",
     "output_type": "stream",
     "text": [
      "505.955627884\n",
      "1\n"
     ]
    }
   ],
   "source": [
    "boolean = True\n",
    "n = 0\n",
    "while (boolean and n < 1000):\n",
    "    boolean = trainor.train()\n",
    "    n = n + 1\n",
    "print n"
   ]
  },
  {
   "cell_type": "code",
   "execution_count": 15,
   "metadata": {
    "collapsed": false
   },
   "outputs": [
    {
     "data": {
      "text/plain": [
       "array([[ 0.09],\n",
       "       [ 0.23],\n",
       "       [ 0.35],\n",
       "       [ 0.44],\n",
       "       [ 0.1 ],\n",
       "       [ 0.18],\n",
       "       [ 0.2 ],\n",
       "       [ 0.17],\n",
       "       [ 0.06]])"
      ]
     },
     "execution_count": 15,
     "metadata": {},
     "output_type": "execute_result"
    }
   ],
   "source": [
    "np.round(NN.forward(x1),2)"
   ]
  },
  {
   "cell_type": "code",
   "execution_count": 16,
   "metadata": {
    "collapsed": false
   },
   "outputs": [
    {
     "data": {
      "text/plain": [
       "[[0.09], [0.24], [0.35], [0.54], [0.1], [0.16], [0.18], [0.16], [0.07]]"
      ]
     },
     "execution_count": 16,
     "metadata": {},
     "output_type": "execute_result"
    }
   ],
   "source": [
    "y1"
   ]
  },
  {
   "cell_type": "code",
   "execution_count": 19,
   "metadata": {
    "collapsed": false
   },
   "outputs": [
    {
     "name": "stdout",
     "output_type": "stream",
     "text": [
      "[[ 0.  ]\n",
      " [ 0.07]\n",
      " [ 0.35]\n",
      " [ 0.15]\n",
      " [ 0.32]]\n",
      "[[ 0.1  0.1]\n",
      " [ 0.2  0.4]\n",
      " [ 0.5  0.7]\n",
      " [ 0.2  0.8]\n",
      " [ 0.4  0.9]]\n"
     ]
    }
   ],
   "source": [
    "print np.round(NN.forward(oracleX), 2) \n",
    "print oracleX"
   ]
  },
  {
   "cell_type": "code",
   "execution_count": 18,
   "metadata": {
    "collapsed": false
   },
   "outputs": [
    {
     "name": "stdout",
     "output_type": "stream",
     "text": [
      "[ 0.27]\n",
      "[ 0.4  0.6]\n"
     ]
    }
   ],
   "source": [
    "print np.round(NN.forward(xTest),2)\n",
    "print xTest"
   ]
  },
  {
   "cell_type": "code",
   "execution_count": null,
   "metadata": {
    "collapsed": true
   },
   "outputs": [],
   "source": []
  },
  {
   "cell_type": "code",
   "execution_count": null,
   "metadata": {
    "collapsed": true
   },
   "outputs": [],
   "source": []
  }
 ],
 "metadata": {
  "kernelspec": {
   "display_name": "Python 2",
   "language": "python",
   "name": "python2"
  },
  "language_info": {
   "codemirror_mode": {
    "name": "ipython",
    "version": 2
   },
   "file_extension": ".py",
   "mimetype": "text/x-python",
   "name": "python",
   "nbconvert_exporter": "python",
   "pygments_lexer": "ipython2",
   "version": "2.7.10"
  }
 },
 "nbformat": 4,
 "nbformat_minor": 0
}
