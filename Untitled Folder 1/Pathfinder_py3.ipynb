{
 "cells": [
  {
   "cell_type": "code",
   "execution_count": 14,
   "metadata": {
    "collapsed": true
   },
   "outputs": [],
   "source": [
    "import numpy as np\n",
    "import math\n",
    "import string"
   ]
  },
  {
   "cell_type": "code",
   "execution_count": 30,
   "metadata": {
    "collapsed": false
   },
   "outputs": [],
   "source": [
    "distance = np.random.rand(10,10)\n",
    "distance = distance - distance.T\n",
    "distance = distance**2 * 100\n",
    "\n",
    "for i in range(0,5):\n",
    "    for i2 in range(5):\n",
    "        index1 = np.random.randint(0,9)\n",
    "        index2 = np.random.randint(0,9)\n",
    "        distance[index1][index2] = 0\n",
    "        distance[index2][index1] = 0"
   ]
  },
  {
   "cell_type": "code",
   "execution_count": 31,
   "metadata": {
    "collapsed": false
   },
   "outputs": [
    {
     "name": "stdout",
     "output_type": "stream",
     "text": [
      "[[  0.   0.  34.  53.   0.   0.  27.   5.   0.   0.]\n",
      " [  0.   0.   0.   0.   0.   0.  34.   0.   0.  47.]\n",
      " [ 34.   0.   0.  11.  59.   0.   0.   0.   0.  52.]\n",
      " [ 53.   0.  11.   0.   0.   0.   0.   0.   0.  16.]\n",
      " [  0.   0.  59.   0.   0.   0.   5.   0.  21.  27.]\n",
      " [  0.   0.   0.   0.   0.   0.  43.   0.  10.  19.]\n",
      " [ 27.  34.   0.   0.   5.  43.   0.   1.   0.   0.]\n",
      " [  5.   0.   0.   0.   0.   0.   1.   0.   0.  26.]\n",
      " [  0.   0.   0.   0.  21.  10.   0.   0.   0.   1.]\n",
      " [  0.  47.  52.  16.  27.  19.   0.  26.   1.   0.]]\n"
     ]
    }
   ],
   "source": [
    "distance = np.round(distance)\n",
    "print( distance)"
   ]
  },
  {
   "cell_type": "code",
   "execution_count": 70,
   "metadata": {
    "collapsed": true
   },
   "outputs": [],
   "source": [
    "#status 1 = undiscovered 0 = frontier and -1 = discovered\n",
    "class Node(object):\n",
    "    def __init__(self, name):\n",
    "        self.name = name\n",
    "        self.distance = math.inf\n",
    "        self.parent = None\n",
    "        self.status = 1\n",
    "    def __str__(self):\n",
    "        return str(self.name) + \", \" + \"status:\"+ str(self.status)+ \", \" + str(self.distance) + \", \" + str(self.parent) \n",
    "    #def count(self):\n",
    "    #    return self.distance"
   ]
  },
  {
   "cell_type": "code",
   "execution_count": 160,
   "metadata": {
    "collapsed": true
   },
   "outputs": [],
   "source": [
    "def exploreNode(nodes, index):\n",
    "    \n",
    "    for i in range(len(distance)):\n",
    "        \n",
    "        if (nodes[i].status is not -1) and (not np.equal(distance[index][i], 0)):\n",
    "            \n",
    "            distToNode = nodes[index].distance + distance[index][i]\n",
    "            if distToNode < nodes[i].distance:\n",
    "                nodes[i].distance = distToNode\n",
    "                nodes[i].parent = nodes[index].name\n",
    "                nodes[i].status = 0\n",
    "    \n",
    "    nodes[index].status = -1\n",
    "        "
   ]
  },
  {
   "cell_type": "code",
   "execution_count": 161,
   "metadata": {
    "collapsed": true
   },
   "outputs": [],
   "source": [
    "def status(nodes):\n",
    "    for node in nodes:\n",
    "        print(node)"
   ]
  },
  {
   "cell_type": "code",
   "execution_count": 163,
   "metadata": {
    "collapsed": false
   },
   "outputs": [],
   "source": [
    "def pathFinder(nodes, start, end):\n",
    "    nodes[start].status = 0\n",
    "    nodes[start].distance = 0\n",
    "    queue = sorted(nodes, key=lambda x:x.distance, reverse=False)\n",
    "    #status(queue)\n",
    "    while nodes[end].status is not -1:\n",
    "        #print('hi')\n",
    "        for node in queue:\n",
    "            if node.status is not -1:\n",
    "                #print(node.name)\n",
    "                exploreNode(nodes, node.name)\n",
    "                queue = sorted(nodes, key=lambda x: x.distance, reverse=False)\n",
    "                #status(queue)\n",
    "                break\n",
    "    return  nodes[end].distance     "
   ]
  },
  {
   "cell_type": "code",
   "execution_count": 66,
   "metadata": {
    "collapsed": true
   },
   "outputs": [],
   "source": [
    "#names = list(string.ascii_lowercase)\n",
    "#names = names[0:10]\n",
    "names = range(0,10)"
   ]
  },
  {
   "cell_type": "code",
   "execution_count": 164,
   "metadata": {
    "collapsed": false
   },
   "outputs": [],
   "source": [
    "nodes = []\n",
    "for name in names:\n",
    "    node = Node(name)\n",
    "    nodes.append(node)"
   ]
  },
  {
   "cell_type": "code",
   "execution_count": 167,
   "metadata": {
    "collapsed": false
   },
   "outputs": [
    {
     "name": "stdout",
     "output_type": "stream",
     "text": [
      "0, status:1, inf, None\n",
      "1, status:1, inf, None\n",
      "2, status:1, inf, None\n",
      "3, status:1, inf, None\n",
      "4, status:1, inf, None\n",
      "5, status:1, inf, None\n",
      "6, status:1, inf, None\n",
      "7, status:1, inf, None\n",
      "8, status:1, inf, None\n",
      "9, status:1, inf, None\n"
     ]
    }
   ],
   "source": [
    "status(nodes)"
   ]
  },
  {
   "cell_type": "code",
   "execution_count": 170,
   "metadata": {
    "collapsed": false,
    "scrolled": false
   },
   "outputs": [
    {
     "data": {
      "text/plain": [
       "32.0"
      ]
     },
     "execution_count": 170,
     "metadata": {},
     "output_type": "execute_result"
    }
   ],
   "source": [
    "pathFinder(nodes, 0,8)"
   ]
  },
  {
   "cell_type": "code",
   "execution_count": null,
   "metadata": {
    "collapsed": true
   },
   "outputs": [],
   "source": []
  }
 ],
 "metadata": {
  "kernelspec": {
   "display_name": "Python 3",
   "language": "python",
   "name": "python3"
  },
  "language_info": {
   "codemirror_mode": {
    "name": "ipython",
    "version": 3
   },
   "file_extension": ".py",
   "mimetype": "text/x-python",
   "name": "python",
   "nbconvert_exporter": "python",
   "pygments_lexer": "ipython3",
   "version": "3.5.1"
  }
 },
 "nbformat": 4,
 "nbformat_minor": 0
}
